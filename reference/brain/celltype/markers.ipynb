{
  "nbformat": 4,
  "nbformat_minor": 0,
  "metadata": {
    "colab": {
      "provenance": [],
      "authorship_tag": "ABX9TyNkfY9iDFnueHfguriAND39",
      "include_colab_link": true
    },
    "kernelspec": {
      "name": "python3",
      "display_name": "Python 3"
    },
    "language_info": {
      "name": "python"
    }
  },
  "cells": [
    {
      "cell_type": "markdown",
      "metadata": {
        "id": "view-in-github",
        "colab_type": "text"
      },
      "source": [
        "<a href=\"https://colab.research.google.com/github/sbooeshaghi/azucar/blob/main/reference/brain/celltype/markers.ipynb\" target=\"_parent\"><img src=\"https://colab.research.google.com/assets/colab-badge.svg\" alt=\"Open In Colab\"/></a>"
      ]
    },
    {
      "cell_type": "code",
      "source": [
        "!pip install --quiet anndata"
      ],
      "metadata": {
        "colab": {
          "base_uri": "https://localhost:8080/"
        },
        "id": "lJCEORD2x9jE",
        "outputId": "2fc55b26-bd9c-4a37-e682-1e729f10d47d"
      },
      "execution_count": 3,
      "outputs": [
        {
          "output_type": "stream",
          "name": "stdout",
          "text": [
            "\u001b[?25l\r\u001b[K     |███▍                            | 10 kB 20.1 MB/s eta 0:00:01\r\u001b[K     |██████▉                         | 20 kB 7.1 MB/s eta 0:00:01\r\u001b[K     |██████████▎                     | 30 kB 9.4 MB/s eta 0:00:01\r\u001b[K     |█████████████▋                  | 40 kB 4.4 MB/s eta 0:00:01\r\u001b[K     |█████████████████               | 51 kB 4.4 MB/s eta 0:00:01\r\u001b[K     |████████████████████▌           | 61 kB 5.2 MB/s eta 0:00:01\r\u001b[K     |███████████████████████▉        | 71 kB 5.4 MB/s eta 0:00:01\r\u001b[K     |███████████████████████████▎    | 81 kB 5.5 MB/s eta 0:00:01\r\u001b[K     |██████████████████████████████▊ | 92 kB 6.1 MB/s eta 0:00:01\r\u001b[K     |████████████████████████████████| 96 kB 2.8 MB/s \n",
            "\u001b[?25h"
          ]
        }
      ]
    },
    {
      "cell_type": "code",
      "source": [
        "!curl -Ls https://github.com/sbooeshaghi/azucar/blob/main/reference/brain/celltype/markers.h5ad?raw=true > markers.h5ad"
      ],
      "metadata": {
        "id": "SY0m4i0KxfX4"
      },
      "execution_count": 1,
      "outputs": []
    },
    {
      "cell_type": "code",
      "execution_count": 40,
      "metadata": {
        "id": "4sAoUfS1rbi0"
      },
      "outputs": [],
      "source": [
        "import anndata\n",
        "import pandas as pd\n",
        "import numpy as np\n",
        "from scipy.sparse import csr_matrix\n",
        "import matplotlib.pyplot as plt\n",
        "from collections import defaultdict\n",
        "from sklearn.preprocessing import normalize, scale\n",
        "import glob\n",
        "\n",
        "import numpy.lib.recfunctions as rf\n",
        "\n",
        "def nd(arr):\n",
        "    return np.asarray(arr).reshape(-1)\n",
        "\n",
        "fsize=20\n",
        "\n",
        "plt.rcParams.update({'font.size': fsize})\n",
        "%config InlineBackend.figure_format = 'retina'"
      ]
    },
    {
      "cell_type": "code",
      "source": [
        "adata = anndata.read_h5ad(\"markers.h5ad\")"
      ],
      "metadata": {
        "id": "3Wml9_0NyLvy"
      },
      "execution_count": 6,
      "outputs": []
    },
    {
      "cell_type": "code",
      "source": [
        "adata"
      ],
      "metadata": {
        "colab": {
          "base_uri": "https://localhost:8080/"
        },
        "id": "_k9ufc3MzDfs",
        "outputId": "a3bc53da-e282-417b-f485-ac4cea5b9e08"
      },
      "execution_count": 18,
      "outputs": [
        {
          "output_type": "execute_result",
          "data": {
            "text/plain": [
              "AnnData object with n_obs × n_vars = 5690 × 39\n",
              "    obs: 'barcodes', 'celltype'"
            ]
          },
          "metadata": {},
          "execution_count": 18
        }
      ]
    },
    {
      "cell_type": "code",
      "source": [
        "mg_mean = pd.DataFrame(adata.X, index=adata.obs[\"celltype\"], columns=adata.var.index.values).groupby(\"celltype\").mean()\n",
        "top_idx = np.argsort(mg_mean.values, 1)[:,-10:]"
      ],
      "metadata": {
        "id": "_iKCcOJmyAtF"
      },
      "execution_count": 66,
      "outputs": []
    },
    {
      "cell_type": "code",
      "source": [
        "# positive value and top 10\n",
        "d = defaultdict(list)\n",
        "for idx, (ct, t) in enumerate(zip(mg_mean.index.values, top_idx)):\n",
        "  mask = mg_mean.loc[ct].values[t] > 0\n",
        "  d[ct] = adata.var.index.values[t][mask]"
      ],
      "metadata": {
        "id": "NLnjL53uyRvY"
      },
      "execution_count": 75,
      "outputs": []
    },
    {
      "cell_type": "code",
      "source": [
        "[len(v) for k,v in d.items()]"
      ],
      "metadata": {
        "colab": {
          "base_uri": "https://localhost:8080/"
        },
        "id": "nCorIWlA1Nh9",
        "outputId": "458c163c-481c-460d-eaf2-6e1e15e68a77"
      },
      "execution_count": 77,
      "outputs": [
        {
          "output_type": "execute_result",
          "data": {
            "text/plain": [
              "[6, 8, 5, 7, 9, 5, 10, 5, 5, 4, 8, 6, 6, 9, 6, 5, 5, 6, 8, 6, 7, 3, 6, 6]"
            ]
          },
          "metadata": {},
          "execution_count": 77
        }
      ]
    },
    {
      "cell_type": "code",
      "source": [
        "d"
      ],
      "metadata": {
        "colab": {
          "base_uri": "https://localhost:8080/"
        },
        "id": "D48keJqrz8bq",
        "outputId": "c001e258-c48e-4710-c7e5-96ba9583d181"
      },
      "execution_count": 78,
      "outputs": [
        {
          "output_type": "execute_result",
          "data": {
            "text/plain": [
              "defaultdict(list,\n",
              "            {'Astro1': array(['Olig1', 'Gfap', 'Hepacam', 'Cxcl14', 'Apoe', 'Aldoc'],\n",
              "                   dtype=object),\n",
              "             'Astro2': array(['Plp1', 'Olig1', 'Reln', 'Cxcl14', 'Hepacam', 'Apoe', 'Aldoc',\n",
              "                    'Gfap'], dtype=object),\n",
              "             'COPs': array(['Olig1', 'C1ql1', 'Olig2', 'Neu4', 'Plp1'], dtype=object),\n",
              "             'ChorPlex': array(['Hydin', 'Riiad1', 'Apoe', 'Foxj1', 'Slc4a5', 'Sostdc1', 'Aqp1'],\n",
              "                   dtype=object),\n",
              "             'DivOPCs': array(['Neu4', 'Cxcl14', 'C1ql1', 'Olig1', 'Olig2', 'Rrm2', 'Pdgfra',\n",
              "                    'Top2a', 'Ccna2'], dtype=object),\n",
              "             'Endo': array(['Top2a', 'Ccna2', 'Kcnj8', 'Ptprb', 'Cldn5'], dtype=object),\n",
              "             'Ependymal': array(['Aldoc', 'Gfap', 'Reln', 'Hepacam', 'Top2a', 'Apoe', 'Npy',\n",
              "                    'Hydin', 'Riiad1', 'Foxj1'], dtype=object),\n",
              "             'ExcitNeuron1': array(['Npy', 'Dcn', 'Bhlhe22', 'Grin2b', 'Neurod6'], dtype=object),\n",
              "             'ExcitNeuron2': array(['Dcn', 'Igfbpl1', 'Bhlhe22', 'Neurod6', 'Grin2b'], dtype=object),\n",
              "             'ExcitNeuron3': array(['Bhlhe22', 'Grin2b', 'Calb2', 'Neurod6'], dtype=object),\n",
              "             'GranuleNB1': array(['Npy', 'Dcn', 'Sst', 'Igfbpl1', 'Neurod6', 'Neurod1', 'Grin2b',\n",
              "                    'Bhlhe22'], dtype=object),\n",
              "             'GranuleNB2': array(['Grin2b', 'Neurod6', 'Bhlhe22', 'Calb2', 'Igfbpl1', 'Neurod1'],\n",
              "                   dtype=object),\n",
              "             'GranuleNB3': array(['Hydin', 'Bhlhe22', 'Neurod6', 'Calb2', 'Neurod1', 'Igfbpl1'],\n",
              "                   dtype=object),\n",
              "             'InhibNeuron1': array(['Cxcl14', 'Grin2b', 'Reln', 'Sp9', 'Sst', 'Npy', 'Slc32a1', 'Gad2',\n",
              "                    'Lhx6'], dtype=object),\n",
              "             'InhibNeuron2': array(['Reln', 'Grin2b', 'Igfbpl1', 'Slc32a1', 'Gad2', 'Sp9'],\n",
              "                   dtype=object),\n",
              "             'InhibNeuron3': array(['Hydin', 'Bhlhe22', 'C1ql1', 'Calb2', 'Reln'], dtype=object),\n",
              "             'Macrophages': array(['Top2a', 'Reln', 'Tmem119', 'Trem2', 'Apoe'], dtype=object),\n",
              "             'Microglia': array(['Ccna2', 'Rrm2', 'Top2a', 'Apoe', 'Tmem119', 'Trem2'], dtype=object),\n",
              "             'NIPCs': array(['Sp9', 'Olig1', 'Igfbpl1', 'Hepacam', 'Olig2', 'Top2a', 'Ccna2',\n",
              "                    'Rrm2'], dtype=object),\n",
              "             'OPCs': array(['Cxcl14', 'Neu4', 'Olig2', 'Olig1', 'C1ql1', 'Pdgfra'],\n",
              "                   dtype=object),\n",
              "             'RGL': array(['Foxj1', 'Cxcl14', 'Hepacam', 'Apoe', 'Gfap', 'Riiad1', 'Aldoc'],\n",
              "                   dtype=object),\n",
              "             'Vasc1': array(['Ccna2', 'Top2a', 'Kcnj8'], dtype=object),\n",
              "             'Vasc2': array(['Ptprb', 'Aqp1', 'Apoe', 'Pdgfra', 'Tmem119', 'Dcn'], dtype=object),\n",
              "             'Vasc3': array(['Npy', 'Apoe', 'Pdgfra', 'Kcnj8', 'Tmem119', 'Dcn'], dtype=object)})"
            ]
          },
          "metadata": {},
          "execution_count": 78
        }
      ]
    },
    {
      "cell_type": "code",
      "source": [],
      "metadata": {
        "id": "zULfJfoG2gUJ"
      },
      "execution_count": null,
      "outputs": []
    }
  ]
}