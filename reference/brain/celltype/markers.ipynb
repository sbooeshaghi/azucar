{
  "nbformat": 4,
  "nbformat_minor": 0,
  "metadata": {
    "colab": {
      "provenance": [],
      "authorship_tag": "ABX9TyNklJ7D/wtoOikbneqNOrLo",
      "include_colab_link": true
    },
    "kernelspec": {
      "name": "python3",
      "display_name": "Python 3"
    },
    "language_info": {
      "name": "python"
    }
  },
  "cells": [
    {
      "cell_type": "markdown",
      "metadata": {
        "id": "view-in-github",
        "colab_type": "text"
      },
      "source": [
        "<a href=\"https://colab.research.google.com/github/sbooeshaghi/azucar/blob/main/reference/brain/celltype/markers.ipynb\" target=\"_parent\"><img src=\"https://colab.research.google.com/assets/colab-badge.svg\" alt=\"Open In Colab\"/></a>"
      ]
    },
    {
      "cell_type": "code",
      "source": [
        "!pip install --quiet anndata"
      ],
      "metadata": {
        "colab": {
          "base_uri": "https://localhost:8080/"
        },
        "id": "lJCEORD2x9jE",
        "outputId": "38a9abe0-9c46-4af5-be72-2b7dbe94a282"
      },
      "execution_count": 1,
      "outputs": [
        {
          "output_type": "stream",
          "name": "stdout",
          "text": [
            "\u001b[?25l\r\u001b[K     |███▍                            | 10 kB 19.1 MB/s eta 0:00:01\r\u001b[K     |██████▉                         | 20 kB 2.4 MB/s eta 0:00:01\r\u001b[K     |██████████▎                     | 30 kB 3.5 MB/s eta 0:00:01\r\u001b[K     |█████████████▋                  | 40 kB 4.5 MB/s eta 0:00:01\r\u001b[K     |█████████████████               | 51 kB 4.8 MB/s eta 0:00:01\r\u001b[K     |████████████████████▌           | 61 kB 5.6 MB/s eta 0:00:01\r\u001b[K     |███████████████████████▉        | 71 kB 5.6 MB/s eta 0:00:01\r\u001b[K     |███████████████████████████▎    | 81 kB 6.3 MB/s eta 0:00:01\r\u001b[K     |██████████████████████████████▊ | 92 kB 6.1 MB/s eta 0:00:01\r\u001b[K     |████████████████████████████████| 96 kB 2.7 MB/s \n",
            "\u001b[?25h"
          ]
        }
      ]
    },
    {
      "cell_type": "code",
      "source": [
        "!curl -Ls https://github.com/sbooeshaghi/azucar/blob/main/reference/brain/celltype/markers.h5ad?raw=true > markers.h5ad"
      ],
      "metadata": {
        "id": "SY0m4i0KxfX4"
      },
      "execution_count": 2,
      "outputs": []
    },
    {
      "cell_type": "code",
      "execution_count": 3,
      "metadata": {
        "id": "4sAoUfS1rbi0"
      },
      "outputs": [],
      "source": [
        "import anndata\n",
        "import json\n",
        "import pandas as pd\n",
        "import numpy as np\n",
        "from scipy.sparse import csr_matrix\n",
        "import matplotlib.pyplot as plt\n",
        "from collections import defaultdict\n",
        "from sklearn.preprocessing import normalize, scale\n",
        "import glob\n",
        "\n",
        "import numpy.lib.recfunctions as rf\n",
        "\n",
        "def nd(arr):\n",
        "    return np.asarray(arr).reshape(-1)\n",
        "\n",
        "fsize=20\n",
        "\n",
        "plt.rcParams.update({'font.size': fsize})\n",
        "%config InlineBackend.figure_format = 'retina'"
      ]
    },
    {
      "cell_type": "code",
      "source": [
        "adata = anndata.read_h5ad(\"markers.h5ad\")"
      ],
      "metadata": {
        "id": "3Wml9_0NyLvy"
      },
      "execution_count": 4,
      "outputs": []
    },
    {
      "cell_type": "code",
      "source": [
        "adata"
      ],
      "metadata": {
        "colab": {
          "base_uri": "https://localhost:8080/"
        },
        "id": "_k9ufc3MzDfs",
        "outputId": "5bdb39ef-3aec-4201-aab2-bf07d92b545b"
      },
      "execution_count": 5,
      "outputs": [
        {
          "output_type": "execute_result",
          "data": {
            "text/plain": [
              "AnnData object with n_obs × n_vars = 5690 × 39\n",
              "    obs: 'barcodes', 'celltype'"
            ]
          },
          "metadata": {},
          "execution_count": 5
        }
      ]
    },
    {
      "cell_type": "code",
      "source": [
        "mg_mean = pd.DataFrame(adata.X, index=adata.obs[\"celltype\"], columns=adata.var.index.values).groupby(\"celltype\").mean()\n",
        "top_idx = np.argsort(mg_mean.values, 1)[:,-10:]"
      ],
      "metadata": {
        "id": "_iKCcOJmyAtF"
      },
      "execution_count": 6,
      "outputs": []
    },
    {
      "cell_type": "code",
      "source": [
        "# positive value and top 10\n",
        "d = defaultdict(list)\n",
        "for idx, (ct, t) in enumerate(zip(mg_mean.index.values, top_idx)):\n",
        "  mask = mg_mean.loc[ct].values[t] > 0\n",
        "  d[ct] = adata.var.index.values[t][mask]"
      ],
      "metadata": {
        "id": "NLnjL53uyRvY"
      },
      "execution_count": 7,
      "outputs": []
    },
    {
      "cell_type": "code",
      "source": [
        "[len(v) for k,v in d.items()]"
      ],
      "metadata": {
        "colab": {
          "base_uri": "https://localhost:8080/"
        },
        "id": "nCorIWlA1Nh9",
        "outputId": "053e3055-6acb-4570-c0a4-278d41277ab4"
      },
      "execution_count": 8,
      "outputs": [
        {
          "output_type": "execute_result",
          "data": {
            "text/plain": [
              "[6, 8, 5, 7, 9, 5, 10, 5, 5, 4, 8, 6, 6, 9, 6, 5, 5, 6, 8, 6, 7, 3, 6, 6]"
            ]
          },
          "metadata": {},
          "execution_count": 8
        }
      ]
    },
    {
      "cell_type": "code",
      "source": [
        "d"
      ],
      "metadata": {
        "colab": {
          "base_uri": "https://localhost:8080/"
        },
        "id": "D48keJqrz8bq",
        "outputId": "63185c01-98c5-44b2-9ff9-3bc36fddd9ef"
      },
      "execution_count": 9,
      "outputs": [
        {
          "output_type": "execute_result",
          "data": {
            "text/plain": [
              "defaultdict(list,\n",
              "            {'Astro1': array(['Olig1', 'Gfap', 'Hepacam', 'Cxcl14', 'Apoe', 'Aldoc'],\n",
              "                   dtype=object),\n",
              "             'Astro2': array(['Plp1', 'Olig1', 'Reln', 'Cxcl14', 'Hepacam', 'Apoe', 'Aldoc',\n",
              "                    'Gfap'], dtype=object),\n",
              "             'COPs': array(['Olig1', 'C1ql1', 'Olig2', 'Neu4', 'Plp1'], dtype=object),\n",
              "             'ChorPlex': array(['Hydin', 'Riiad1', 'Apoe', 'Foxj1', 'Slc4a5', 'Sostdc1', 'Aqp1'],\n",
              "                   dtype=object),\n",
              "             'DivOPCs': array(['Neu4', 'Cxcl14', 'C1ql1', 'Olig1', 'Olig2', 'Rrm2', 'Pdgfra',\n",
              "                    'Top2a', 'Ccna2'], dtype=object),\n",
              "             'Endo': array(['Top2a', 'Ccna2', 'Kcnj8', 'Ptprb', 'Cldn5'], dtype=object),\n",
              "             'Ependymal': array(['Aldoc', 'Gfap', 'Reln', 'Hepacam', 'Top2a', 'Apoe', 'Npy',\n",
              "                    'Hydin', 'Riiad1', 'Foxj1'], dtype=object),\n",
              "             'ExcitNeuron1': array(['Npy', 'Dcn', 'Bhlhe22', 'Grin2b', 'Neurod6'], dtype=object),\n",
              "             'ExcitNeuron2': array(['Dcn', 'Igfbpl1', 'Bhlhe22', 'Neurod6', 'Grin2b'], dtype=object),\n",
              "             'ExcitNeuron3': array(['Bhlhe22', 'Grin2b', 'Calb2', 'Neurod6'], dtype=object),\n",
              "             'GranuleNB1': array(['Npy', 'Dcn', 'Sst', 'Igfbpl1', 'Neurod6', 'Neurod1', 'Grin2b',\n",
              "                    'Bhlhe22'], dtype=object),\n",
              "             'GranuleNB2': array(['Grin2b', 'Neurod6', 'Bhlhe22', 'Calb2', 'Igfbpl1', 'Neurod1'],\n",
              "                   dtype=object),\n",
              "             'GranuleNB3': array(['Hydin', 'Bhlhe22', 'Neurod6', 'Calb2', 'Neurod1', 'Igfbpl1'],\n",
              "                   dtype=object),\n",
              "             'InhibNeuron1': array(['Cxcl14', 'Grin2b', 'Reln', 'Sp9', 'Sst', 'Npy', 'Slc32a1', 'Gad2',\n",
              "                    'Lhx6'], dtype=object),\n",
              "             'InhibNeuron2': array(['Reln', 'Grin2b', 'Igfbpl1', 'Slc32a1', 'Gad2', 'Sp9'],\n",
              "                   dtype=object),\n",
              "             'InhibNeuron3': array(['Hydin', 'Bhlhe22', 'C1ql1', 'Calb2', 'Reln'], dtype=object),\n",
              "             'Macrophages': array(['Top2a', 'Reln', 'Tmem119', 'Trem2', 'Apoe'], dtype=object),\n",
              "             'Microglia': array(['Ccna2', 'Rrm2', 'Top2a', 'Apoe', 'Tmem119', 'Trem2'], dtype=object),\n",
              "             'NIPCs': array(['Sp9', 'Olig1', 'Igfbpl1', 'Hepacam', 'Olig2', 'Top2a', 'Ccna2',\n",
              "                    'Rrm2'], dtype=object),\n",
              "             'OPCs': array(['Cxcl14', 'Neu4', 'Olig2', 'Olig1', 'C1ql1', 'Pdgfra'],\n",
              "                   dtype=object),\n",
              "             'RGL': array(['Foxj1', 'Cxcl14', 'Hepacam', 'Apoe', 'Gfap', 'Riiad1', 'Aldoc'],\n",
              "                   dtype=object),\n",
              "             'Vasc1': array(['Ccna2', 'Top2a', 'Kcnj8'], dtype=object),\n",
              "             'Vasc2': array(['Ptprb', 'Aqp1', 'Apoe', 'Pdgfra', 'Tmem119', 'Dcn'], dtype=object),\n",
              "             'Vasc3': array(['Npy', 'Apoe', 'Pdgfra', 'Kcnj8', 'Tmem119', 'Dcn'], dtype=object)})"
            ]
          },
          "metadata": {},
          "execution_count": 9
        }
      ]
    },
    {
      "cell_type": "code",
      "source": [
        "list(d.keys())"
      ],
      "metadata": {
        "colab": {
          "base_uri": "https://localhost:8080/"
        },
        "id": "zULfJfoG2gUJ",
        "outputId": "99fbbcf5-4811-4dc5-d620-892c54511a45"
      },
      "execution_count": 10,
      "outputs": [
        {
          "output_type": "execute_result",
          "data": {
            "text/plain": [
              "['Astro1',\n",
              " 'Astro2',\n",
              " 'COPs',\n",
              " 'ChorPlex',\n",
              " 'DivOPCs',\n",
              " 'Endo',\n",
              " 'Ependymal',\n",
              " 'ExcitNeuron1',\n",
              " 'ExcitNeuron2',\n",
              " 'ExcitNeuron3',\n",
              " 'GranuleNB1',\n",
              " 'GranuleNB2',\n",
              " 'GranuleNB3',\n",
              " 'InhibNeuron1',\n",
              " 'InhibNeuron2',\n",
              " 'InhibNeuron3',\n",
              " 'Macrophages',\n",
              " 'Microglia',\n",
              " 'NIPCs',\n",
              " 'OPCs',\n",
              " 'RGL',\n",
              " 'Vasc1',\n",
              " 'Vasc2',\n",
              " 'Vasc3']"
            ]
          },
          "metadata": {},
          "execution_count": 10
        }
      ]
    },
    {
      "cell_type": "code",
      "source": [
        "with open(\"markers.txt\", \"w\") as f:\n",
        "    for k, v in d.items():\n",
        "        f.write(f\"{k}\\t\")\n",
        "        n = len(v)\n",
        "        for idx, i in enumerate(v):\n",
        "            f.write(f\"{i}\")\n",
        "            if idx < n - 1:\n",
        "                f.write(\",\")\n",
        "        f.write(\"\\n\")"
      ],
      "metadata": {
        "id": "PwifwvOI3LfY"
      },
      "execution_count": 11,
      "outputs": []
    },
    {
      "cell_type": "code",
      "source": [
        "!cat markers.txt"
      ],
      "metadata": {
        "colab": {
          "base_uri": "https://localhost:8080/"
        },
        "id": "PuABwi0qR_IH",
        "outputId": "aa4fcbff-757e-4084-80ba-fc581309beb8"
      },
      "execution_count": 12,
      "outputs": [
        {
          "output_type": "stream",
          "name": "stdout",
          "text": [
            "Astro1\tOlig1,Gfap,Hepacam,Cxcl14,Apoe,Aldoc\n",
            "Astro2\tPlp1,Olig1,Reln,Cxcl14,Hepacam,Apoe,Aldoc,Gfap\n",
            "COPs\tOlig1,C1ql1,Olig2,Neu4,Plp1\n",
            "ChorPlex\tHydin,Riiad1,Apoe,Foxj1,Slc4a5,Sostdc1,Aqp1\n",
            "DivOPCs\tNeu4,Cxcl14,C1ql1,Olig1,Olig2,Rrm2,Pdgfra,Top2a,Ccna2\n",
            "Endo\tTop2a,Ccna2,Kcnj8,Ptprb,Cldn5\n",
            "Ependymal\tAldoc,Gfap,Reln,Hepacam,Top2a,Apoe,Npy,Hydin,Riiad1,Foxj1\n",
            "ExcitNeuron1\tNpy,Dcn,Bhlhe22,Grin2b,Neurod6\n",
            "ExcitNeuron2\tDcn,Igfbpl1,Bhlhe22,Neurod6,Grin2b\n",
            "ExcitNeuron3\tBhlhe22,Grin2b,Calb2,Neurod6\n",
            "GranuleNB1\tNpy,Dcn,Sst,Igfbpl1,Neurod6,Neurod1,Grin2b,Bhlhe22\n",
            "GranuleNB2\tGrin2b,Neurod6,Bhlhe22,Calb2,Igfbpl1,Neurod1\n",
            "GranuleNB3\tHydin,Bhlhe22,Neurod6,Calb2,Neurod1,Igfbpl1\n",
            "InhibNeuron1\tCxcl14,Grin2b,Reln,Sp9,Sst,Npy,Slc32a1,Gad2,Lhx6\n",
            "InhibNeuron2\tReln,Grin2b,Igfbpl1,Slc32a1,Gad2,Sp9\n",
            "InhibNeuron3\tHydin,Bhlhe22,C1ql1,Calb2,Reln\n",
            "Macrophages\tTop2a,Reln,Tmem119,Trem2,Apoe\n",
            "Microglia\tCcna2,Rrm2,Top2a,Apoe,Tmem119,Trem2\n",
            "NIPCs\tSp9,Olig1,Igfbpl1,Hepacam,Olig2,Top2a,Ccna2,Rrm2\n",
            "OPCs\tCxcl14,Neu4,Olig2,Olig1,C1ql1,Pdgfra\n",
            "RGL\tFoxj1,Cxcl14,Hepacam,Apoe,Gfap,Riiad1,Aldoc\n",
            "Vasc1\tCcna2,Top2a,Kcnj8\n",
            "Vasc2\tPtprb,Aqp1,Apoe,Pdgfra,Tmem119,Dcn\n",
            "Vasc3\tNpy,Apoe,Pdgfra,Kcnj8,Tmem119,Dcn\n"
          ]
        }
      ]
    },
    {
      "cell_type": "code",
      "source": [],
      "metadata": {
        "id": "DGb0-hgASAXL"
      },
      "execution_count": null,
      "outputs": []
    }
  ]
}