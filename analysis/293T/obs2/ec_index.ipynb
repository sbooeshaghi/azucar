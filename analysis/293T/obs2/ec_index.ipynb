{
  "nbformat": 4,
  "nbformat_minor": 0,
  "metadata": {
    "colab": {
      "name": "ec_index.ipynb",
      "provenance": [],
      "authorship_tag": "ABX9TyN/iNNSTvWVrLiSGps4zHtv",
      "include_colab_link": true
    },
    "kernelspec": {
      "name": "python3",
      "display_name": "Python 3"
    },
    "language_info": {
      "name": "python"
    }
  },
  "cells": [
    {
      "cell_type": "markdown",
      "metadata": {
        "id": "view-in-github",
        "colab_type": "text"
      },
      "source": [
        "<a href=\"https://colab.research.google.com/github/sbooeshaghi/azucar/blob/main/analysis/293T/obs2/ec_index.ipynb\" target=\"_parent\"><img src=\"https://colab.research.google.com/assets/colab-badge.svg\" alt=\"Open In Colab\"/></a>"
      ]
    },
    {
      "cell_type": "code",
      "execution_count": 1,
      "metadata": {
        "id": "eW3xRpmT_8nt"
      },
      "outputs": [],
      "source": [
        "#@title import\n",
        "import os\n",
        "\n",
        "import matplotlib.pyplot as plt\n",
        "from sklearn.metrics import rand_score\n",
        "from mpl_toolkits.axes_grid1 import make_axes_locatable\n",
        "import json\n",
        "import pandas as pd\n",
        "import numpy as np\n",
        "from sklearn.decomposition import PCA\n",
        "from collections import defaultdict\n",
        "from scipy.io import mmread, mmwrite\n",
        "from scipy.sparse import csr_matrix\n",
        "from sklearn.neighbors import KDTree\n",
        "from scipy.stats import entropy\n",
        "from itertools import combinations\n",
        "import sys\n",
        "import gzip\n",
        "from scipy.stats import entropy\n",
        "from sklearn.mixture import GaussianMixture\n",
        "\n",
        "\n",
        "def nd(arr):\n",
        "    return np.asarray(arr).reshape(-1)\n",
        "\n",
        "def yex(ax):\n",
        "    lims = [\n",
        "        np.min([ax.get_xlim(), ax.get_ylim()]),  # min of both axes\n",
        "        np.max([ax.get_xlim(), ax.get_ylim()]),  # max of both axes\n",
        "    ]\n",
        "\n",
        "    # now plot both limits against eachother\n",
        "    ax.plot(lims, lims, 'k-', alpha=0.75, zorder=0)\n",
        "    ax.set_aspect('equal')\n",
        "    ax.set_xlim(lims)\n",
        "    ax.set_ylim(lims)\n",
        "    return ax\n",
        "\n",
        "fsize=20\n",
        "\n",
        "plt.rcParams.update({'font.size': fsize})\n",
        "%config InlineBackend.figure_format = 'retina'"
      ]
    },
    {
      "cell_type": "code",
      "source": [
        "#@title mx index\n",
        "def write_dict(fname, d):\n",
        "    inv_d = {v: k for k, v in d.items()}\n",
        "    with open(fname, 'w') as f:\n",
        "        for idx in range(len(d)):\n",
        "            f.write(f'{inv_d[idx]}\\n')\n",
        "\n",
        "\n",
        "def write_markers(fname, markers):\n",
        "    with open(fname, 'w') as f:\n",
        "        for k, v in markers.items():\n",
        "            f.write(f'{k}\\t')\n",
        "            n = len(v)\n",
        "            for idx, i in enumerate(v):\n",
        "                f.write(f'{i}')\n",
        "                if idx < n - 1:\n",
        "                    f.write(',')\n",
        "            f.write('\\n')\n",
        "\n",
        "\n",
        "def read_markers(fname,\n",
        "                 markers_ec=defaultdict(list),\n",
        "                 celltype=defaultdict(),\n",
        "                 marker_genes=defaultdict()):\n",
        "    with open(fname, 'r') as f:\n",
        "        for idx, line in enumerate(f.readlines()):\n",
        "            ct, genes = line.strip().split('\\t')\n",
        "            celltype[ct] = idx\n",
        "\n",
        "            # two things\n",
        "            # 1. make marker_genes list\n",
        "            # 2. make markers_ec\n",
        "            for g in genes.split(','):\n",
        "                gidx = len(marker_genes)\n",
        "\n",
        "                # check if the gene has been added already\n",
        "                if g in marker_genes.keys():  # gene repeated\n",
        "                    gidx = marker_genes[g]\n",
        "                else:\n",
        "                    marker_genes[g] = gidx\n",
        "\n",
        "                # for the cell type index, add the marker gene index\n",
        "                markers_ec[celltype[ct]].append(marker_genes[g])\n",
        "\n",
        "            # sort the marker genes\n",
        "            markers_ec[celltype[ct]] = sorted(markers_ec[celltype[ct]])\n",
        "\n",
        "\n",
        "def ec_index(markers_fname, \n",
        "             out_markers_ec_fn, \n",
        "             out_groups_fn, \n",
        "             out_marker_genes_fn):\n",
        "    markers_ec = defaultdict(list)\n",
        "    celltypes = defaultdict()\n",
        "    marker_genes = defaultdict()\n",
        "    read_markers(markers_fname, markers_ec, celltypes, marker_genes)\n",
        "\n",
        "    write_markers(out_markers_ec_fn, markers_ec)\n",
        "    write_dict(out_groups_fn, celltypes)\n",
        "    write_dict(out_marker_genes_fn, marker_genes)"
      ],
      "metadata": {
        "id": "ddIE9LoAAN1A"
      },
      "execution_count": 4,
      "outputs": []
    },
    {
      "cell_type": "code",
      "source": [
        "test_markers = {\n",
        "    \"g1\": [\"tag1\", \"tag3\"],\n",
        "    \"g2\": [\"tag3\", \"tag4\"],\n",
        "    \"g3\" : [\"tag2\", \"tag5\"]\n",
        "}\n",
        "\n",
        "write_markers(\"markers.txt\", test_markers)"
      ],
      "metadata": {
        "id": "N3sJ4eN2ARGh"
      },
      "execution_count": 3,
      "outputs": []
    },
    {
      "cell_type": "code",
      "source": [
        "#@title test mx index\n",
        "# index the markers -> markers.ec marker_genes.txt groups.txt\n",
        "ec_index(\"./markers.txt\", \n",
        "         \"./markers.ec\", \n",
        "         \"./groups.txt\", \n",
        "         \"./marker_genes.txt\")\n",
        "\n",
        "!cat markers.txt\n",
        "!cat markers.ec\n",
        "!cat marker_genes.txt"
      ],
      "metadata": {
        "colab": {
          "base_uri": "https://localhost:8080/"
        },
        "id": "KuVTiptMAaQw",
        "outputId": "0f0401f2-070c-4e16-e830-fed0c4e81df3"
      },
      "execution_count": 7,
      "outputs": [
        {
          "output_type": "stream",
          "name": "stdout",
          "text": [
            "g1\ttag1,tag3\n",
            "g2\ttag3,tag4\n",
            "g3\ttag2,tag5\n",
            "0\t0,1\n",
            "1\t1,2\n",
            "2\t3,4\n",
            "tag1\n",
            "tag3\n",
            "tag4\n",
            "tag2\n",
            "tag5\n"
          ]
        }
      ]
    },
    {
      "cell_type": "code",
      "source": [
        ""
      ],
      "metadata": {
        "id": "IMuin5xWAphp"
      },
      "execution_count": null,
      "outputs": []
    }
  ]
}