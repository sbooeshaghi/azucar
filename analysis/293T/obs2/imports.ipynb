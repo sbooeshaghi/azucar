{
  "nbformat": 4,
  "nbformat_minor": 0,
  "metadata": {
    "colab": {
      "name": "imports.ipynb",
      "provenance": [],
      "collapsed_sections": [],
      "authorship_tag": "ABX9TyMPde6AJPCOYOOM96r1Ougz",
      "include_colab_link": true
    },
    "kernelspec": {
      "name": "python3",
      "display_name": "Python 3"
    },
    "language_info": {
      "name": "python"
    }
  },
  "cells": [
    {
      "cell_type": "markdown",
      "metadata": {
        "id": "view-in-github",
        "colab_type": "text"
      },
      "source": [
        "<a href=\"https://colab.research.google.com/github/sbooeshaghi/azucar/blob/main/analysis/293T/obs2/imports.ipynb\" target=\"_parent\"><img src=\"https://colab.research.google.com/assets/colab-badge.svg\" alt=\"Open In Colab\"/></a>"
      ]
    },
    {
      "cell_type": "code",
      "execution_count": 1,
      "metadata": {
        "colab": {
          "base_uri": "https://localhost:8080/"
        },
        "id": "MeH1Ws8_PHVE",
        "outputId": "306fab17-eb0f-48c5-b838-c98d075102bc"
      },
      "outputs": [
        {
          "output_type": "stream",
          "name": "stdout",
          "text": [
            "  Building wheel for ipfn (setup.py) ... \u001b[?25l\u001b[?25hdone\n",
            "  Building wheel for upsetplot (setup.py) ... \u001b[?25l\u001b[?25hdone\n"
          ]
        }
      ],
      "source": [
        "!pip install --quiet -U upsetplot scikit-learn git+http://github.com/dirguis/ipfn@master"
      ]
    },
    {
      "cell_type": "code",
      "source": [
        "!git clone https://github.com/sbooeshaghi/azucar.git"
      ],
      "metadata": {
        "colab": {
          "base_uri": "https://localhost:8080/"
        },
        "id": "3NA8IqSsPNrh",
        "outputId": "c641bd68-5f5a-48b9-d518-1452a47711e8"
      },
      "execution_count": 2,
      "outputs": [
        {
          "output_type": "stream",
          "name": "stdout",
          "text": [
            "Cloning into 'azucar'...\n",
            "remote: Enumerating objects: 1536, done.\u001b[K\n",
            "remote: Counting objects: 100% (294/294), done.\u001b[K\n",
            "remote: Compressing objects: 100% (285/285), done.\u001b[K\n",
            "remote: Total 1536 (delta 166), reused 43 (delta 9), pack-reused 1242\u001b[K\n",
            "Receiving objects: 100% (1536/1536), 1.70 GiB | 19.38 MiB/s, done.\n",
            "Resolving deltas: 100% (642/642), done.\n",
            "Checking out files: 100% (292/292), done.\n"
          ]
        }
      ]
    },
    {
      "cell_type": "code",
      "source": [
        "import os\n",
        "from scipy.io import mmread\n",
        "import pandas as pd\n",
        "import numpy as np\n",
        "from collections import defaultdict"
      ],
      "metadata": {
        "id": "w5LeEhPfP8GI"
      },
      "execution_count": 15,
      "outputs": []
    },
    {
      "cell_type": "code",
      "source": [
        "sample = \"293T\"\n",
        "observation = \"obs2\"\n",
        "\n",
        "base_data = f\"azucar/analysis/{sample}/{observation}/out\"\n",
        "base_mark = f\"azucar/analysis/{sample}/{observation}/assign\"\n",
        "\n",
        "matrix_fn  = os.path.join(base_data, \"matrix.mtx\")\n",
        "genes_fn   = os.path.join(base_data, \"genes.txt\")\n",
        "barcodes_fn   = os.path.join(base_data, \"barcodes.txt\")\n",
        "\n",
        "!gunzip $base_data/*.gz"
      ],
      "metadata": {
        "colab": {
          "base_uri": "https://localhost:8080/"
        },
        "id": "O6HmJWigPxct",
        "outputId": "53a7206b-2ee9-4ac2-8fb7-49133594958c"
      },
      "execution_count": 2,
      "outputs": [
        {
          "output_type": "stream",
          "name": "stdout",
          "text": [
            "gzip: azucar/analysis/293T/obs2/out/*.gz: No such file or directory\n"
          ]
        }
      ]
    },
    {
      "cell_type": "code",
      "source": [
        "!rm *.mtx *.txt *.ec"
      ],
      "metadata": {
        "id": "Hsrhjm4UZUXH"
      },
      "execution_count": 3,
      "outputs": []
    },
    {
      "cell_type": "code",
      "source": [
        "from azucar.analysis.scripts.mx_sanitize import mx_sanitize\n",
        "from azucar.analysis.scripts.mx_filter import mx_filter, knee, gmm\n",
        "from azucar.analysis.scripts.mx_norm import mx_norm\n",
        "from azucar.analysis.scripts.ec_index import ec_index\n",
        "from azucar.analysis.scripts.mx_select import mx_select\n",
        "from azucar.analysis.scripts.mx_extract import mx_extract\n",
        "from azucar.analysis.scripts.mx_assign import mx_assign\n",
        "from azucar.analysis.scripts.mx_diff import mx_diff\n",
        "\n",
        "from azucar.analysis.scripts.utils import read_str_list, read_markers_str"
      ],
      "metadata": {
        "id": "SGttZ8vDQHGf"
      },
      "execution_count": 16,
      "outputs": []
    },
    {
      "cell_type": "code",
      "source": [
        "markers_fn = os.path.join(base_mark, \"markers.txt\")"
      ],
      "metadata": {
        "id": "SprEGo7hQiOW"
      },
      "execution_count": 5,
      "outputs": []
    },
    {
      "cell_type": "code",
      "source": [
        "# drop barcodes and genes that sum to zero, update barcodes and genes file\n",
        "mx_sanitize(matrix_fn, barcodes_fn, genes_fn, \n",
        "            \"./san.matrix.mtx\", \n",
        "            \"./san.barcodes.txt\", \n",
        "            \"./san.genes.txt\")\n",
        "\n",
        "# knee plot gmm filter\n",
        "mx_filter(\"./san.matrix.mtx\",\n",
        "          \"./san.barcodes.txt\",\n",
        "          \"./san.fil.matrix.mtx\", \n",
        "          \"./san.fil.barcodes.txt\",\n",
        "          comps=[2,2], select_axis=2)\n",
        "\n",
        "dbco = mmread(\"./san.fil.matrix.mtx\").toarray()[:,-1]\n",
        "\n",
        "# normalize matrix (log1p -> ipf)\n",
        "mx_norm(\"./san.fil.matrix.mtx\", \n",
        "        \"./san.log1p.matrix.mtx\", how=\"log1p\")\n",
        "\n",
        "mx_norm(\"./san.log1p.matrix.mtx\", \n",
        "        \"./san.norm.matrix.mtx\", how=\"ipf\", target_sum=1_000_000)\n",
        "\n",
        "dbco_norm = mmread(\"./san.norm.matrix.mtx\").toarray()[:,-1]\n",
        "\n",
        "# index the markers -> markers.ec marker_genes.txt groups.txt\n",
        "ec_index(markers_fn, \n",
        "        \"./markers.ec\", \n",
        "        \"./groups.txt\", \n",
        "        \"./marker_genes.txt\")\n",
        "# get the gene ids -> select.txt (selects in order of markers.ec)\n",
        "mx_select(markers_fn, \n",
        "          \"./san.genes.txt\", \n",
        "          \"./select.txt\")\n",
        "# extract elements from matrix that are of interest, rows / columns (with associated metadata)\n",
        "mx_extract(\"san.norm.matrix.mtx\", \n",
        "          \"san.genes.txt\", \n",
        "          \"select.txt\", \n",
        "          \"san.norm.extr.matrix.mtx\", \n",
        "          \"san.extr.genes.txt\", axis=1)\n",
        "\n",
        "# perform assignments with markers and matrices\n",
        "mx_assign(\"san.norm.extr.matrix.mtx\", \n",
        "          \"san.fil.barcodes.txt\", \n",
        "          \"san.extr.genes.txt\", \n",
        "          \"markers.ec\", \n",
        "          \"groups.txt\",\n",
        "          \"assignments.txt\")"
      ],
      "metadata": {
        "colab": {
          "base_uri": "https://localhost:8080/"
        },
        "id": "WXTyvfQ6Sc8O",
        "outputId": "f45aaa23-05d1-48c2-ec88-09d8e601b889"
      },
      "execution_count": 11,
      "outputs": [
        {
          "output_type": "stream",
          "name": "stdout",
          "text": [
            "Filtered to 1,756 cells with at least 99 UMIs.\n",
            "Initialization 0\n",
            "  Iteration 10\t time lapse 0.01670s\t ll change 0.00359\n",
            "Initialization converged: True\t time lapse 0.02330s\t ll -20.31437\n"
          ]
        }
      ]
    },
    {
      "cell_type": "code",
      "source": [
        "df = pd.read_csv(\"assignments.txt\", sep=\"\\t\", index_col=0)\n",
        "print(\"shape: \", df.shape)\n",
        "\n",
        "# original counts (this is the same as make df above)\n",
        "raw_mtx = mmread(\"./san.fil.matrix.mtx\").toarray()\n",
        "raw_genes = []\n",
        "read_str_list(\"./san.genes.txt\", raw_genes)\n",
        "for idx, v in enumerate(raw_mtx.T):\n",
        "    df[f\"{raw_genes[idx]}\"] = v # np.exp(v) - 1\n",
        "\n",
        "df[\"dbco\"] = dbco\n",
        "df[\"dbco_ipf\"] = dbco_norm\n",
        "\n",
        "# for the np log\n",
        "df.loc[df['ent'] == 0.0, 'ent'] = np.finfo(float).tiny\n",
        "\n",
        "## find entropy cutoff\n",
        "adj_ent = -np.log(df[\"ent\"].values)\n",
        "\n",
        "u, xx, v = knee(np.log1p(adj_ent.reshape(-1,1)), sum_axis=1)\n",
        "(cutoff, ncells) = gmm(xx, v, comps=[3])\n",
        "cutoff = np.exp(cutoff) - 1 # adjust (since we log1p it)\n",
        "ent_cutoff = np.exp(-cutoff)\n",
        "\n",
        "print(ncells, ent_cutoff)"
      ],
      "metadata": {
        "colab": {
          "base_uri": "https://localhost:8080/"
        },
        "id": "M6L52jsJPPOY",
        "outputId": "37b73bed-24b1-4003-a218-557daa937c74"
      },
      "execution_count": 12,
      "outputs": [
        {
          "output_type": "stream",
          "name": "stdout",
          "text": [
            "shape:  (1756, 10)\n",
            "657 1.1304355717204084e-05\n"
          ]
        }
      ]
    },
    {
      "cell_type": "code",
      "source": [
        "df.query(f\"ent < {ent_cutoff}\").groupby(\"label\").agg({\n",
        "      \"mtag1_ipf\": \"mean\", \n",
        "      \"mtag2_ipf\": \"mean\",\n",
        "      \"mtag3_ipf\": \"mean\",\n",
        "      \"mtag4_ipf\": \"mean\",\n",
        "      \"dbco_ipf\": \"mean\",\n",
        "      \"label\": \"count\"\n",
        "      }).astype(float)"
      ],
      "metadata": {
        "colab": {
          "base_uri": "https://localhost:8080/",
          "height": 174
        },
        "id": "dquZbWWJXHUD",
        "outputId": "a7b64488-05f4-452f-ae8a-2a67217f3ed0"
      },
      "execution_count": 13,
      "outputs": [
        {
          "output_type": "execute_result",
          "data": {
            "text/html": [
              "\n",
              "  <div id=\"df-545bfef8-2ea5-4a62-8aec-615b0cb1d3ee\">\n",
              "    <div class=\"colab-df-container\">\n",
              "      <div>\n",
              "<style scoped>\n",
              "    .dataframe tbody tr th:only-of-type {\n",
              "        vertical-align: middle;\n",
              "    }\n",
              "\n",
              "    .dataframe tbody tr th {\n",
              "        vertical-align: top;\n",
              "    }\n",
              "\n",
              "    .dataframe thead th {\n",
              "        text-align: right;\n",
              "    }\n",
              "</style>\n",
              "<table border=\"1\" class=\"dataframe\">\n",
              "  <thead>\n",
              "    <tr style=\"text-align: right;\">\n",
              "      <th></th>\n",
              "      <th>mtag1_ipf</th>\n",
              "      <th>mtag2_ipf</th>\n",
              "      <th>mtag3_ipf</th>\n",
              "      <th>mtag4_ipf</th>\n",
              "      <th>dbco_ipf</th>\n",
              "      <th>label</th>\n",
              "    </tr>\n",
              "    <tr>\n",
              "      <th>label</th>\n",
              "      <th></th>\n",
              "      <th></th>\n",
              "      <th></th>\n",
              "      <th></th>\n",
              "      <th></th>\n",
              "      <th></th>\n",
              "    </tr>\n",
              "  </thead>\n",
              "  <tbody>\n",
              "    <tr>\n",
              "      <th>control</th>\n",
              "      <td>109.467885</td>\n",
              "      <td>72.054797</td>\n",
              "      <td>146.579868</td>\n",
              "      <td>161.109928</td>\n",
              "      <td>80.263848</td>\n",
              "      <td>429.0</td>\n",
              "    </tr>\n",
              "    <tr>\n",
              "      <th>no_sugar</th>\n",
              "      <td>184.628872</td>\n",
              "      <td>56.527984</td>\n",
              "      <td>137.764228</td>\n",
              "      <td>68.030894</td>\n",
              "      <td>122.524407</td>\n",
              "      <td>5.0</td>\n",
              "    </tr>\n",
              "    <tr>\n",
              "      <th>tmg</th>\n",
              "      <td>10.391879</td>\n",
              "      <td>3.991904</td>\n",
              "      <td>546.637494</td>\n",
              "      <td>6.438565</td>\n",
              "      <td>2.014368</td>\n",
              "      <td>224.0</td>\n",
              "    </tr>\n",
              "  </tbody>\n",
              "</table>\n",
              "</div>\n",
              "      <button class=\"colab-df-convert\" onclick=\"convertToInteractive('df-545bfef8-2ea5-4a62-8aec-615b0cb1d3ee')\"\n",
              "              title=\"Convert this dataframe to an interactive table.\"\n",
              "              style=\"display:none;\">\n",
              "        \n",
              "  <svg xmlns=\"http://www.w3.org/2000/svg\" height=\"24px\"viewBox=\"0 0 24 24\"\n",
              "       width=\"24px\">\n",
              "    <path d=\"M0 0h24v24H0V0z\" fill=\"none\"/>\n",
              "    <path d=\"M18.56 5.44l.94 2.06.94-2.06 2.06-.94-2.06-.94-.94-2.06-.94 2.06-2.06.94zm-11 1L8.5 8.5l.94-2.06 2.06-.94-2.06-.94L8.5 2.5l-.94 2.06-2.06.94zm10 10l.94 2.06.94-2.06 2.06-.94-2.06-.94-.94-2.06-.94 2.06-2.06.94z\"/><path d=\"M17.41 7.96l-1.37-1.37c-.4-.4-.92-.59-1.43-.59-.52 0-1.04.2-1.43.59L10.3 9.45l-7.72 7.72c-.78.78-.78 2.05 0 2.83L4 21.41c.39.39.9.59 1.41.59.51 0 1.02-.2 1.41-.59l7.78-7.78 2.81-2.81c.8-.78.8-2.07 0-2.86zM5.41 20L4 18.59l7.72-7.72 1.47 1.35L5.41 20z\"/>\n",
              "  </svg>\n",
              "      </button>\n",
              "      \n",
              "  <style>\n",
              "    .colab-df-container {\n",
              "      display:flex;\n",
              "      flex-wrap:wrap;\n",
              "      gap: 12px;\n",
              "    }\n",
              "\n",
              "    .colab-df-convert {\n",
              "      background-color: #E8F0FE;\n",
              "      border: none;\n",
              "      border-radius: 50%;\n",
              "      cursor: pointer;\n",
              "      display: none;\n",
              "      fill: #1967D2;\n",
              "      height: 32px;\n",
              "      padding: 0 0 0 0;\n",
              "      width: 32px;\n",
              "    }\n",
              "\n",
              "    .colab-df-convert:hover {\n",
              "      background-color: #E2EBFA;\n",
              "      box-shadow: 0px 1px 2px rgba(60, 64, 67, 0.3), 0px 1px 3px 1px rgba(60, 64, 67, 0.15);\n",
              "      fill: #174EA6;\n",
              "    }\n",
              "\n",
              "    [theme=dark] .colab-df-convert {\n",
              "      background-color: #3B4455;\n",
              "      fill: #D2E3FC;\n",
              "    }\n",
              "\n",
              "    [theme=dark] .colab-df-convert:hover {\n",
              "      background-color: #434B5C;\n",
              "      box-shadow: 0px 1px 3px 1px rgba(0, 0, 0, 0.15);\n",
              "      filter: drop-shadow(0px 1px 2px rgba(0, 0, 0, 0.3));\n",
              "      fill: #FFFFFF;\n",
              "    }\n",
              "  </style>\n",
              "\n",
              "      <script>\n",
              "        const buttonEl =\n",
              "          document.querySelector('#df-545bfef8-2ea5-4a62-8aec-615b0cb1d3ee button.colab-df-convert');\n",
              "        buttonEl.style.display =\n",
              "          google.colab.kernel.accessAllowed ? 'block' : 'none';\n",
              "\n",
              "        async function convertToInteractive(key) {\n",
              "          const element = document.querySelector('#df-545bfef8-2ea5-4a62-8aec-615b0cb1d3ee');\n",
              "          const dataTable =\n",
              "            await google.colab.kernel.invokeFunction('convertToInteractive',\n",
              "                                                     [key], {});\n",
              "          if (!dataTable) return;\n",
              "\n",
              "          const docLinkHtml = 'Like what you see? Visit the ' +\n",
              "            '<a target=\"_blank\" href=https://colab.research.google.com/notebooks/data_table.ipynb>data table notebook</a>'\n",
              "            + ' to learn more about interactive tables.';\n",
              "          element.innerHTML = '';\n",
              "          dataTable['output_type'] = 'display_data';\n",
              "          await google.colab.output.renderOutput(dataTable, element);\n",
              "          const docLink = document.createElement('div');\n",
              "          docLink.innerHTML = docLinkHtml;\n",
              "          element.appendChild(docLink);\n",
              "        }\n",
              "      </script>\n",
              "    </div>\n",
              "  </div>\n",
              "  "
            ],
            "text/plain": [
              "           mtag1_ipf  mtag2_ipf   mtag3_ipf   mtag4_ipf    dbco_ipf  label\n",
              "label                                                                     \n",
              "control   109.467885  72.054797  146.579868  161.109928   80.263848  429.0\n",
              "no_sugar  184.628872  56.527984  137.764228   68.030894  122.524407    5.0\n",
              "tmg        10.391879   3.991904  546.637494    6.438565    2.014368  224.0"
            ]
          },
          "metadata": {},
          "execution_count": 13
        }
      ]
    },
    {
      "cell_type": "code",
      "source": [
        "# fix mx_diff to save file\n",
        "mdf = mx_diff(\"san.norm.extr.matrix.mtx\", \n",
        "              \"san.barcodes.txt\", \n",
        "              \"san.extr.genes.txt\", \n",
        "              df[\"label\"].values)\n",
        "\n",
        "def convert_mtx(*x):\n",
        "  # x is a pandas series with multiple values\n",
        "  # but because our matrix has unique group, tag pairs\n",
        "  # there is only one element in the series\n",
        "  return x[0].values[0]\n",
        "\n",
        "es = mdf.groupby([\"group_id\", \"name\"])[\"es\"].apply(convert_mtx).unstack()\n",
        "pv = mdf.groupby([\"group_id\", \"name\"])[\"p_corr\"].apply(convert_mtx).unstack()\n",
        "\n",
        "xa, ya = np.where(es.values > 0)\n",
        "check = defaultdict(list)\n",
        "conditions = es.index.values\n",
        "tags = es.columns.values\n",
        "for i, j in zip(xa, ya):\n",
        "  check[conditions[i]].append(tags[j])\n",
        "\n",
        "markers = defaultdict(list)\n",
        "read_markers_str(markers_fn, markers)\n",
        "\n",
        "# number in true only, number in intersection, number in check only\n",
        "for ct, gs in markers.items():\n",
        "  tm = markers[ct]\n",
        "  cm = check.get(ct, [])\n",
        "\n",
        "  left  = np.setdiff1d  (tm, cm).shape[0]\n",
        "  itx   = np.intersect1d(tm, cm).shape[0]\n",
        "  right = np.setdiff1d  (cm, tm).shape[0]\n",
        "\n",
        "  print(f\"{left, itx, right} \\t {ct} \\t {tm} ∩ {cm}\")"
      ],
      "metadata": {
        "colab": {
          "base_uri": "https://localhost:8080/"
        },
        "id": "SMAWp1THYClp",
        "outputId": "e125f0ee-9b87-435f-e4aa-ab464ea778c4"
      },
      "execution_count": 24,
      "outputs": [
        {
          "output_type": "stream",
          "name": "stderr",
          "text": [
            "15-Feb-22 08:18:37 - 1 of 3 assignments: control\n",
            "15-Feb-22 08:18:37 - 2 of 3 assignments: no_sugar\n",
            "15-Feb-22 08:18:37 - 3 of 3 assignments: tmg\n"
          ]
        },
        {
          "output_type": "stream",
          "name": "stdout",
          "text": [
            "(1, 1, 2) \t no_sugar \t ['mtag1', 'mtag3'] ∩ ['mtag1', 'mtag2', 'mtag4']\n",
            "(1, 1, 2) \t control \t ['mtag3', 'mtag4'] ∩ ['mtag1', 'mtag2', 'mtag4']\n",
            "(1, 1, 0) \t tmg \t ['mtag2', 'mtag3'] ∩ ['mtag3']\n"
          ]
        }
      ]
    },
    {
      "cell_type": "code",
      "source": [
        "es"
      ],
      "metadata": {
        "colab": {
          "base_uri": "https://localhost:8080/",
          "height": 174
        },
        "id": "K74xcVbtc7ym",
        "outputId": "a36b1af0-923b-4641-c4ee-7ff1898671aa"
      },
      "execution_count": 19,
      "outputs": [
        {
          "output_type": "execute_result",
          "data": {
            "text/html": [
              "\n",
              "  <div id=\"df-7f9d9775-244e-40d7-8ce2-b4eb0a310645\">\n",
              "    <div class=\"colab-df-container\">\n",
              "      <div>\n",
              "<style scoped>\n",
              "    .dataframe tbody tr th:only-of-type {\n",
              "        vertical-align: middle;\n",
              "    }\n",
              "\n",
              "    .dataframe tbody tr th {\n",
              "        vertical-align: top;\n",
              "    }\n",
              "\n",
              "    .dataframe thead th {\n",
              "        text-align: right;\n",
              "    }\n",
              "</style>\n",
              "<table border=\"1\" class=\"dataframe\">\n",
              "  <thead>\n",
              "    <tr style=\"text-align: right;\">\n",
              "      <th>name</th>\n",
              "      <th>mtag1</th>\n",
              "      <th>mtag2</th>\n",
              "      <th>mtag3</th>\n",
              "      <th>mtag4</th>\n",
              "    </tr>\n",
              "    <tr>\n",
              "      <th>group_id</th>\n",
              "      <th></th>\n",
              "      <th></th>\n",
              "      <th></th>\n",
              "      <th></th>\n",
              "    </tr>\n",
              "  </thead>\n",
              "  <tbody>\n",
              "    <tr>\n",
              "      <th>control</th>\n",
              "      <td>0.808280</td>\n",
              "      <td>0.675070</td>\n",
              "      <td>-0.211728</td>\n",
              "      <td>1.430836</td>\n",
              "    </tr>\n",
              "    <tr>\n",
              "      <th>no_sugar</th>\n",
              "      <td>1.141854</td>\n",
              "      <td>1.253363</td>\n",
              "      <td>-0.402409</td>\n",
              "      <td>0.579225</td>\n",
              "    </tr>\n",
              "    <tr>\n",
              "      <th>tmg</th>\n",
              "      <td>NaN</td>\n",
              "      <td>NaN</td>\n",
              "      <td>1.351189</td>\n",
              "      <td>NaN</td>\n",
              "    </tr>\n",
              "  </tbody>\n",
              "</table>\n",
              "</div>\n",
              "      <button class=\"colab-df-convert\" onclick=\"convertToInteractive('df-7f9d9775-244e-40d7-8ce2-b4eb0a310645')\"\n",
              "              title=\"Convert this dataframe to an interactive table.\"\n",
              "              style=\"display:none;\">\n",
              "        \n",
              "  <svg xmlns=\"http://www.w3.org/2000/svg\" height=\"24px\"viewBox=\"0 0 24 24\"\n",
              "       width=\"24px\">\n",
              "    <path d=\"M0 0h24v24H0V0z\" fill=\"none\"/>\n",
              "    <path d=\"M18.56 5.44l.94 2.06.94-2.06 2.06-.94-2.06-.94-.94-2.06-.94 2.06-2.06.94zm-11 1L8.5 8.5l.94-2.06 2.06-.94-2.06-.94L8.5 2.5l-.94 2.06-2.06.94zm10 10l.94 2.06.94-2.06 2.06-.94-2.06-.94-.94-2.06-.94 2.06-2.06.94z\"/><path d=\"M17.41 7.96l-1.37-1.37c-.4-.4-.92-.59-1.43-.59-.52 0-1.04.2-1.43.59L10.3 9.45l-7.72 7.72c-.78.78-.78 2.05 0 2.83L4 21.41c.39.39.9.59 1.41.59.51 0 1.02-.2 1.41-.59l7.78-7.78 2.81-2.81c.8-.78.8-2.07 0-2.86zM5.41 20L4 18.59l7.72-7.72 1.47 1.35L5.41 20z\"/>\n",
              "  </svg>\n",
              "      </button>\n",
              "      \n",
              "  <style>\n",
              "    .colab-df-container {\n",
              "      display:flex;\n",
              "      flex-wrap:wrap;\n",
              "      gap: 12px;\n",
              "    }\n",
              "\n",
              "    .colab-df-convert {\n",
              "      background-color: #E8F0FE;\n",
              "      border: none;\n",
              "      border-radius: 50%;\n",
              "      cursor: pointer;\n",
              "      display: none;\n",
              "      fill: #1967D2;\n",
              "      height: 32px;\n",
              "      padding: 0 0 0 0;\n",
              "      width: 32px;\n",
              "    }\n",
              "\n",
              "    .colab-df-convert:hover {\n",
              "      background-color: #E2EBFA;\n",
              "      box-shadow: 0px 1px 2px rgba(60, 64, 67, 0.3), 0px 1px 3px 1px rgba(60, 64, 67, 0.15);\n",
              "      fill: #174EA6;\n",
              "    }\n",
              "\n",
              "    [theme=dark] .colab-df-convert {\n",
              "      background-color: #3B4455;\n",
              "      fill: #D2E3FC;\n",
              "    }\n",
              "\n",
              "    [theme=dark] .colab-df-convert:hover {\n",
              "      background-color: #434B5C;\n",
              "      box-shadow: 0px 1px 3px 1px rgba(0, 0, 0, 0.15);\n",
              "      filter: drop-shadow(0px 1px 2px rgba(0, 0, 0, 0.3));\n",
              "      fill: #FFFFFF;\n",
              "    }\n",
              "  </style>\n",
              "\n",
              "      <script>\n",
              "        const buttonEl =\n",
              "          document.querySelector('#df-7f9d9775-244e-40d7-8ce2-b4eb0a310645 button.colab-df-convert');\n",
              "        buttonEl.style.display =\n",
              "          google.colab.kernel.accessAllowed ? 'block' : 'none';\n",
              "\n",
              "        async function convertToInteractive(key) {\n",
              "          const element = document.querySelector('#df-7f9d9775-244e-40d7-8ce2-b4eb0a310645');\n",
              "          const dataTable =\n",
              "            await google.colab.kernel.invokeFunction('convertToInteractive',\n",
              "                                                     [key], {});\n",
              "          if (!dataTable) return;\n",
              "\n",
              "          const docLinkHtml = 'Like what you see? Visit the ' +\n",
              "            '<a target=\"_blank\" href=https://colab.research.google.com/notebooks/data_table.ipynb>data table notebook</a>'\n",
              "            + ' to learn more about interactive tables.';\n",
              "          element.innerHTML = '';\n",
              "          dataTable['output_type'] = 'display_data';\n",
              "          await google.colab.output.renderOutput(dataTable, element);\n",
              "          const docLink = document.createElement('div');\n",
              "          docLink.innerHTML = docLinkHtml;\n",
              "          element.appendChild(docLink);\n",
              "        }\n",
              "      </script>\n",
              "    </div>\n",
              "  </div>\n",
              "  "
            ],
            "text/plain": [
              "name         mtag1     mtag2     mtag3     mtag4\n",
              "group_id                                        \n",
              "control   0.808280  0.675070 -0.211728  1.430836\n",
              "no_sugar  1.141854  1.253363 -0.402409  0.579225\n",
              "tmg            NaN       NaN  1.351189       NaN"
            ]
          },
          "metadata": {},
          "execution_count": 19
        }
      ]
    },
    {
      "cell_type": "code",
      "source": [
        "pv"
      ],
      "metadata": {
        "colab": {
          "base_uri": "https://localhost:8080/",
          "height": 174
        },
        "id": "0AHKp_vSdALn",
        "outputId": "450a6ba7-a1e5-4c7c-e033-5ad16a5b33c6"
      },
      "execution_count": 20,
      "outputs": [
        {
          "output_type": "execute_result",
          "data": {
            "text/html": [
              "\n",
              "  <div id=\"df-3e7a7d9a-84a7-43ce-9fe0-99f61d804528\">\n",
              "    <div class=\"colab-df-container\">\n",
              "      <div>\n",
              "<style scoped>\n",
              "    .dataframe tbody tr th:only-of-type {\n",
              "        vertical-align: middle;\n",
              "    }\n",
              "\n",
              "    .dataframe tbody tr th {\n",
              "        vertical-align: top;\n",
              "    }\n",
              "\n",
              "    .dataframe thead th {\n",
              "        text-align: right;\n",
              "    }\n",
              "</style>\n",
              "<table border=\"1\" class=\"dataframe\">\n",
              "  <thead>\n",
              "    <tr style=\"text-align: right;\">\n",
              "      <th>name</th>\n",
              "      <th>mtag1</th>\n",
              "      <th>mtag2</th>\n",
              "      <th>mtag3</th>\n",
              "      <th>mtag4</th>\n",
              "    </tr>\n",
              "    <tr>\n",
              "      <th>group_id</th>\n",
              "      <th></th>\n",
              "      <th></th>\n",
              "      <th></th>\n",
              "      <th></th>\n",
              "    </tr>\n",
              "  </thead>\n",
              "  <tbody>\n",
              "    <tr>\n",
              "      <th>control</th>\n",
              "      <td>1.778085e-34</td>\n",
              "      <td>3.093881e-23</td>\n",
              "      <td>6.015812e-24</td>\n",
              "      <td>1.070246e-101</td>\n",
              "    </tr>\n",
              "    <tr>\n",
              "      <th>no_sugar</th>\n",
              "      <td>3.270117e-68</td>\n",
              "      <td>2.101931e-80</td>\n",
              "      <td>5.271617e-87</td>\n",
              "      <td>3.381311e-18</td>\n",
              "    </tr>\n",
              "    <tr>\n",
              "      <th>tmg</th>\n",
              "      <td>NaN</td>\n",
              "      <td>NaN</td>\n",
              "      <td>2.225074e-308</td>\n",
              "      <td>NaN</td>\n",
              "    </tr>\n",
              "  </tbody>\n",
              "</table>\n",
              "</div>\n",
              "      <button class=\"colab-df-convert\" onclick=\"convertToInteractive('df-3e7a7d9a-84a7-43ce-9fe0-99f61d804528')\"\n",
              "              title=\"Convert this dataframe to an interactive table.\"\n",
              "              style=\"display:none;\">\n",
              "        \n",
              "  <svg xmlns=\"http://www.w3.org/2000/svg\" height=\"24px\"viewBox=\"0 0 24 24\"\n",
              "       width=\"24px\">\n",
              "    <path d=\"M0 0h24v24H0V0z\" fill=\"none\"/>\n",
              "    <path d=\"M18.56 5.44l.94 2.06.94-2.06 2.06-.94-2.06-.94-.94-2.06-.94 2.06-2.06.94zm-11 1L8.5 8.5l.94-2.06 2.06-.94-2.06-.94L8.5 2.5l-.94 2.06-2.06.94zm10 10l.94 2.06.94-2.06 2.06-.94-2.06-.94-.94-2.06-.94 2.06-2.06.94z\"/><path d=\"M17.41 7.96l-1.37-1.37c-.4-.4-.92-.59-1.43-.59-.52 0-1.04.2-1.43.59L10.3 9.45l-7.72 7.72c-.78.78-.78 2.05 0 2.83L4 21.41c.39.39.9.59 1.41.59.51 0 1.02-.2 1.41-.59l7.78-7.78 2.81-2.81c.8-.78.8-2.07 0-2.86zM5.41 20L4 18.59l7.72-7.72 1.47 1.35L5.41 20z\"/>\n",
              "  </svg>\n",
              "      </button>\n",
              "      \n",
              "  <style>\n",
              "    .colab-df-container {\n",
              "      display:flex;\n",
              "      flex-wrap:wrap;\n",
              "      gap: 12px;\n",
              "    }\n",
              "\n",
              "    .colab-df-convert {\n",
              "      background-color: #E8F0FE;\n",
              "      border: none;\n",
              "      border-radius: 50%;\n",
              "      cursor: pointer;\n",
              "      display: none;\n",
              "      fill: #1967D2;\n",
              "      height: 32px;\n",
              "      padding: 0 0 0 0;\n",
              "      width: 32px;\n",
              "    }\n",
              "\n",
              "    .colab-df-convert:hover {\n",
              "      background-color: #E2EBFA;\n",
              "      box-shadow: 0px 1px 2px rgba(60, 64, 67, 0.3), 0px 1px 3px 1px rgba(60, 64, 67, 0.15);\n",
              "      fill: #174EA6;\n",
              "    }\n",
              "\n",
              "    [theme=dark] .colab-df-convert {\n",
              "      background-color: #3B4455;\n",
              "      fill: #D2E3FC;\n",
              "    }\n",
              "\n",
              "    [theme=dark] .colab-df-convert:hover {\n",
              "      background-color: #434B5C;\n",
              "      box-shadow: 0px 1px 3px 1px rgba(0, 0, 0, 0.15);\n",
              "      filter: drop-shadow(0px 1px 2px rgba(0, 0, 0, 0.3));\n",
              "      fill: #FFFFFF;\n",
              "    }\n",
              "  </style>\n",
              "\n",
              "      <script>\n",
              "        const buttonEl =\n",
              "          document.querySelector('#df-3e7a7d9a-84a7-43ce-9fe0-99f61d804528 button.colab-df-convert');\n",
              "        buttonEl.style.display =\n",
              "          google.colab.kernel.accessAllowed ? 'block' : 'none';\n",
              "\n",
              "        async function convertToInteractive(key) {\n",
              "          const element = document.querySelector('#df-3e7a7d9a-84a7-43ce-9fe0-99f61d804528');\n",
              "          const dataTable =\n",
              "            await google.colab.kernel.invokeFunction('convertToInteractive',\n",
              "                                                     [key], {});\n",
              "          if (!dataTable) return;\n",
              "\n",
              "          const docLinkHtml = 'Like what you see? Visit the ' +\n",
              "            '<a target=\"_blank\" href=https://colab.research.google.com/notebooks/data_table.ipynb>data table notebook</a>'\n",
              "            + ' to learn more about interactive tables.';\n",
              "          element.innerHTML = '';\n",
              "          dataTable['output_type'] = 'display_data';\n",
              "          await google.colab.output.renderOutput(dataTable, element);\n",
              "          const docLink = document.createElement('div');\n",
              "          docLink.innerHTML = docLinkHtml;\n",
              "          element.appendChild(docLink);\n",
              "        }\n",
              "      </script>\n",
              "    </div>\n",
              "  </div>\n",
              "  "
            ],
            "text/plain": [
              "name             mtag1         mtag2          mtag3          mtag4\n",
              "group_id                                                          \n",
              "control   1.778085e-34  3.093881e-23   6.015812e-24  1.070246e-101\n",
              "no_sugar  3.270117e-68  2.101931e-80   5.271617e-87   3.381311e-18\n",
              "tmg                NaN           NaN  2.225074e-308            NaN"
            ]
          },
          "metadata": {},
          "execution_count": 20
        }
      ]
    },
    {
      "cell_type": "markdown",
      "source": [
        "## Manual Assignment"
      ],
      "metadata": {
        "id": "wUDeEkild8LI"
      }
    },
    {
      "cell_type": "code",
      "source": [
        "## John Assignment\n",
        "\n",
        "# load data\n",
        "mtx = mmread(\"./san.matrix.mtx\").toarray()\n",
        "\n",
        "bcs = []\n",
        "read_str_list(\"./san.barcodes.txt\", bcs)\n",
        "\n",
        "genes = []\n",
        "read_str_list(\"./san.genes.txt\", genes)\n",
        "\n",
        "# make df\n",
        "m = pd.DataFrame(mtx, index = bcs, columns=genes)\n",
        "\n",
        "# John assignment preprocessing\n",
        "john = m.div(m.sum(axis=0), axis=1) # normalize gene to be same\n",
        "john[\"mtag3\"] = john[\"mtag3\"] * 3.\n",
        "john *= 100000\n",
        "john.head()\n",
        "\n",
        "# assignment procedure\n",
        "def john_assign(row):\n",
        "  thresh = 40\n",
        "\n",
        "  # try all conditions\n",
        "  # where tags for conditions are high\n",
        "  # and non-tags are low\n",
        "  # assign\n",
        "  label = []\n",
        "  for c, v in markers.items():\n",
        "    other = list(set(genes) - set(v))\n",
        "\n",
        "    other.remove(\"dbco\")\n",
        "    c1 = row[v[0]] > thresh\n",
        "    c2 = row[v[1]] > thresh\n",
        "    c3 = row[other[0]] < thresh\n",
        "    c4 = row[other[1]] < thresh\n",
        "\n",
        "    if (c1&c2) & (c3&c4):\n",
        "      label.append(c)\n",
        "  return label\n",
        "\n",
        "blah = john.apply(john_assign, axis=1)\n",
        "d = blah[blah.map(lambda d: len(d) > 0)]\n",
        "d = d.map(lambda x: x[0])\n",
        "john[\"label\"] = john.index.map(d)\n",
        "john = john.dropna()"
      ],
      "metadata": {
        "id": "tHTPDXiPdC3B"
      },
      "execution_count": 25,
      "outputs": []
    },
    {
      "cell_type": "code",
      "source": [
        "## Top two assignment\n",
        "\n",
        "# load in data\n",
        "mtx = mmread(\"./san.matrix.mtx\").toarray()[:,:-1]\n",
        "dbco = mmread(\"./san.matrix.mtx\").toarray()[:,-1]\n",
        "\n",
        "bcs = []\n",
        "read_str_list(\"./san.barcodes.txt\", bcs)\n",
        "\n",
        "genes = []\n",
        "read_str_list(\"./san.genes.txt\", genes)\n",
        "genes.remove(\"dbco\")\n",
        "\n",
        "# make df\n",
        "man = pd.DataFrame(mtx, index=bcs, columns=genes)\n",
        "\n",
        "# pick top two expressed barcodes and assign based on map\n",
        "bcmap = {\n",
        "    (1,3): \"no_sugar\",\n",
        "    (3,4): \"control\",\n",
        "    (2,3): \"tmg\"\n",
        "}\n",
        "ind = np.sort(np.argpartition(mtx, -2)[:,-2:], axis=1) + 1\n",
        "assn = [bcmap.get(tuple(i), None) for i in ind]\n",
        "man[\"dbco\"] = dbco\n",
        "man[\"label\"] = assn"
      ],
      "metadata": {
        "id": "yOPibYAOd-PN"
      },
      "execution_count": 26,
      "outputs": []
    },
    {
      "cell_type": "code",
      "source": [
        "# gmm v john\n",
        "common = np.intersect1d(john.index.values, df.index.values)\n",
        "print((df.loc[common].label.values == john.loc[common].label.values).sum(), \"out of\", common.shape[0])"
      ],
      "metadata": {
        "colab": {
          "base_uri": "https://localhost:8080/"
        },
        "id": "yWCZkdpyeCjD",
        "outputId": "623215ea-d792-426f-9b7d-9eea3d98c123"
      },
      "execution_count": 27,
      "outputs": [
        {
          "output_type": "stream",
          "name": "stdout",
          "text": [
            "261 out of 454\n"
          ]
        }
      ]
    },
    {
      "cell_type": "code",
      "source": [
        "# man v john\n",
        "common = np.intersect1d(john.index.values, man.index.values)\n",
        "print((man.loc[common].label.values == john.loc[common].label.values).sum(), \"out of\", common.shape[0])"
      ],
      "metadata": {
        "colab": {
          "base_uri": "https://localhost:8080/"
        },
        "id": "es87v2I-eFSj",
        "outputId": "c7cd3718-4934-4150-80e1-d1709817535b"
      },
      "execution_count": 28,
      "outputs": [
        {
          "output_type": "stream",
          "name": "stdout",
          "text": [
            "446 out of 454\n"
          ]
        }
      ]
    },
    {
      "cell_type": "code",
      "source": [
        "# man v df\n",
        "common = np.intersect1d(df.index.values, man.index.values)\n",
        "print((man.loc[common].label.values == df.loc[common].label.values).sum(), \"out of\", common.shape[0])"
      ],
      "metadata": {
        "colab": {
          "base_uri": "https://localhost:8080/"
        },
        "id": "5i2QfwxseJAt",
        "outputId": "a0d6f230-738b-4af0-d93d-3659db7a2e6e"
      },
      "execution_count": 29,
      "outputs": [
        {
          "output_type": "stream",
          "name": "stdout",
          "text": [
            "1181 out of 1756\n"
          ]
        }
      ]
    },
    {
      "cell_type": "code",
      "source": [
        "john.groupby(\"label\")[\"dbco\"].mean()\n"
      ],
      "metadata": {
        "colab": {
          "base_uri": "https://localhost:8080/"
        },
        "id": "Z29SvwpreK6M",
        "outputId": "767b776a-36bd-432e-d402-69ec661c64c0"
      },
      "execution_count": 30,
      "outputs": [
        {
          "output_type": "execute_result",
          "data": {
            "text/plain": [
              "label\n",
              "control     25.372801\n",
              "no_sugar    17.837735\n",
              "tmg         40.977006\n",
              "Name: dbco, dtype: float64"
            ]
          },
          "metadata": {},
          "execution_count": 30
        }
      ]
    },
    {
      "cell_type": "code",
      "source": [
        "man.loc[common].groupby(\"label\")[\"dbco\"].mean()"
      ],
      "metadata": {
        "colab": {
          "base_uri": "https://localhost:8080/"
        },
        "id": "xvnX3GOueMlq",
        "outputId": "e41598ce-ec5b-4984-9767-5ce601245fae"
      },
      "execution_count": 31,
      "outputs": [
        {
          "output_type": "execute_result",
          "data": {
            "text/plain": [
              "label\n",
              "control     19.606828\n",
              "no_sugar    32.100186\n",
              "tmg         67.598039\n",
              "Name: dbco, dtype: float64"
            ]
          },
          "metadata": {},
          "execution_count": 31
        }
      ]
    },
    {
      "cell_type": "code",
      "source": [
        "df.loc[common].groupby(\"label\")[\"dbco\"].mean()"
      ],
      "metadata": {
        "colab": {
          "base_uri": "https://localhost:8080/"
        },
        "id": "b-v8LMdkeObJ",
        "outputId": "291627d5-c6ea-4066-a88a-39637a6d8ebf"
      },
      "execution_count": 32,
      "outputs": [
        {
          "output_type": "execute_result",
          "data": {
            "text/plain": [
              "label\n",
              "control     24.150649\n",
              "no_sugar    49.059133\n",
              "tmg          0.026667\n",
              "Name: dbco, dtype: float64"
            ]
          },
          "metadata": {},
          "execution_count": 32
        }
      ]
    },
    {
      "cell_type": "code",
      "source": [
        ""
      ],
      "metadata": {
        "id": "_xF1QqTSeR2U"
      },
      "execution_count": null,
      "outputs": []
    }
  ]
}