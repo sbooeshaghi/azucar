{
  "nbformat": 4,
  "nbformat_minor": 0,
  "metadata": {
    "colab": {
      "name": "imports.ipynb",
      "provenance": [],
      "collapsed_sections": [],
      "authorship_tag": "ABX9TyMUSPdX4K1IBVNfuF9h8/yC",
      "include_colab_link": true
    },
    "kernelspec": {
      "name": "python3",
      "display_name": "Python 3"
    },
    "language_info": {
      "name": "python"
    }
  },
  "cells": [
    {
      "cell_type": "markdown",
      "metadata": {
        "id": "view-in-github",
        "colab_type": "text"
      },
      "source": [
        "<a href=\"https://colab.research.google.com/github/sbooeshaghi/azucar/blob/main/analysis/293T/obs2/imports.ipynb\" target=\"_parent\"><img src=\"https://colab.research.google.com/assets/colab-badge.svg\" alt=\"Open In Colab\"/></a>"
      ]
    },
    {
      "cell_type": "code",
      "execution_count": 1,
      "metadata": {
        "colab": {
          "base_uri": "https://localhost:8080/"
        },
        "id": "MeH1Ws8_PHVE",
        "outputId": "306fab17-eb0f-48c5-b838-c98d075102bc"
      },
      "outputs": [
        {
          "output_type": "stream",
          "name": "stdout",
          "text": [
            "  Building wheel for ipfn (setup.py) ... \u001b[?25l\u001b[?25hdone\n",
            "  Building wheel for upsetplot (setup.py) ... \u001b[?25l\u001b[?25hdone\n"
          ]
        }
      ],
      "source": [
        "!pip install --quiet -U upsetplot scikit-learn git+http://github.com/dirguis/ipfn@master"
      ]
    },
    {
      "cell_type": "code",
      "source": [
        "!git clone https://github.com/sbooeshaghi/azucar.git"
      ],
      "metadata": {
        "colab": {
          "base_uri": "https://localhost:8080/"
        },
        "id": "3NA8IqSsPNrh",
        "outputId": "c641bd68-5f5a-48b9-d518-1452a47711e8"
      },
      "execution_count": 2,
      "outputs": [
        {
          "output_type": "stream",
          "name": "stdout",
          "text": [
            "Cloning into 'azucar'...\n",
            "remote: Enumerating objects: 1536, done.\u001b[K\n",
            "remote: Counting objects: 100% (294/294), done.\u001b[K\n",
            "remote: Compressing objects: 100% (285/285), done.\u001b[K\n",
            "remote: Total 1536 (delta 166), reused 43 (delta 9), pack-reused 1242\u001b[K\n",
            "Receiving objects: 100% (1536/1536), 1.70 GiB | 19.38 MiB/s, done.\n",
            "Resolving deltas: 100% (642/642), done.\n",
            "Checking out files: 100% (292/292), done.\n"
          ]
        }
      ]
    },
    {
      "cell_type": "code",
      "source": [
        "import os\n",
        "from scipy.io import mmread\n",
        "import pandas as pd\n",
        "import numpy as np"
      ],
      "metadata": {
        "id": "w5LeEhPfP8GI"
      },
      "execution_count": 1,
      "outputs": []
    },
    {
      "cell_type": "code",
      "source": [
        "sample = \"293T\"\n",
        "observation = \"obs2\"\n",
        "\n",
        "base_data = f\"azucar/analysis/{sample}/{observation}/out\"\n",
        "base_mark = f\"azucar/analysis/{sample}/{observation}/assign\"\n",
        "\n",
        "matrix_fn  = os.path.join(base_data, \"matrix.mtx\")\n",
        "genes_fn   = os.path.join(base_data, \"genes.txt\")\n",
        "barcodes_fn   = os.path.join(base_data, \"barcodes.txt\")\n",
        "\n",
        "!gunzip $base_data/*.gz"
      ],
      "metadata": {
        "colab": {
          "base_uri": "https://localhost:8080/"
        },
        "id": "O6HmJWigPxct",
        "outputId": "53a7206b-2ee9-4ac2-8fb7-49133594958c"
      },
      "execution_count": 2,
      "outputs": [
        {
          "output_type": "stream",
          "name": "stdout",
          "text": [
            "gzip: azucar/analysis/293T/obs2/out/*.gz: No such file or directory\n"
          ]
        }
      ]
    },
    {
      "cell_type": "code",
      "source": [
        "!rm *.mtx *.txt *.ec"
      ],
      "metadata": {
        "id": "Hsrhjm4UZUXH"
      },
      "execution_count": 3,
      "outputs": []
    },
    {
      "cell_type": "code",
      "source": [
        "from azucar.analysis.scripts.mx_sanitize import mx_sanitize\n",
        "from azucar.analysis.scripts.mx_filter import mx_filter, knee, gmm\n",
        "from azucar.analysis.scripts.mx_norm import mx_norm\n",
        "from azucar.analysis.scripts.ec_index import ec_index\n",
        "from azucar.analysis.scripts.mx_select import mx_select\n",
        "from azucar.analysis.scripts.mx_extract import mx_extract\n",
        "from azucar.analysis.scripts.mx_assign import mx_assign\n",
        "\n",
        "from azucar.analysis.scripts.utils import read_str_list"
      ],
      "metadata": {
        "id": "SGttZ8vDQHGf"
      },
      "execution_count": 4,
      "outputs": []
    },
    {
      "cell_type": "code",
      "source": [
        "markers_fn = os.path.join(base_mark, \"markers.txt\")"
      ],
      "metadata": {
        "id": "SprEGo7hQiOW"
      },
      "execution_count": 5,
      "outputs": []
    },
    {
      "cell_type": "code",
      "source": [
        "# drop barcodes and genes that sum to zero, update barcodes and genes file\n",
        "mx_sanitize(matrix_fn, barcodes_fn, genes_fn, \n",
        "            \"./san.matrix.mtx\", \n",
        "            \"./san.barcodes.txt\", \n",
        "            \"./san.genes.txt\")\n",
        "\n",
        "# knee plot gmm filter\n",
        "mx_filter(\"./san.matrix.mtx\",\n",
        "          \"./san.barcodes.txt\",\n",
        "          \"./san.fil.matrix.mtx\", \n",
        "          \"./san.fil.barcodes.txt\",\n",
        "          comps=[3,3])\n",
        "\n",
        "dbco = mmread(\"./san.fil.matrix.mtx\").toarray()[:,-1]\n",
        "\n",
        "# normalize matrix (log1p -> ipf)\n",
        "mx_norm(\"./san.fil.matrix.mtx\", \n",
        "        \"./san.log1p.matrix.mtx\", how=\"log1p\")\n",
        "\n",
        "mx_norm(\"./san.log1p.matrix.mtx\", \n",
        "        \"./san.norm.matrix.mtx\", how=\"ipf\", target_sum=1_000_000)\n",
        "\n",
        "dbco_norm = mmread(\"./san.norm.matrix.mtx\").toarray()[:,-1]\n",
        "\n",
        "# index the markers -> markers.ec marker_genes.txt groups.txt\n",
        "ec_index(markers_fn, \n",
        "        \"./markers.ec\", \n",
        "        \"./groups.txt\", \n",
        "        \"./marker_genes.txt\")\n",
        "# get the gene ids -> select.txt (selects in order of markers.ec)\n",
        "mx_select(markers_fn, \n",
        "          \"./san.genes.txt\", \n",
        "          \"./select.txt\")\n",
        "# extract elements from matrix that are of interest, rows / columns (with associated metadata)\n",
        "mx_extract(\"san.norm.matrix.mtx\", \n",
        "          \"san.genes.txt\", \n",
        "          \"select.txt\", \n",
        "          \"san.norm.extr.matrix.mtx\", \n",
        "          \"san.extr.genes.txt\", axis=1)\n",
        "\n",
        "# perform assignments with markers and matrices\n",
        "mx_assign(\"san.norm.extr.matrix.mtx\", \n",
        "          \"san.fil.barcodes.txt\", \n",
        "          \"san.extr.genes.txt\", \n",
        "          \"markers.ec\", \n",
        "          \"groups.txt\",\n",
        "          \"assignments.txt\")"
      ],
      "metadata": {
        "colab": {
          "base_uri": "https://localhost:8080/"
        },
        "id": "WXTyvfQ6Sc8O",
        "outputId": "56e34da8-5e45-4cd1-b63e-6af237081285"
      },
      "execution_count": 6,
      "outputs": [
        {
          "output_type": "stream",
          "name": "stdout",
          "text": [
            "Filtered to 2,514 cells with at least 137 UMIs.\n",
            "Initialization 0\n",
            "  Iteration 10\t time lapse 0.02947s\t ll change 0.04853\n",
            "  Iteration 20\t time lapse 0.04282s\t ll change 0.00012\n",
            "Initialization converged: True\t time lapse 0.07588s\t ll -21.05952\n"
          ]
        }
      ]
    },
    {
      "cell_type": "code",
      "source": [
        "df = pd.read_csv(\"assignments.txt\", sep=\"\\t\", index_col=0)\n",
        "print(\"shape: \", df.shape)\n",
        "\n",
        "# original counts (this is the same as make df above)\n",
        "raw_mtx = mmread(\"./san.fil.matrix.mtx\").toarray()\n",
        "raw_genes = []\n",
        "read_str_list(\"./san.genes.txt\", raw_genes)\n",
        "for idx, v in enumerate(raw_mtx.T):\n",
        "    df[f\"{raw_genes[idx]}\"] = v # np.exp(v) - 1\n",
        "\n",
        "df[\"dbco\"] = dbco\n",
        "df[\"dbco_ipf\"] = dbco_norm\n",
        "\n",
        "# for the np log\n",
        "df.loc[df['ent'] == 0.0, 'ent'] = np.finfo(float).tiny\n",
        "\n",
        "## find entropy cutoff\n",
        "adj_ent = -np.log(df[\"ent\"].values)\n",
        "\n",
        "u, xx, v = knee(np.log1p(adj_ent.reshape(-1,1)), sum_axis=1)\n",
        "(cutoff, ncells) = gmm(xx, v, comps=[3])\n",
        "cutoff = np.exp(cutoff) - 1 # adjust (since we log1p it)\n",
        "ent_cutoff = np.exp(-cutoff)\n",
        "\n",
        "print(ncells, ent_cutoff)"
      ],
      "metadata": {
        "colab": {
          "base_uri": "https://localhost:8080/"
        },
        "id": "M6L52jsJPPOY",
        "outputId": "43750998-4707-4223-867b-3b4d49dda021"
      },
      "execution_count": 7,
      "outputs": [
        {
          "output_type": "stream",
          "name": "stdout",
          "text": [
            "shape:  (2514, 10)\n",
            "511 5.539211577464892e-17\n"
          ]
        }
      ]
    },
    {
      "cell_type": "code",
      "source": [
        "df.query(f\"ent < {ent_cutoff}\").groupby(\"label\").agg({\n",
        "      \"mtag1_ipf\": \"mean\", \n",
        "      \"mtag2_ipf\": \"mean\",\n",
        "      \"mtag3_ipf\": \"mean\",\n",
        "      \"mtag4_ipf\": \"mean\",\n",
        "      \"dbco_ipf\": \"mean\",\n",
        "      \"label\": \"count\"\n",
        "      }).astype(float)"
      ],
      "metadata": {
        "colab": {
          "base_uri": "https://localhost:8080/",
          "height": 174
        },
        "id": "dquZbWWJXHUD",
        "outputId": "7784e48d-b575-48c6-9b0b-15319738afc4"
      },
      "execution_count": 8,
      "outputs": [
        {
          "output_type": "execute_result",
          "data": {
            "text/html": [
              "\n",
              "  <div id=\"df-37fe30ab-00e6-4063-b851-d52cfdd19998\">\n",
              "    <div class=\"colab-df-container\">\n",
              "      <div>\n",
              "<style scoped>\n",
              "    .dataframe tbody tr th:only-of-type {\n",
              "        vertical-align: middle;\n",
              "    }\n",
              "\n",
              "    .dataframe tbody tr th {\n",
              "        vertical-align: top;\n",
              "    }\n",
              "\n",
              "    .dataframe thead th {\n",
              "        text-align: right;\n",
              "    }\n",
              "</style>\n",
              "<table border=\"1\" class=\"dataframe\">\n",
              "  <thead>\n",
              "    <tr style=\"text-align: right;\">\n",
              "      <th></th>\n",
              "      <th>mtag1_ipf</th>\n",
              "      <th>mtag2_ipf</th>\n",
              "      <th>mtag3_ipf</th>\n",
              "      <th>mtag4_ipf</th>\n",
              "      <th>dbco_ipf</th>\n",
              "      <th>label</th>\n",
              "    </tr>\n",
              "    <tr>\n",
              "      <th>label</th>\n",
              "      <th></th>\n",
              "      <th></th>\n",
              "      <th></th>\n",
              "      <th></th>\n",
              "      <th></th>\n",
              "      <th></th>\n",
              "    </tr>\n",
              "  </thead>\n",
              "  <tbody>\n",
              "    <tr>\n",
              "      <th>control</th>\n",
              "      <td>2.646261</td>\n",
              "      <td>2.563956</td>\n",
              "      <td>8.540264</td>\n",
              "      <td>155.899557</td>\n",
              "      <td>228.123300</td>\n",
              "      <td>168.0</td>\n",
              "    </tr>\n",
              "    <tr>\n",
              "      <th>no_sugar</th>\n",
              "      <td>363.628268</td>\n",
              "      <td>1.993130</td>\n",
              "      <td>22.878874</td>\n",
              "      <td>8.048774</td>\n",
              "      <td>1.220847</td>\n",
              "      <td>204.0</td>\n",
              "    </tr>\n",
              "    <tr>\n",
              "      <th>tmg</th>\n",
              "      <td>5.502093</td>\n",
              "      <td>343.780744</td>\n",
              "      <td>31.865180</td>\n",
              "      <td>13.402548</td>\n",
              "      <td>3.223795</td>\n",
              "      <td>140.0</td>\n",
              "    </tr>\n",
              "  </tbody>\n",
              "</table>\n",
              "</div>\n",
              "      <button class=\"colab-df-convert\" onclick=\"convertToInteractive('df-37fe30ab-00e6-4063-b851-d52cfdd19998')\"\n",
              "              title=\"Convert this dataframe to an interactive table.\"\n",
              "              style=\"display:none;\">\n",
              "        \n",
              "  <svg xmlns=\"http://www.w3.org/2000/svg\" height=\"24px\"viewBox=\"0 0 24 24\"\n",
              "       width=\"24px\">\n",
              "    <path d=\"M0 0h24v24H0V0z\" fill=\"none\"/>\n",
              "    <path d=\"M18.56 5.44l.94 2.06.94-2.06 2.06-.94-2.06-.94-.94-2.06-.94 2.06-2.06.94zm-11 1L8.5 8.5l.94-2.06 2.06-.94-2.06-.94L8.5 2.5l-.94 2.06-2.06.94zm10 10l.94 2.06.94-2.06 2.06-.94-2.06-.94-.94-2.06-.94 2.06-2.06.94z\"/><path d=\"M17.41 7.96l-1.37-1.37c-.4-.4-.92-.59-1.43-.59-.52 0-1.04.2-1.43.59L10.3 9.45l-7.72 7.72c-.78.78-.78 2.05 0 2.83L4 21.41c.39.39.9.59 1.41.59.51 0 1.02-.2 1.41-.59l7.78-7.78 2.81-2.81c.8-.78.8-2.07 0-2.86zM5.41 20L4 18.59l7.72-7.72 1.47 1.35L5.41 20z\"/>\n",
              "  </svg>\n",
              "      </button>\n",
              "      \n",
              "  <style>\n",
              "    .colab-df-container {\n",
              "      display:flex;\n",
              "      flex-wrap:wrap;\n",
              "      gap: 12px;\n",
              "    }\n",
              "\n",
              "    .colab-df-convert {\n",
              "      background-color: #E8F0FE;\n",
              "      border: none;\n",
              "      border-radius: 50%;\n",
              "      cursor: pointer;\n",
              "      display: none;\n",
              "      fill: #1967D2;\n",
              "      height: 32px;\n",
              "      padding: 0 0 0 0;\n",
              "      width: 32px;\n",
              "    }\n",
              "\n",
              "    .colab-df-convert:hover {\n",
              "      background-color: #E2EBFA;\n",
              "      box-shadow: 0px 1px 2px rgba(60, 64, 67, 0.3), 0px 1px 3px 1px rgba(60, 64, 67, 0.15);\n",
              "      fill: #174EA6;\n",
              "    }\n",
              "\n",
              "    [theme=dark] .colab-df-convert {\n",
              "      background-color: #3B4455;\n",
              "      fill: #D2E3FC;\n",
              "    }\n",
              "\n",
              "    [theme=dark] .colab-df-convert:hover {\n",
              "      background-color: #434B5C;\n",
              "      box-shadow: 0px 1px 3px 1px rgba(0, 0, 0, 0.15);\n",
              "      filter: drop-shadow(0px 1px 2px rgba(0, 0, 0, 0.3));\n",
              "      fill: #FFFFFF;\n",
              "    }\n",
              "  </style>\n",
              "\n",
              "      <script>\n",
              "        const buttonEl =\n",
              "          document.querySelector('#df-37fe30ab-00e6-4063-b851-d52cfdd19998 button.colab-df-convert');\n",
              "        buttonEl.style.display =\n",
              "          google.colab.kernel.accessAllowed ? 'block' : 'none';\n",
              "\n",
              "        async function convertToInteractive(key) {\n",
              "          const element = document.querySelector('#df-37fe30ab-00e6-4063-b851-d52cfdd19998');\n",
              "          const dataTable =\n",
              "            await google.colab.kernel.invokeFunction('convertToInteractive',\n",
              "                                                     [key], {});\n",
              "          if (!dataTable) return;\n",
              "\n",
              "          const docLinkHtml = 'Like what you see? Visit the ' +\n",
              "            '<a target=\"_blank\" href=https://colab.research.google.com/notebooks/data_table.ipynb>data table notebook</a>'\n",
              "            + ' to learn more about interactive tables.';\n",
              "          element.innerHTML = '';\n",
              "          dataTable['output_type'] = 'display_data';\n",
              "          await google.colab.output.renderOutput(dataTable, element);\n",
              "          const docLink = document.createElement('div');\n",
              "          docLink.innerHTML = docLinkHtml;\n",
              "          element.appendChild(docLink);\n",
              "        }\n",
              "      </script>\n",
              "    </div>\n",
              "  </div>\n",
              "  "
            ],
            "text/plain": [
              "           mtag1_ipf   mtag2_ipf  mtag3_ipf   mtag4_ipf    dbco_ipf  label\n",
              "label                                                                     \n",
              "control     2.646261    2.563956   8.540264  155.899557  228.123300  168.0\n",
              "no_sugar  363.628268    1.993130  22.878874    8.048774    1.220847  204.0\n",
              "tmg         5.502093  343.780744  31.865180   13.402548    3.223795  140.0"
            ]
          },
          "metadata": {},
          "execution_count": 8
        }
      ]
    },
    {
      "cell_type": "code",
      "source": [
        ""
      ],
      "metadata": {
        "id": "SMAWp1THYClp"
      },
      "execution_count": 27,
      "outputs": []
    }
  ]
}