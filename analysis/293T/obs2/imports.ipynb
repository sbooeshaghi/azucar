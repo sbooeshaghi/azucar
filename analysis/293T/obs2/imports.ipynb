{
  "nbformat": 4,
  "nbformat_minor": 0,
  "metadata": {
    "colab": {
      "name": "imports.ipynb",
      "provenance": [],
      "collapsed_sections": [],
      "authorship_tag": "ABX9TyNuSbiGA7i9UkGyRhIRcCA/",
      "include_colab_link": true
    },
    "kernelspec": {
      "name": "python3",
      "display_name": "Python 3"
    },
    "language_info": {
      "name": "python"
    }
  },
  "cells": [
    {
      "cell_type": "markdown",
      "metadata": {
        "id": "view-in-github",
        "colab_type": "text"
      },
      "source": [
        "<a href=\"https://colab.research.google.com/github/sbooeshaghi/azucar/blob/main/analysis/293T/obs2/imports.ipynb\" target=\"_parent\"><img src=\"https://colab.research.google.com/assets/colab-badge.svg\" alt=\"Open In Colab\"/></a>"
      ]
    },
    {
      "cell_type": "code",
      "execution_count": 1,
      "metadata": {
        "colab": {
          "base_uri": "https://localhost:8080/"
        },
        "id": "MeH1Ws8_PHVE",
        "outputId": "78a3943d-beb6-4876-937a-bff62fea2b21"
      },
      "outputs": [
        {
          "output_type": "stream",
          "name": "stdout",
          "text": [
            "  Building wheel for ipfn (setup.py) ... \u001b[?25l\u001b[?25hdone\n",
            "  Building wheel for upsetplot (setup.py) ... \u001b[?25l\u001b[?25hdone\n"
          ]
        }
      ],
      "source": [
        "!pip install --quiet -U upsetplot scikit-learn git+http://github.com/dirguis/ipfn@master"
      ]
    },
    {
      "cell_type": "code",
      "source": [
        "!git clone https://github.com/sbooeshaghi/azucar.git"
      ],
      "metadata": {
        "colab": {
          "base_uri": "https://localhost:8080/"
        },
        "id": "3NA8IqSsPNrh",
        "outputId": "1bb813f1-ef98-481b-c716-2b9dbadbd3f9"
      },
      "execution_count": 2,
      "outputs": [
        {
          "output_type": "stream",
          "name": "stdout",
          "text": [
            "Cloning into 'azucar'...\n",
            "remote: Enumerating objects: 1571, done.\u001b[K\n",
            "remote: Counting objects: 100% (329/329), done.\u001b[K\n",
            "remote: Compressing objects: 100% (315/315), done.\u001b[K\n",
            "remote: Total 1571 (delta 190), reused 50 (delta 14), pack-reused 1242\u001b[K\n",
            "Receiving objects: 100% (1571/1571), 1.70 GiB | 28.00 MiB/s, done.\n",
            "Resolving deltas: 100% (666/666), done.\n",
            "Checking out files: 100% (293/293), done.\n"
          ]
        }
      ]
    },
    {
      "cell_type": "code",
      "source": [
        "import os\n",
        "from scipy.io import mmread\n",
        "import pandas as pd\n",
        "import numpy as np\n",
        "from collections import defaultdict"
      ],
      "metadata": {
        "id": "w5LeEhPfP8GI"
      },
      "execution_count": 1,
      "outputs": []
    },
    {
      "cell_type": "code",
      "source": [
        "sample = \"293T\"\n",
        "observation = \"obs2\"\n",
        "\n",
        "base_data = f\"azucar/analysis/{sample}/{observation}/out\"\n",
        "base_mark = f\"azucar/analysis/{sample}/{observation}/assign\"\n",
        "\n",
        "matrix_fn  = os.path.join(base_data, \"matrix.mtx\")\n",
        "genes_fn   = os.path.join(base_data, \"genes.txt\")\n",
        "barcodes_fn   = os.path.join(base_data, \"barcodes.txt\")\n",
        "\n",
        "!gunzip $base_data/*.gz"
      ],
      "metadata": {
        "colab": {
          "base_uri": "https://localhost:8080/"
        },
        "id": "O6HmJWigPxct",
        "outputId": "9f4de681-f67e-4459-fa6f-fb945c82f85a"
      },
      "execution_count": 22,
      "outputs": [
        {
          "output_type": "stream",
          "name": "stdout",
          "text": [
            "gzip: azucar/analysis/293T/obs2/out/*.gz: No such file or directory\n"
          ]
        }
      ]
    },
    {
      "cell_type": "code",
      "source": [
        "!rm *.mtx *.txt *.ec"
      ],
      "metadata": {
        "id": "Hsrhjm4UZUXH"
      },
      "execution_count": 23,
      "outputs": []
    },
    {
      "cell_type": "code",
      "source": [
        "from azucar.analysis.scripts.mx_sanitize import mx_sanitize\n",
        "from azucar.analysis.scripts.mx_filter import mx_filter, knee, gmm\n",
        "from azucar.analysis.scripts.mx_norm import mx_norm\n",
        "from azucar.analysis.scripts.ec_index import ec_index\n",
        "from azucar.analysis.scripts.ec_matrix import ec_matrix\n",
        "from azucar.analysis.scripts.mx_select import mx_select\n",
        "from azucar.analysis.scripts.mx_extract import mx_extract\n",
        "from azucar.analysis.scripts.mx_assign import mx_assign\n",
        "from azucar.analysis.scripts.mx_diff import mx_diff\n",
        "\n",
        "from azucar.analysis.scripts.utils import read_str_list, read_markers_str, get_marker_centroids, read_markers_ec, write_markers"
      ],
      "metadata": {
        "id": "SGttZ8vDQHGf"
      },
      "execution_count": 44,
      "outputs": []
    },
    {
      "cell_type": "code",
      "source": [
        "markers_fn = os.path.join(base_mark, \"markers.txt\")"
      ],
      "metadata": {
        "id": "SprEGo7hQiOW"
      },
      "execution_count": 25,
      "outputs": []
    },
    {
      "cell_type": "code",
      "source": [
        "# drop barcodes and genes that sum to zero, update barcodes and genes file\n",
        "mx_sanitize(matrix_fn, barcodes_fn, genes_fn, \n",
        "            \"./san.matrix.mtx\", \n",
        "            \"./san.barcodes.txt\", \n",
        "            \"./san.genes.txt\")\n",
        "\n",
        "# knee plot gmm filter\n",
        "mx_filter(\"./san.matrix.mtx\",\n",
        "          \"./san.barcodes.txt\",\n",
        "          \"./san.fil.matrix.mtx\", \n",
        "          \"./san.fil.barcodes.txt\",\n",
        "          comps=[3,3])#, select_axis=2)\n",
        "\n",
        "dbco = mmread(\"./san.fil.matrix.mtx\").toarray()[:,-1]\n",
        "\n",
        "# normalize matrix (log1p -> ipf)\n",
        "mx_norm(\"./san.fil.matrix.mtx\", \n",
        "        \"./san.log1p.matrix.mtx\", how=\"log1p\")\n",
        "\n",
        "mx_norm(\"./san.log1p.matrix.mtx\", \n",
        "        \"./san.norm.matrix.mtx\", how=\"ipf\")#, target_sum=1_000_000)\n",
        "\n",
        "dbco_norm = mmread(\"./san.norm.matrix.mtx\").toarray()[:,-1]\n",
        "\n",
        "# index the markers -> markers.ec marker_genes.txt groups.txt\n",
        "ec_index(markers_fn, \n",
        "        \"./markers.ec\", \n",
        "        \"./groups.txt\", \n",
        "        \"./marker_genes.txt\")\n",
        "# get the gene ids -> select.txt (selects in order of markers.ec)\n",
        "mx_select(markers_fn, \n",
        "          \"./san.genes.txt\", \n",
        "          \"./select.txt\")\n",
        "# extract elements from matrix that are of interest, rows / columns (with associated metadata)\n",
        "mx_extract(\"san.norm.matrix.mtx\", \n",
        "          \"san.genes.txt\", \n",
        "          \"select.txt\", \n",
        "          \"san.norm.extr.matrix.mtx\", \n",
        "          \"san.extr.genes.txt\", axis=1)\n",
        "\n",
        "# perform assignments with markers and matrices\n",
        "mx_assign(\"san.norm.extr.matrix.mtx\", \n",
        "          \"san.fil.barcodes.txt\", \n",
        "          \"san.extr.genes.txt\", \n",
        "          \"markers.ec\", \n",
        "          \"groups.txt\",\n",
        "          \"assignments.txt\")"
      ],
      "metadata": {
        "colab": {
          "base_uri": "https://localhost:8080/"
        },
        "id": "WXTyvfQ6Sc8O",
        "outputId": "8e59ab10-0f14-4a06-afd8-1dbd172a6afe"
      },
      "execution_count": 28,
      "outputs": [
        {
          "output_type": "stream",
          "name": "stdout",
          "text": [
            "Filtered to 2,514 cells with at least 137 UMIs.\n",
            "Initialization 0\n",
            "  Iteration 10\t time lapse 0.02031s\t ll change 0.04029\n",
            "  Iteration 20\t time lapse 0.01897s\t ll change 0.00013\n",
            "Initialization converged: True\t time lapse 0.04205s\t ll -7.84612\n"
          ]
        }
      ]
    },
    {
      "cell_type": "code",
      "source": [
        "df = pd.read_csv(\"assignments.txt\", sep=\"\\t\", index_col=0)\n",
        "print(\"shape: \", df.shape)\n",
        "\n",
        "# original counts (this is the same as make df above)\n",
        "raw_mtx = mmread(\"./san.fil.matrix.mtx\").toarray()\n",
        "raw_genes = []\n",
        "read_str_list(\"./san.genes.txt\", raw_genes)\n",
        "for idx, v in enumerate(raw_mtx.T):\n",
        "    df[f\"{raw_genes[idx]}\"] = v # np.exp(v) - 1\n",
        "\n",
        "df[\"dbco\"] = dbco\n",
        "df[\"dbco_ipf\"] = dbco_norm\n",
        "\n",
        "# for the np log\n",
        "df.loc[df['ent'] == 0.0, 'ent'] = np.finfo(float).tiny\n",
        "\n",
        "## find entropy cutoff\n",
        "adj_ent = -np.log(df[\"ent\"].values)\n",
        "\n",
        "u, xx, v = knee(np.log1p(adj_ent.reshape(-1,1)), sum_axis=1)\n",
        "(cutoff, ncells) = gmm(xx, v, comps=[3])\n",
        "cutoff = np.exp(cutoff) - 1 # adjust (since we log1p it)\n",
        "ent_cutoff = np.exp(-cutoff)\n",
        "\n",
        "print(ncells, ent_cutoff)"
      ],
      "metadata": {
        "colab": {
          "base_uri": "https://localhost:8080/"
        },
        "id": "M6L52jsJPPOY",
        "outputId": "ebfb5d0a-eab7-4873-8571-e4307303f7b7"
      },
      "execution_count": 29,
      "outputs": [
        {
          "output_type": "stream",
          "name": "stdout",
          "text": [
            "shape:  (2514, 10)\n",
            "511 5.5137080071387077e-17\n"
          ]
        }
      ]
    },
    {
      "cell_type": "code",
      "source": [
        "df.query(f\"ent < {ent_cutoff}\").groupby(\"label\").agg({\n",
        "      \"mtag1_ipf\": \"mean\", \n",
        "      \"mtag2_ipf\": \"mean\",\n",
        "      \"mtag3_ipf\": \"mean\",\n",
        "      \"mtag4_ipf\": \"mean\",\n",
        "      \"dbco_ipf\": \"mean\",\n",
        "      \"label\": \"count\"\n",
        "      }).astype(float)"
      ],
      "metadata": {
        "colab": {
          "base_uri": "https://localhost:8080/",
          "height": 174
        },
        "id": "dquZbWWJXHUD",
        "outputId": "fc8bf563-59c8-4c0c-ab2b-9f0fe0967cf6"
      },
      "execution_count": 41,
      "outputs": [
        {
          "output_type": "execute_result",
          "data": {
            "text/html": [
              "\n",
              "  <div id=\"df-0227a17a-acbb-4701-95b9-a37cff3ab2ff\">\n",
              "    <div class=\"colab-df-container\">\n",
              "      <div>\n",
              "<style scoped>\n",
              "    .dataframe tbody tr th:only-of-type {\n",
              "        vertical-align: middle;\n",
              "    }\n",
              "\n",
              "    .dataframe tbody tr th {\n",
              "        vertical-align: top;\n",
              "    }\n",
              "\n",
              "    .dataframe thead th {\n",
              "        text-align: right;\n",
              "    }\n",
              "</style>\n",
              "<table border=\"1\" class=\"dataframe\">\n",
              "  <thead>\n",
              "    <tr style=\"text-align: right;\">\n",
              "      <th></th>\n",
              "      <th>mtag1_ipf</th>\n",
              "      <th>mtag2_ipf</th>\n",
              "      <th>mtag3_ipf</th>\n",
              "      <th>mtag4_ipf</th>\n",
              "      <th>dbco_ipf</th>\n",
              "      <th>label</th>\n",
              "    </tr>\n",
              "    <tr>\n",
              "      <th>label</th>\n",
              "      <th></th>\n",
              "      <th></th>\n",
              "      <th></th>\n",
              "      <th></th>\n",
              "      <th></th>\n",
              "      <th></th>\n",
              "    </tr>\n",
              "  </thead>\n",
              "  <tbody>\n",
              "    <tr>\n",
              "      <th>control</th>\n",
              "      <td>0.097275</td>\n",
              "      <td>0.094250</td>\n",
              "      <td>0.313937</td>\n",
              "      <td>5.730803</td>\n",
              "      <td>8.385718</td>\n",
              "      <td>168.0</td>\n",
              "    </tr>\n",
              "    <tr>\n",
              "      <th>no_sugar</th>\n",
              "      <td>13.366825</td>\n",
              "      <td>0.073267</td>\n",
              "      <td>0.841018</td>\n",
              "      <td>0.295870</td>\n",
              "      <td>0.044878</td>\n",
              "      <td>204.0</td>\n",
              "    </tr>\n",
              "    <tr>\n",
              "      <th>tmg</th>\n",
              "      <td>0.202255</td>\n",
              "      <td>12.637238</td>\n",
              "      <td>1.171351</td>\n",
              "      <td>0.492672</td>\n",
              "      <td>0.118505</td>\n",
              "      <td>140.0</td>\n",
              "    </tr>\n",
              "  </tbody>\n",
              "</table>\n",
              "</div>\n",
              "      <button class=\"colab-df-convert\" onclick=\"convertToInteractive('df-0227a17a-acbb-4701-95b9-a37cff3ab2ff')\"\n",
              "              title=\"Convert this dataframe to an interactive table.\"\n",
              "              style=\"display:none;\">\n",
              "        \n",
              "  <svg xmlns=\"http://www.w3.org/2000/svg\" height=\"24px\"viewBox=\"0 0 24 24\"\n",
              "       width=\"24px\">\n",
              "    <path d=\"M0 0h24v24H0V0z\" fill=\"none\"/>\n",
              "    <path d=\"M18.56 5.44l.94 2.06.94-2.06 2.06-.94-2.06-.94-.94-2.06-.94 2.06-2.06.94zm-11 1L8.5 8.5l.94-2.06 2.06-.94-2.06-.94L8.5 2.5l-.94 2.06-2.06.94zm10 10l.94 2.06.94-2.06 2.06-.94-2.06-.94-.94-2.06-.94 2.06-2.06.94z\"/><path d=\"M17.41 7.96l-1.37-1.37c-.4-.4-.92-.59-1.43-.59-.52 0-1.04.2-1.43.59L10.3 9.45l-7.72 7.72c-.78.78-.78 2.05 0 2.83L4 21.41c.39.39.9.59 1.41.59.51 0 1.02-.2 1.41-.59l7.78-7.78 2.81-2.81c.8-.78.8-2.07 0-2.86zM5.41 20L4 18.59l7.72-7.72 1.47 1.35L5.41 20z\"/>\n",
              "  </svg>\n",
              "      </button>\n",
              "      \n",
              "  <style>\n",
              "    .colab-df-container {\n",
              "      display:flex;\n",
              "      flex-wrap:wrap;\n",
              "      gap: 12px;\n",
              "    }\n",
              "\n",
              "    .colab-df-convert {\n",
              "      background-color: #E8F0FE;\n",
              "      border: none;\n",
              "      border-radius: 50%;\n",
              "      cursor: pointer;\n",
              "      display: none;\n",
              "      fill: #1967D2;\n",
              "      height: 32px;\n",
              "      padding: 0 0 0 0;\n",
              "      width: 32px;\n",
              "    }\n",
              "\n",
              "    .colab-df-convert:hover {\n",
              "      background-color: #E2EBFA;\n",
              "      box-shadow: 0px 1px 2px rgba(60, 64, 67, 0.3), 0px 1px 3px 1px rgba(60, 64, 67, 0.15);\n",
              "      fill: #174EA6;\n",
              "    }\n",
              "\n",
              "    [theme=dark] .colab-df-convert {\n",
              "      background-color: #3B4455;\n",
              "      fill: #D2E3FC;\n",
              "    }\n",
              "\n",
              "    [theme=dark] .colab-df-convert:hover {\n",
              "      background-color: #434B5C;\n",
              "      box-shadow: 0px 1px 3px 1px rgba(0, 0, 0, 0.15);\n",
              "      filter: drop-shadow(0px 1px 2px rgba(0, 0, 0, 0.3));\n",
              "      fill: #FFFFFF;\n",
              "    }\n",
              "  </style>\n",
              "\n",
              "      <script>\n",
              "        const buttonEl =\n",
              "          document.querySelector('#df-0227a17a-acbb-4701-95b9-a37cff3ab2ff button.colab-df-convert');\n",
              "        buttonEl.style.display =\n",
              "          google.colab.kernel.accessAllowed ? 'block' : 'none';\n",
              "\n",
              "        async function convertToInteractive(key) {\n",
              "          const element = document.querySelector('#df-0227a17a-acbb-4701-95b9-a37cff3ab2ff');\n",
              "          const dataTable =\n",
              "            await google.colab.kernel.invokeFunction('convertToInteractive',\n",
              "                                                     [key], {});\n",
              "          if (!dataTable) return;\n",
              "\n",
              "          const docLinkHtml = 'Like what you see? Visit the ' +\n",
              "            '<a target=\"_blank\" href=https://colab.research.google.com/notebooks/data_table.ipynb>data table notebook</a>'\n",
              "            + ' to learn more about interactive tables.';\n",
              "          element.innerHTML = '';\n",
              "          dataTable['output_type'] = 'display_data';\n",
              "          await google.colab.output.renderOutput(dataTable, element);\n",
              "          const docLink = document.createElement('div');\n",
              "          docLink.innerHTML = docLinkHtml;\n",
              "          element.appendChild(docLink);\n",
              "        }\n",
              "      </script>\n",
              "    </div>\n",
              "  </div>\n",
              "  "
            ],
            "text/plain": [
              "          mtag1_ipf  mtag2_ipf  mtag3_ipf  mtag4_ipf  dbco_ipf  label\n",
              "label                                                                \n",
              "control    0.097275   0.094250   0.313937   5.730803  8.385718  168.0\n",
              "no_sugar  13.366825   0.073267   0.841018   0.295870  0.044878  204.0\n",
              "tmg        0.202255  12.637238   1.171351   0.492672  0.118505  140.0"
            ]
          },
          "metadata": {},
          "execution_count": 41
        }
      ]
    },
    {
      "cell_type": "code",
      "source": [
        "# fix mx_diff to save file\n",
        "mdf = mx_diff(\"san.norm.extr.matrix.mtx\", \n",
        "              \"san.barcodes.txt\", \n",
        "              \"san.extr.genes.txt\", \n",
        "              df[\"label\"].values)\n",
        "\n",
        "def convert_mtx(*x):\n",
        "  # x is a pandas series with multiple values\n",
        "  # but because our matrix has unique group, tag pairs\n",
        "  # there is only one element in the series\n",
        "  return x[0].values[0]\n",
        "\n",
        "es = mdf.groupby([\"group_id\", \"name\"])[\"es\"].apply(convert_mtx).unstack()\n",
        "pv = mdf.groupby([\"group_id\", \"name\"])[\"p_corr\"].apply(convert_mtx).unstack()\n",
        "\n",
        "xa, ya = np.where(es.values > 0)\n",
        "check = defaultdict(list)\n",
        "conditions = es.index.values\n",
        "tags = es.columns.values\n",
        "for i, j in zip(xa, ya):\n",
        "  check[conditions[i]].append(tags[j])\n",
        "\n",
        "markers = defaultdict(list)\n",
        "read_markers_str(markers_fn, markers)\n",
        "\n",
        "# number in true only, number in intersection, number in check only\n",
        "for ct, gs in markers.items():\n",
        "  tm = markers[ct]\n",
        "  cm = check.get(ct, [])\n",
        "\n",
        "  left  = np.setdiff1d  (tm, cm).shape[0]\n",
        "  itx   = np.intersect1d(tm, cm).shape[0]\n",
        "  right = np.setdiff1d  (cm, tm).shape[0]\n",
        "\n",
        "  print(f\"{left, itx, right} \\t {ct} \\t {tm} ∩ {cm}\")"
      ],
      "metadata": {
        "colab": {
          "base_uri": "https://localhost:8080/"
        },
        "id": "SMAWp1THYClp",
        "outputId": "0e354035-426f-403f-9221-f36d52ae04c5"
      },
      "execution_count": 31,
      "outputs": [
        {
          "output_type": "stream",
          "name": "stderr",
          "text": [
            "15-Feb-22 19:56:31 - 1 of 3 assignments: control\n",
            "15-Feb-22 19:56:31 - 2 of 3 assignments: no_sugar\n",
            "15-Feb-22 19:56:31 - 3 of 3 assignments: tmg\n"
          ]
        },
        {
          "output_type": "stream",
          "name": "stdout",
          "text": [
            "(0, 2, 0) \t no_sugar \t ['mtag1', 'mtag3'] ∩ ['mtag1', 'mtag3']\n",
            "(1, 1, 0) \t control \t ['mtag3', 'mtag4'] ∩ ['mtag4']\n",
            "(0, 2, 2) \t tmg \t ['mtag2', 'mtag3'] ∩ ['mtag1', 'mtag2', 'mtag3', 'mtag4']\n"
          ]
        }
      ]
    },
    {
      "cell_type": "code",
      "source": [
        "(es.values > 0).astype(int)"
      ],
      "metadata": {
        "colab": {
          "base_uri": "https://localhost:8080/"
        },
        "id": "y_yx1gvx71dd",
        "outputId": "9c590dcd-b9cd-4d43-b030-807a84644fc7"
      },
      "execution_count": 32,
      "outputs": [
        {
          "output_type": "execute_result",
          "data": {
            "text/plain": [
              "array([[0, 0, 0, 1],\n",
              "       [1, 0, 1, 0],\n",
              "       [1, 1, 1, 1]])"
            ]
          },
          "metadata": {},
          "execution_count": 32
        }
      ]
    },
    {
      "cell_type": "code",
      "source": [
        "es"
      ],
      "metadata": {
        "colab": {
          "base_uri": "https://localhost:8080/",
          "height": 174
        },
        "id": "K74xcVbtc7ym",
        "outputId": "691315de-aade-46e2-c0c8-be01f25457b5"
      },
      "execution_count": 33,
      "outputs": [
        {
          "output_type": "execute_result",
          "data": {
            "text/html": [
              "\n",
              "  <div id=\"df-a5b6ffbb-d436-4bda-b0d1-b69b22ecb6e3\">\n",
              "    <div class=\"colab-df-container\">\n",
              "      <div>\n",
              "<style scoped>\n",
              "    .dataframe tbody tr th:only-of-type {\n",
              "        vertical-align: middle;\n",
              "    }\n",
              "\n",
              "    .dataframe tbody tr th {\n",
              "        vertical-align: top;\n",
              "    }\n",
              "\n",
              "    .dataframe thead th {\n",
              "        text-align: right;\n",
              "    }\n",
              "</style>\n",
              "<table border=\"1\" class=\"dataframe\">\n",
              "  <thead>\n",
              "    <tr style=\"text-align: right;\">\n",
              "      <th>name</th>\n",
              "      <th>mtag1</th>\n",
              "      <th>mtag2</th>\n",
              "      <th>mtag3</th>\n",
              "      <th>mtag4</th>\n",
              "    </tr>\n",
              "    <tr>\n",
              "      <th>group_id</th>\n",
              "      <th></th>\n",
              "      <th></th>\n",
              "      <th></th>\n",
              "      <th></th>\n",
              "    </tr>\n",
              "  </thead>\n",
              "  <tbody>\n",
              "    <tr>\n",
              "      <th>control</th>\n",
              "      <td>-0.431252</td>\n",
              "      <td>-0.220084</td>\n",
              "      <td>-0.243212</td>\n",
              "      <td>0.518050</td>\n",
              "    </tr>\n",
              "    <tr>\n",
              "      <th>no_sugar</th>\n",
              "      <td>0.390362</td>\n",
              "      <td>NaN</td>\n",
              "      <td>0.132612</td>\n",
              "      <td>NaN</td>\n",
              "    </tr>\n",
              "    <tr>\n",
              "      <th>tmg</th>\n",
              "      <td>0.134967</td>\n",
              "      <td>0.844859</td>\n",
              "      <td>0.131266</td>\n",
              "      <td>0.191005</td>\n",
              "    </tr>\n",
              "  </tbody>\n",
              "</table>\n",
              "</div>\n",
              "      <button class=\"colab-df-convert\" onclick=\"convertToInteractive('df-a5b6ffbb-d436-4bda-b0d1-b69b22ecb6e3')\"\n",
              "              title=\"Convert this dataframe to an interactive table.\"\n",
              "              style=\"display:none;\">\n",
              "        \n",
              "  <svg xmlns=\"http://www.w3.org/2000/svg\" height=\"24px\"viewBox=\"0 0 24 24\"\n",
              "       width=\"24px\">\n",
              "    <path d=\"M0 0h24v24H0V0z\" fill=\"none\"/>\n",
              "    <path d=\"M18.56 5.44l.94 2.06.94-2.06 2.06-.94-2.06-.94-.94-2.06-.94 2.06-2.06.94zm-11 1L8.5 8.5l.94-2.06 2.06-.94-2.06-.94L8.5 2.5l-.94 2.06-2.06.94zm10 10l.94 2.06.94-2.06 2.06-.94-2.06-.94-.94-2.06-.94 2.06-2.06.94z\"/><path d=\"M17.41 7.96l-1.37-1.37c-.4-.4-.92-.59-1.43-.59-.52 0-1.04.2-1.43.59L10.3 9.45l-7.72 7.72c-.78.78-.78 2.05 0 2.83L4 21.41c.39.39.9.59 1.41.59.51 0 1.02-.2 1.41-.59l7.78-7.78 2.81-2.81c.8-.78.8-2.07 0-2.86zM5.41 20L4 18.59l7.72-7.72 1.47 1.35L5.41 20z\"/>\n",
              "  </svg>\n",
              "      </button>\n",
              "      \n",
              "  <style>\n",
              "    .colab-df-container {\n",
              "      display:flex;\n",
              "      flex-wrap:wrap;\n",
              "      gap: 12px;\n",
              "    }\n",
              "\n",
              "    .colab-df-convert {\n",
              "      background-color: #E8F0FE;\n",
              "      border: none;\n",
              "      border-radius: 50%;\n",
              "      cursor: pointer;\n",
              "      display: none;\n",
              "      fill: #1967D2;\n",
              "      height: 32px;\n",
              "      padding: 0 0 0 0;\n",
              "      width: 32px;\n",
              "    }\n",
              "\n",
              "    .colab-df-convert:hover {\n",
              "      background-color: #E2EBFA;\n",
              "      box-shadow: 0px 1px 2px rgba(60, 64, 67, 0.3), 0px 1px 3px 1px rgba(60, 64, 67, 0.15);\n",
              "      fill: #174EA6;\n",
              "    }\n",
              "\n",
              "    [theme=dark] .colab-df-convert {\n",
              "      background-color: #3B4455;\n",
              "      fill: #D2E3FC;\n",
              "    }\n",
              "\n",
              "    [theme=dark] .colab-df-convert:hover {\n",
              "      background-color: #434B5C;\n",
              "      box-shadow: 0px 1px 3px 1px rgba(0, 0, 0, 0.15);\n",
              "      filter: drop-shadow(0px 1px 2px rgba(0, 0, 0, 0.3));\n",
              "      fill: #FFFFFF;\n",
              "    }\n",
              "  </style>\n",
              "\n",
              "      <script>\n",
              "        const buttonEl =\n",
              "          document.querySelector('#df-a5b6ffbb-d436-4bda-b0d1-b69b22ecb6e3 button.colab-df-convert');\n",
              "        buttonEl.style.display =\n",
              "          google.colab.kernel.accessAllowed ? 'block' : 'none';\n",
              "\n",
              "        async function convertToInteractive(key) {\n",
              "          const element = document.querySelector('#df-a5b6ffbb-d436-4bda-b0d1-b69b22ecb6e3');\n",
              "          const dataTable =\n",
              "            await google.colab.kernel.invokeFunction('convertToInteractive',\n",
              "                                                     [key], {});\n",
              "          if (!dataTable) return;\n",
              "\n",
              "          const docLinkHtml = 'Like what you see? Visit the ' +\n",
              "            '<a target=\"_blank\" href=https://colab.research.google.com/notebooks/data_table.ipynb>data table notebook</a>'\n",
              "            + ' to learn more about interactive tables.';\n",
              "          element.innerHTML = '';\n",
              "          dataTable['output_type'] = 'display_data';\n",
              "          await google.colab.output.renderOutput(dataTable, element);\n",
              "          const docLink = document.createElement('div');\n",
              "          docLink.innerHTML = docLinkHtml;\n",
              "          element.appendChild(docLink);\n",
              "        }\n",
              "      </script>\n",
              "    </div>\n",
              "  </div>\n",
              "  "
            ],
            "text/plain": [
              "name         mtag1     mtag2     mtag3     mtag4\n",
              "group_id                                        \n",
              "control  -0.431252 -0.220084 -0.243212  0.518050\n",
              "no_sugar  0.390362       NaN  0.132612       NaN\n",
              "tmg       0.134967  0.844859  0.131266  0.191005"
            ]
          },
          "metadata": {},
          "execution_count": 33
        }
      ]
    },
    {
      "cell_type": "code",
      "source": [
        "pv"
      ],
      "metadata": {
        "colab": {
          "base_uri": "https://localhost:8080/",
          "height": 174
        },
        "id": "0AHKp_vSdALn",
        "outputId": "e3250b48-252d-4e39-ef3a-d5c346da3bc7"
      },
      "execution_count": 34,
      "outputs": [
        {
          "output_type": "execute_result",
          "data": {
            "text/html": [
              "\n",
              "  <div id=\"df-bb063443-387a-44e7-8111-562b78616679\">\n",
              "    <div class=\"colab-df-container\">\n",
              "      <div>\n",
              "<style scoped>\n",
              "    .dataframe tbody tr th:only-of-type {\n",
              "        vertical-align: middle;\n",
              "    }\n",
              "\n",
              "    .dataframe tbody tr th {\n",
              "        vertical-align: top;\n",
              "    }\n",
              "\n",
              "    .dataframe thead th {\n",
              "        text-align: right;\n",
              "    }\n",
              "</style>\n",
              "<table border=\"1\" class=\"dataframe\">\n",
              "  <thead>\n",
              "    <tr style=\"text-align: right;\">\n",
              "      <th>name</th>\n",
              "      <th>mtag1</th>\n",
              "      <th>mtag2</th>\n",
              "      <th>mtag3</th>\n",
              "      <th>mtag4</th>\n",
              "    </tr>\n",
              "    <tr>\n",
              "      <th>group_id</th>\n",
              "      <th></th>\n",
              "      <th></th>\n",
              "      <th></th>\n",
              "      <th></th>\n",
              "    </tr>\n",
              "  </thead>\n",
              "  <tbody>\n",
              "    <tr>\n",
              "      <th>control</th>\n",
              "      <td>7.520579e-58</td>\n",
              "      <td>9.277857e-19</td>\n",
              "      <td>1.778996e-17</td>\n",
              "      <td>3.015418e-67</td>\n",
              "    </tr>\n",
              "    <tr>\n",
              "      <th>no_sugar</th>\n",
              "      <td>1.900017e-11</td>\n",
              "      <td>NaN</td>\n",
              "      <td>1.039295e-02</td>\n",
              "      <td>NaN</td>\n",
              "    </tr>\n",
              "    <tr>\n",
              "      <th>tmg</th>\n",
              "      <td>3.761492e-06</td>\n",
              "      <td>3.343428e-268</td>\n",
              "      <td>1.558543e-06</td>\n",
              "      <td>4.879358e-13</td>\n",
              "    </tr>\n",
              "  </tbody>\n",
              "</table>\n",
              "</div>\n",
              "      <button class=\"colab-df-convert\" onclick=\"convertToInteractive('df-bb063443-387a-44e7-8111-562b78616679')\"\n",
              "              title=\"Convert this dataframe to an interactive table.\"\n",
              "              style=\"display:none;\">\n",
              "        \n",
              "  <svg xmlns=\"http://www.w3.org/2000/svg\" height=\"24px\"viewBox=\"0 0 24 24\"\n",
              "       width=\"24px\">\n",
              "    <path d=\"M0 0h24v24H0V0z\" fill=\"none\"/>\n",
              "    <path d=\"M18.56 5.44l.94 2.06.94-2.06 2.06-.94-2.06-.94-.94-2.06-.94 2.06-2.06.94zm-11 1L8.5 8.5l.94-2.06 2.06-.94-2.06-.94L8.5 2.5l-.94 2.06-2.06.94zm10 10l.94 2.06.94-2.06 2.06-.94-2.06-.94-.94-2.06-.94 2.06-2.06.94z\"/><path d=\"M17.41 7.96l-1.37-1.37c-.4-.4-.92-.59-1.43-.59-.52 0-1.04.2-1.43.59L10.3 9.45l-7.72 7.72c-.78.78-.78 2.05 0 2.83L4 21.41c.39.39.9.59 1.41.59.51 0 1.02-.2 1.41-.59l7.78-7.78 2.81-2.81c.8-.78.8-2.07 0-2.86zM5.41 20L4 18.59l7.72-7.72 1.47 1.35L5.41 20z\"/>\n",
              "  </svg>\n",
              "      </button>\n",
              "      \n",
              "  <style>\n",
              "    .colab-df-container {\n",
              "      display:flex;\n",
              "      flex-wrap:wrap;\n",
              "      gap: 12px;\n",
              "    }\n",
              "\n",
              "    .colab-df-convert {\n",
              "      background-color: #E8F0FE;\n",
              "      border: none;\n",
              "      border-radius: 50%;\n",
              "      cursor: pointer;\n",
              "      display: none;\n",
              "      fill: #1967D2;\n",
              "      height: 32px;\n",
              "      padding: 0 0 0 0;\n",
              "      width: 32px;\n",
              "    }\n",
              "\n",
              "    .colab-df-convert:hover {\n",
              "      background-color: #E2EBFA;\n",
              "      box-shadow: 0px 1px 2px rgba(60, 64, 67, 0.3), 0px 1px 3px 1px rgba(60, 64, 67, 0.15);\n",
              "      fill: #174EA6;\n",
              "    }\n",
              "\n",
              "    [theme=dark] .colab-df-convert {\n",
              "      background-color: #3B4455;\n",
              "      fill: #D2E3FC;\n",
              "    }\n",
              "\n",
              "    [theme=dark] .colab-df-convert:hover {\n",
              "      background-color: #434B5C;\n",
              "      box-shadow: 0px 1px 3px 1px rgba(0, 0, 0, 0.15);\n",
              "      filter: drop-shadow(0px 1px 2px rgba(0, 0, 0, 0.3));\n",
              "      fill: #FFFFFF;\n",
              "    }\n",
              "  </style>\n",
              "\n",
              "      <script>\n",
              "        const buttonEl =\n",
              "          document.querySelector('#df-bb063443-387a-44e7-8111-562b78616679 button.colab-df-convert');\n",
              "        buttonEl.style.display =\n",
              "          google.colab.kernel.accessAllowed ? 'block' : 'none';\n",
              "\n",
              "        async function convertToInteractive(key) {\n",
              "          const element = document.querySelector('#df-bb063443-387a-44e7-8111-562b78616679');\n",
              "          const dataTable =\n",
              "            await google.colab.kernel.invokeFunction('convertToInteractive',\n",
              "                                                     [key], {});\n",
              "          if (!dataTable) return;\n",
              "\n",
              "          const docLinkHtml = 'Like what you see? Visit the ' +\n",
              "            '<a target=\"_blank\" href=https://colab.research.google.com/notebooks/data_table.ipynb>data table notebook</a>'\n",
              "            + ' to learn more about interactive tables.';\n",
              "          element.innerHTML = '';\n",
              "          dataTable['output_type'] = 'display_data';\n",
              "          await google.colab.output.renderOutput(dataTable, element);\n",
              "          const docLink = document.createElement('div');\n",
              "          docLink.innerHTML = docLinkHtml;\n",
              "          element.appendChild(docLink);\n",
              "        }\n",
              "      </script>\n",
              "    </div>\n",
              "  </div>\n",
              "  "
            ],
            "text/plain": [
              "name             mtag1          mtag2         mtag3         mtag4\n",
              "group_id                                                         \n",
              "control   7.520579e-58   9.277857e-19  1.778996e-17  3.015418e-67\n",
              "no_sugar  1.900017e-11            NaN  1.039295e-02           NaN\n",
              "tmg       3.761492e-06  3.343428e-268  1.558543e-06  4.879358e-13"
            ]
          },
          "metadata": {},
          "execution_count": 34
        }
      ]
    },
    {
      "cell_type": "code",
      "source": [
        "ec_matrix(\"markers.ec\", \"markers.mtx\")"
      ],
      "metadata": {
        "id": "UVuHTtLbz3YU"
      },
      "execution_count": 35,
      "outputs": []
    },
    {
      "cell_type": "code",
      "source": [
        "!cat markers.mtx"
      ],
      "metadata": {
        "colab": {
          "base_uri": "https://localhost:8080/"
        },
        "id": "cg2CxN3x0m7K",
        "outputId": "50c8be44-9b53-4ddd-cf96-90a4ef4330ca"
      },
      "execution_count": 36,
      "outputs": [
        {
          "output_type": "stream",
          "name": "stdout",
          "text": [
            "%%MatrixMarket matrix coordinate integer general\n",
            "%\n",
            "3 4 6\n",
            "1 1 1\n",
            "1 2 1\n",
            "2 2 1\n",
            "2 3 1\n",
            "3 2 1\n",
            "3 4 1\n"
          ]
        }
      ]
    },
    {
      "cell_type": "code",
      "source": [
        "markers"
      ],
      "metadata": {
        "colab": {
          "base_uri": "https://localhost:8080/"
        },
        "id": "V_Ngbctb8Pxb",
        "outputId": "19e96625-0b3b-4126-b7f5-56a746a8f17d"
      },
      "execution_count": 37,
      "outputs": [
        {
          "output_type": "execute_result",
          "data": {
            "text/plain": [
              "defaultdict(list,\n",
              "            {'control': ['mtag3', 'mtag4'],\n",
              "             'no_sugar': ['mtag1', 'mtag3'],\n",
              "             'tmg': ['mtag2', 'mtag3']})"
            ]
          },
          "metadata": {},
          "execution_count": 37
        }
      ]
    },
    {
      "cell_type": "code",
      "source": [
        "# 0: no_sugar\n",
        "# 1: control\n",
        "# 2: tmg"
      ],
      "metadata": {
        "id": "upr-UfDm8gb3"
      },
      "execution_count": 38,
      "outputs": []
    },
    {
      "cell_type": "code",
      "source": [
        "df.query(f\"ent < {ent_cutoff}\").sort_values(\"label\").query(\"label == 'tmg'\").filter(like=\"_ipf\")"
      ],
      "metadata": {
        "colab": {
          "base_uri": "https://localhost:8080/",
          "height": 423
        },
        "id": "nJd2TdzG8LeU",
        "outputId": "2742f1a7-e5c3-4de9-9037-157c0b784937"
      },
      "execution_count": 43,
      "outputs": [
        {
          "output_type": "execute_result",
          "data": {
            "text/html": [
              "\n",
              "  <div id=\"df-ce6ffffb-cc9f-4ed0-945a-2182a36d0567\">\n",
              "    <div class=\"colab-df-container\">\n",
              "      <div>\n",
              "<style scoped>\n",
              "    .dataframe tbody tr th:only-of-type {\n",
              "        vertical-align: middle;\n",
              "    }\n",
              "\n",
              "    .dataframe tbody tr th {\n",
              "        vertical-align: top;\n",
              "    }\n",
              "\n",
              "    .dataframe thead th {\n",
              "        text-align: right;\n",
              "    }\n",
              "</style>\n",
              "<table border=\"1\" class=\"dataframe\">\n",
              "  <thead>\n",
              "    <tr style=\"text-align: right;\">\n",
              "      <th></th>\n",
              "      <th>mtag1_ipf</th>\n",
              "      <th>mtag3_ipf</th>\n",
              "      <th>mtag4_ipf</th>\n",
              "      <th>mtag2_ipf</th>\n",
              "      <th>dbco_ipf</th>\n",
              "    </tr>\n",
              "  </thead>\n",
              "  <tbody>\n",
              "    <tr>\n",
              "      <th>TGAATGCAGAGCCGTA</th>\n",
              "      <td>0.000000</td>\n",
              "      <td>1.605603</td>\n",
              "      <td>0.000000</td>\n",
              "      <td>13.016421</td>\n",
              "      <td>0.000000</td>\n",
              "    </tr>\n",
              "    <tr>\n",
              "      <th>ACACGCGGTGCCCAGT</th>\n",
              "      <td>1.557726</td>\n",
              "      <td>1.631942</td>\n",
              "      <td>1.878657</td>\n",
              "      <td>9.553671</td>\n",
              "      <td>0.000000</td>\n",
              "    </tr>\n",
              "    <tr>\n",
              "      <th>CGTTGGGGTGCCTACG</th>\n",
              "      <td>0.000000</td>\n",
              "      <td>0.000000</td>\n",
              "      <td>0.000000</td>\n",
              "      <td>14.622033</td>\n",
              "      <td>0.000000</td>\n",
              "    </tr>\n",
              "    <tr>\n",
              "      <th>CGTTGGGGTGCCTTTC</th>\n",
              "      <td>0.000000</td>\n",
              "      <td>1.584408</td>\n",
              "      <td>0.000000</td>\n",
              "      <td>13.037617</td>\n",
              "      <td>0.000000</td>\n",
              "    </tr>\n",
              "    <tr>\n",
              "      <th>TGAGCGCTCCACACCT</th>\n",
              "      <td>0.000000</td>\n",
              "      <td>0.000000</td>\n",
              "      <td>0.000000</td>\n",
              "      <td>14.622033</td>\n",
              "      <td>0.000000</td>\n",
              "    </tr>\n",
              "    <tr>\n",
              "      <th>...</th>\n",
              "      <td>...</td>\n",
              "      <td>...</td>\n",
              "      <td>...</td>\n",
              "      <td>...</td>\n",
              "      <td>...</td>\n",
              "    </tr>\n",
              "    <tr>\n",
              "      <th>CTGCTCAGTTTCAGAC</th>\n",
              "      <td>0.000000</td>\n",
              "      <td>3.888125</td>\n",
              "      <td>2.050677</td>\n",
              "      <td>8.683201</td>\n",
              "      <td>0.000000</td>\n",
              "    </tr>\n",
              "    <tr>\n",
              "      <th>TCAGGGCTCCGCATAA</th>\n",
              "      <td>0.964877</td>\n",
              "      <td>1.010847</td>\n",
              "      <td>2.327333</td>\n",
              "      <td>10.318946</td>\n",
              "      <td>0.000000</td>\n",
              "    </tr>\n",
              "    <tr>\n",
              "      <th>CTGCTCAGTTGGGAAC</th>\n",
              "      <td>1.325843</td>\n",
              "      <td>3.242947</td>\n",
              "      <td>1.599000</td>\n",
              "      <td>7.570383</td>\n",
              "      <td>0.883816</td>\n",
              "    </tr>\n",
              "    <tr>\n",
              "      <th>CAGGGCTAGGCACTCC</th>\n",
              "      <td>0.000000</td>\n",
              "      <td>1.533861</td>\n",
              "      <td>0.000000</td>\n",
              "      <td>13.088164</td>\n",
              "      <td>0.000000</td>\n",
              "    </tr>\n",
              "    <tr>\n",
              "      <th>GTCGTTCGTCTGCGCA</th>\n",
              "      <td>1.266110</td>\n",
              "      <td>4.541160</td>\n",
              "      <td>2.890214</td>\n",
              "      <td>5.924496</td>\n",
              "      <td>0.000000</td>\n",
              "    </tr>\n",
              "  </tbody>\n",
              "</table>\n",
              "<p>140 rows × 5 columns</p>\n",
              "</div>\n",
              "      <button class=\"colab-df-convert\" onclick=\"convertToInteractive('df-ce6ffffb-cc9f-4ed0-945a-2182a36d0567')\"\n",
              "              title=\"Convert this dataframe to an interactive table.\"\n",
              "              style=\"display:none;\">\n",
              "        \n",
              "  <svg xmlns=\"http://www.w3.org/2000/svg\" height=\"24px\"viewBox=\"0 0 24 24\"\n",
              "       width=\"24px\">\n",
              "    <path d=\"M0 0h24v24H0V0z\" fill=\"none\"/>\n",
              "    <path d=\"M18.56 5.44l.94 2.06.94-2.06 2.06-.94-2.06-.94-.94-2.06-.94 2.06-2.06.94zm-11 1L8.5 8.5l.94-2.06 2.06-.94-2.06-.94L8.5 2.5l-.94 2.06-2.06.94zm10 10l.94 2.06.94-2.06 2.06-.94-2.06-.94-.94-2.06-.94 2.06-2.06.94z\"/><path d=\"M17.41 7.96l-1.37-1.37c-.4-.4-.92-.59-1.43-.59-.52 0-1.04.2-1.43.59L10.3 9.45l-7.72 7.72c-.78.78-.78 2.05 0 2.83L4 21.41c.39.39.9.59 1.41.59.51 0 1.02-.2 1.41-.59l7.78-7.78 2.81-2.81c.8-.78.8-2.07 0-2.86zM5.41 20L4 18.59l7.72-7.72 1.47 1.35L5.41 20z\"/>\n",
              "  </svg>\n",
              "      </button>\n",
              "      \n",
              "  <style>\n",
              "    .colab-df-container {\n",
              "      display:flex;\n",
              "      flex-wrap:wrap;\n",
              "      gap: 12px;\n",
              "    }\n",
              "\n",
              "    .colab-df-convert {\n",
              "      background-color: #E8F0FE;\n",
              "      border: none;\n",
              "      border-radius: 50%;\n",
              "      cursor: pointer;\n",
              "      display: none;\n",
              "      fill: #1967D2;\n",
              "      height: 32px;\n",
              "      padding: 0 0 0 0;\n",
              "      width: 32px;\n",
              "    }\n",
              "\n",
              "    .colab-df-convert:hover {\n",
              "      background-color: #E2EBFA;\n",
              "      box-shadow: 0px 1px 2px rgba(60, 64, 67, 0.3), 0px 1px 3px 1px rgba(60, 64, 67, 0.15);\n",
              "      fill: #174EA6;\n",
              "    }\n",
              "\n",
              "    [theme=dark] .colab-df-convert {\n",
              "      background-color: #3B4455;\n",
              "      fill: #D2E3FC;\n",
              "    }\n",
              "\n",
              "    [theme=dark] .colab-df-convert:hover {\n",
              "      background-color: #434B5C;\n",
              "      box-shadow: 0px 1px 3px 1px rgba(0, 0, 0, 0.15);\n",
              "      filter: drop-shadow(0px 1px 2px rgba(0, 0, 0, 0.3));\n",
              "      fill: #FFFFFF;\n",
              "    }\n",
              "  </style>\n",
              "\n",
              "      <script>\n",
              "        const buttonEl =\n",
              "          document.querySelector('#df-ce6ffffb-cc9f-4ed0-945a-2182a36d0567 button.colab-df-convert');\n",
              "        buttonEl.style.display =\n",
              "          google.colab.kernel.accessAllowed ? 'block' : 'none';\n",
              "\n",
              "        async function convertToInteractive(key) {\n",
              "          const element = document.querySelector('#df-ce6ffffb-cc9f-4ed0-945a-2182a36d0567');\n",
              "          const dataTable =\n",
              "            await google.colab.kernel.invokeFunction('convertToInteractive',\n",
              "                                                     [key], {});\n",
              "          if (!dataTable) return;\n",
              "\n",
              "          const docLinkHtml = 'Like what you see? Visit the ' +\n",
              "            '<a target=\"_blank\" href=https://colab.research.google.com/notebooks/data_table.ipynb>data table notebook</a>'\n",
              "            + ' to learn more about interactive tables.';\n",
              "          element.innerHTML = '';\n",
              "          dataTable['output_type'] = 'display_data';\n",
              "          await google.colab.output.renderOutput(dataTable, element);\n",
              "          const docLink = document.createElement('div');\n",
              "          docLink.innerHTML = docLinkHtml;\n",
              "          element.appendChild(docLink);\n",
              "        }\n",
              "      </script>\n",
              "    </div>\n",
              "  </div>\n",
              "  "
            ],
            "text/plain": [
              "                  mtag1_ipf  mtag3_ipf  mtag4_ipf  mtag2_ipf  dbco_ipf\n",
              "TGAATGCAGAGCCGTA   0.000000   1.605603   0.000000  13.016421  0.000000\n",
              "ACACGCGGTGCCCAGT   1.557726   1.631942   1.878657   9.553671  0.000000\n",
              "CGTTGGGGTGCCTACG   0.000000   0.000000   0.000000  14.622033  0.000000\n",
              "CGTTGGGGTGCCTTTC   0.000000   1.584408   0.000000  13.037617  0.000000\n",
              "TGAGCGCTCCACACCT   0.000000   0.000000   0.000000  14.622033  0.000000\n",
              "...                     ...        ...        ...        ...       ...\n",
              "CTGCTCAGTTTCAGAC   0.000000   3.888125   2.050677   8.683201  0.000000\n",
              "TCAGGGCTCCGCATAA   0.964877   1.010847   2.327333  10.318946  0.000000\n",
              "CTGCTCAGTTGGGAAC   1.325843   3.242947   1.599000   7.570383  0.883816\n",
              "CAGGGCTAGGCACTCC   0.000000   1.533861   0.000000  13.088164  0.000000\n",
              "GTCGTTCGTCTGCGCA   1.266110   4.541160   2.890214   5.924496  0.000000\n",
              "\n",
              "[140 rows x 5 columns]"
            ]
          },
          "metadata": {},
          "execution_count": 43
        }
      ]
    },
    {
      "cell_type": "code",
      "source": [
        "# tags\n",
        "# AAGGCAGACG\tmtag1\n",
        "# GGCTGCGCAC\tmtag2\n",
        "# TAGTTGACAT\tmtag3\n",
        "# GACGCGCGTT\tmtag4\n",
        "# AGCGAACCGC\tdbco\n",
        "\n",
        "# mtag4 has 8bp shared seq with mtag4_rc\n",
        "\n",
        "# tags_revc\n",
        "# CGTCTGCCTT mtag1\n",
        "# GTGCGCAGCC mtag2\n",
        "# ATGTCAACTA mtag3\n",
        "# AACGCGCGTC mtag4\n",
        "# GCGGTTCGCT dbco"
      ],
      "metadata": {
        "id": "MPfyaZCS9xwM"
      },
      "execution_count": null,
      "outputs": []
    },
    {
      "cell_type": "code",
      "source": [
        "def merge(ecs1, ecs2):\n",
        "  m = defaultdict(set)\n",
        "\n",
        "  uniq = set(list(ecs1.keys()) + list(ecs2.keys()))\n",
        "  for k in uniq:\n",
        "    m[k].update(ecs2.get(k, []))\n",
        "    m[k].update(ecs1.get(k, []))\n",
        "\n",
        "  # convert from set to list\n",
        "  m = dict(zip(m.keys(), map(list, m.values())))\n",
        "  return m\n",
        "\n",
        "def ec_merge(ec_a_fn, ec_b_fn, ec_merge_fn):\n",
        "  ec_a = defaultdict(list)\n",
        "  read_markers_str(ec_a_fn, ec_a)\n",
        "\n",
        "  ec_b = defaultdict(list)\n",
        "  read_markers_str(ec_b_fn, ec_b)\n",
        "\n",
        "  m = merge(ec_a, ec_b)\n",
        "\n",
        "  write_markers(ec_merge_fn, m)"
      ],
      "metadata": {
        "id": "5YqvMwy1A1Xg"
      },
      "execution_count": 66,
      "outputs": []
    },
    {
      "cell_type": "code",
      "source": [
        "markers_a = {\n",
        "    \"a\": [1,2,3],\n",
        "    \"b\": [2,4],\n",
        "    \"c\": [1]\n",
        "}\n",
        "\n",
        "markers_b = {\n",
        "    \"a\": [4],\n",
        "    \"b\": [1],\n",
        "    \"c\": [2,3],\n",
        "    \"d\": [2]\n",
        "}"
      ],
      "metadata": {
        "id": "66rj6KYcCsw3"
      },
      "execution_count": 61,
      "outputs": []
    },
    {
      "cell_type": "code",
      "source": [
        "merge(markers_a, markers_b)"
      ],
      "metadata": {
        "id": "AHhn4L2zC_Rn",
        "outputId": "67de26af-a2c3-4821-ba89-3c9cec2313b1",
        "colab": {
          "base_uri": "https://localhost:8080/"
        }
      },
      "execution_count": 62,
      "outputs": [
        {
          "output_type": "execute_result",
          "data": {
            "text/plain": [
              "{'a': [1, 2, 3, 4], 'b': [1, 2, 4], 'c': [1, 2, 3], 'd': [2]}"
            ]
          },
          "metadata": {},
          "execution_count": 62
        }
      ]
    },
    {
      "cell_type": "code",
      "source": [
        "write_markers(\"test_a.txt\", markers_a)\n",
        "write_markers(\"test_b.txt\", markers_b)"
      ],
      "metadata": {
        "id": "ewbA8SAQD1fq"
      },
      "execution_count": 64,
      "outputs": []
    },
    {
      "cell_type": "code",
      "source": [
        "ec_merge(\"test_a.txt\", \"test_b.txt\", \"merge.txt\")"
      ],
      "metadata": {
        "id": "TCMGXJNHD9HL"
      },
      "execution_count": 67,
      "outputs": []
    },
    {
      "cell_type": "code",
      "source": [
        "!cat merge.txt"
      ],
      "metadata": {
        "id": "BR0OsV4mEFPE",
        "outputId": "ac8a654c-3ad8-4168-8ebb-9feae617ed58",
        "colab": {
          "base_uri": "https://localhost:8080/"
        }
      },
      "execution_count": 68,
      "outputs": [
        {
          "output_type": "stream",
          "name": "stdout",
          "text": [
            "d\t2\n",
            "a\t2,1,4,3\n",
            "b\t2,1,4\n",
            "c\t2,1,3\n"
          ]
        }
      ]
    },
    {
      "cell_type": "markdown",
      "source": [
        "## Manual Assignment"
      ],
      "metadata": {
        "id": "wUDeEkild8LI"
      }
    },
    {
      "cell_type": "code",
      "source": [
        "## John Assignment\n",
        "\n",
        "# load data\n",
        "mtx = mmread(\"./san.matrix.mtx\").toarray()\n",
        "\n",
        "bcs = []\n",
        "read_str_list(\"./san.barcodes.txt\", bcs)\n",
        "\n",
        "genes = []\n",
        "read_str_list(\"./san.genes.txt\", genes)\n",
        "\n",
        "# make df\n",
        "m = pd.DataFrame(mtx, index = bcs, columns=genes)\n",
        "\n",
        "# John assignment preprocessing\n",
        "john = m.div(m.sum(axis=0), axis=1) # normalize gene to be same\n",
        "john[\"mtag3\"] = john[\"mtag3\"] * 3.\n",
        "john *= 100000\n",
        "john.head()\n",
        "\n",
        "# assignment procedure\n",
        "def john_assign(row):\n",
        "  thresh = 40\n",
        "\n",
        "  # try all conditions\n",
        "  # where tags for conditions are high\n",
        "  # and non-tags are low\n",
        "  # assign\n",
        "  label = []\n",
        "  for c, v in markers.items():\n",
        "    other = list(set(genes) - set(v))\n",
        "\n",
        "    other.remove(\"dbco\")\n",
        "    c1 = row[v[0]] > thresh\n",
        "    c2 = row[v[1]] > thresh\n",
        "    c3 = row[other[0]] < thresh\n",
        "    c4 = row[other[1]] < thresh\n",
        "\n",
        "    if (c1&c2) & (c3&c4):\n",
        "      label.append(c)\n",
        "  return label\n",
        "\n",
        "blah = john.apply(john_assign, axis=1)\n",
        "d = blah[blah.map(lambda d: len(d) > 0)]\n",
        "d = d.map(lambda x: x[0])\n",
        "john[\"label\"] = john.index.map(d)\n",
        "john = john.dropna()"
      ],
      "metadata": {
        "id": "tHTPDXiPdC3B"
      },
      "execution_count": 14,
      "outputs": []
    },
    {
      "cell_type": "code",
      "source": [
        "## Top two assignment\n",
        "\n",
        "# load in data\n",
        "mtx = mmread(\"./san.matrix.mtx\").toarray()[:,:-1]\n",
        "dbco = mmread(\"./san.matrix.mtx\").toarray()[:,-1]\n",
        "\n",
        "bcs = []\n",
        "read_str_list(\"./san.barcodes.txt\", bcs)\n",
        "\n",
        "genes = []\n",
        "read_str_list(\"./san.genes.txt\", genes)\n",
        "genes.remove(\"dbco\")\n",
        "\n",
        "# make df\n",
        "man = pd.DataFrame(mtx, index=bcs, columns=genes)\n",
        "\n",
        "# pick top two expressed barcodes and assign based on map\n",
        "bcmap = {\n",
        "    (1,3): \"no_sugar\",\n",
        "    (3,4): \"control\",\n",
        "    (2,3): \"tmg\"\n",
        "}\n",
        "ind = np.sort(np.argpartition(mtx, -2)[:,-2:], axis=1) + 1\n",
        "assn = [bcmap.get(tuple(i), None) for i in ind]\n",
        "man[\"dbco\"] = dbco\n",
        "man[\"label\"] = assn"
      ],
      "metadata": {
        "id": "yOPibYAOd-PN"
      },
      "execution_count": 15,
      "outputs": []
    },
    {
      "cell_type": "code",
      "source": [
        "# gmm v john\n",
        "common = np.intersect1d(john.index.values, df.index.values)\n",
        "print((df.loc[common].label.values == john.loc[common].label.values).sum(), \"out of\", common.shape[0])"
      ],
      "metadata": {
        "colab": {
          "base_uri": "https://localhost:8080/"
        },
        "id": "yWCZkdpyeCjD",
        "outputId": "e13b74f9-47f3-4183-896f-c2e5efd61537"
      },
      "execution_count": 16,
      "outputs": [
        {
          "output_type": "stream",
          "name": "stdout",
          "text": [
            "261 out of 454\n"
          ]
        }
      ]
    },
    {
      "cell_type": "code",
      "source": [
        "# man v john\n",
        "common = np.intersect1d(john.index.values, man.index.values)\n",
        "print((man.loc[common].label.values == john.loc[common].label.values).sum(), \"out of\", common.shape[0])"
      ],
      "metadata": {
        "colab": {
          "base_uri": "https://localhost:8080/"
        },
        "id": "es87v2I-eFSj",
        "outputId": "ca7bfc00-8f69-4424-9316-13b22a1de337"
      },
      "execution_count": 17,
      "outputs": [
        {
          "output_type": "stream",
          "name": "stdout",
          "text": [
            "446 out of 454\n"
          ]
        }
      ]
    },
    {
      "cell_type": "code",
      "source": [
        "# man v df\n",
        "common = np.intersect1d(df.index.values, man.index.values)\n",
        "print((man.loc[common].label.values == df.loc[common].label.values).sum(), \"out of\", common.shape[0])"
      ],
      "metadata": {
        "colab": {
          "base_uri": "https://localhost:8080/"
        },
        "id": "5i2QfwxseJAt",
        "outputId": "9a919269-0a14-4691-da6c-426fdb19fda8"
      },
      "execution_count": 18,
      "outputs": [
        {
          "output_type": "stream",
          "name": "stdout",
          "text": [
            "1181 out of 1756\n"
          ]
        }
      ]
    },
    {
      "cell_type": "code",
      "source": [
        "john.groupby(\"label\")[\"dbco\"].mean()\n"
      ],
      "metadata": {
        "colab": {
          "base_uri": "https://localhost:8080/"
        },
        "id": "Z29SvwpreK6M",
        "outputId": "5d1e6209-35c1-4b96-c28c-7beaad2f241a"
      },
      "execution_count": 19,
      "outputs": [
        {
          "output_type": "execute_result",
          "data": {
            "text/plain": [
              "label\n",
              "control     25.372801\n",
              "no_sugar    17.837735\n",
              "tmg         40.977006\n",
              "Name: dbco, dtype: float64"
            ]
          },
          "metadata": {},
          "execution_count": 19
        }
      ]
    },
    {
      "cell_type": "code",
      "source": [
        "man.loc[common].groupby(\"label\")[\"dbco\"].mean()"
      ],
      "metadata": {
        "colab": {
          "base_uri": "https://localhost:8080/"
        },
        "id": "xvnX3GOueMlq",
        "outputId": "267c1c04-5d39-4a1d-a4b9-e1a31ab3f3a6"
      },
      "execution_count": 20,
      "outputs": [
        {
          "output_type": "execute_result",
          "data": {
            "text/plain": [
              "label\n",
              "control     19.606828\n",
              "no_sugar    32.100186\n",
              "tmg         67.598039\n",
              "Name: dbco, dtype: float64"
            ]
          },
          "metadata": {},
          "execution_count": 20
        }
      ]
    },
    {
      "cell_type": "code",
      "source": [
        "df.loc[common].groupby(\"label\")[\"dbco\"].mean()"
      ],
      "metadata": {
        "colab": {
          "base_uri": "https://localhost:8080/"
        },
        "id": "b-v8LMdkeObJ",
        "outputId": "e05bbc7d-fe66-40a7-94ac-29534666c737"
      },
      "execution_count": 21,
      "outputs": [
        {
          "output_type": "execute_result",
          "data": {
            "text/plain": [
              "label\n",
              "control     24.150649\n",
              "no_sugar    49.059133\n",
              "tmg          0.026667\n",
              "Name: dbco, dtype: float64"
            ]
          },
          "metadata": {},
          "execution_count": 21
        }
      ]
    },
    {
      "cell_type": "code",
      "source": [
        ""
      ],
      "metadata": {
        "id": "_xF1QqTSeR2U"
      },
      "execution_count": 21,
      "outputs": []
    }
  ]
}