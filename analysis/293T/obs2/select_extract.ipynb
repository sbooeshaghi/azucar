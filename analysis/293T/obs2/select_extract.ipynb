{
  "nbformat": 4,
  "nbformat_minor": 0,
  "metadata": {
    "colab": {
      "name": "select_extract.ipynb",
      "provenance": [],
      "collapsed_sections": [],
      "authorship_tag": "ABX9TyO/T+7bAFTg0sMQVzkAOflg",
      "include_colab_link": true
    },
    "kernelspec": {
      "name": "python3",
      "display_name": "Python 3"
    },
    "language_info": {
      "name": "python"
    }
  },
  "cells": [
    {
      "cell_type": "markdown",
      "metadata": {
        "id": "view-in-github",
        "colab_type": "text"
      },
      "source": [
        "<a href=\"https://colab.research.google.com/github/sbooeshaghi/azucar/blob/main/analysis/293T/obs2/select_extract.ipynb\" target=\"_parent\"><img src=\"https://colab.research.google.com/assets/colab-badge.svg\" alt=\"Open In Colab\"/></a>"
      ]
    },
    {
      "cell_type": "code",
      "source": [
        "#@title import\n",
        "import os\n",
        "\n",
        "import matplotlib.pyplot as plt\n",
        "from sklearn.metrics import rand_score\n",
        "from mpl_toolkits.axes_grid1 import make_axes_locatable\n",
        "import json\n",
        "import pandas as pd\n",
        "import numpy as np\n",
        "from sklearn.decomposition import PCA\n",
        "from collections import defaultdict\n",
        "from scipy.io import mmread, mmwrite\n",
        "from scipy.sparse import csr_matrix\n",
        "from sklearn.neighbors import KDTree\n",
        "from scipy.stats import entropy\n",
        "from itertools import combinations\n",
        "import sys\n",
        "import gzip\n",
        "from scipy.stats import entropy\n",
        "from sklearn.mixture import GaussianMixture\n",
        "\n",
        "\n",
        "def nd(arr):\n",
        "    return np.asarray(arr).reshape(-1)\n",
        "\n",
        "def yex(ax):\n",
        "    lims = [\n",
        "        np.min([ax.get_xlim(), ax.get_ylim()]),  # min of both axes\n",
        "        np.max([ax.get_xlim(), ax.get_ylim()]),  # max of both axes\n",
        "    ]\n",
        "\n",
        "    # now plot both limits against eachother\n",
        "    ax.plot(lims, lims, 'k-', alpha=0.75, zorder=0)\n",
        "    ax.set_aspect('equal')\n",
        "    ax.set_xlim(lims)\n",
        "    ax.set_ylim(lims)\n",
        "    return ax\n",
        "\n",
        "fsize=20\n",
        "\n",
        "plt.rcParams.update({'font.size': fsize})\n",
        "%config InlineBackend.figure_format = 'retina'"
      ],
      "metadata": {
        "cellView": "form",
        "id": "-anOSNpfBbI1"
      },
      "execution_count": 1,
      "outputs": []
    },
    {
      "cell_type": "code",
      "execution_count": 5,
      "metadata": {
        "id": "wCLuYNGzBPQf"
      },
      "outputs": [],
      "source": [
        "#@title mx select\n",
        "\n",
        "def write_markers(fname, markers):\n",
        "    with open(fname, 'w') as f:\n",
        "        for k, v in markers.items():\n",
        "            f.write(f'{k}\\t')\n",
        "            n = len(v)\n",
        "            for idx, i in enumerate(v):\n",
        "                f.write(f'{i}')\n",
        "                if idx < n - 1:\n",
        "                    f.write(',')\n",
        "            f.write('\\n')\n",
        "\n",
        "def read_markers(fname,\n",
        "                 markers_ec=defaultdict(list),\n",
        "                 celltype=defaultdict(),\n",
        "                 marker_genes=defaultdict()):\n",
        "    with open(fname, 'r') as f:\n",
        "        for idx, line in enumerate(f.readlines()):\n",
        "            ct, genes = line.strip().split('\\t')\n",
        "            celltype[ct] = idx\n",
        "\n",
        "            # two things\n",
        "            # 1. make marker_genes list\n",
        "            # 2. make markers_ec\n",
        "            for g in genes.split(','):\n",
        "                gidx = len(marker_genes)\n",
        "\n",
        "                # check if the gene has been added already\n",
        "                if g in marker_genes.keys():  # gene repeated\n",
        "                    gidx = marker_genes[g]\n",
        "                else:\n",
        "                    marker_genes[g] = gidx\n",
        "\n",
        "                # for the cell type index, add the marker gene index\n",
        "                markers_ec[celltype[ct]].append(marker_genes[g])\n",
        "\n",
        "            # sort the marker genes\n",
        "            markers_ec[celltype[ct]] = sorted(markers_ec[celltype[ct]])\n",
        "\n",
        "\n",
        "def read_genes(genes_fname, genes=defaultdict()):\n",
        "    with open(genes_fname) as f:\n",
        "        for idx, line in enumerate(f.readlines()):\n",
        "            gene = line.strip()\n",
        "            genes[gene] = idx\n",
        "\n",
        "\n",
        "def sel_genes(genes, marker_genes, sel=[]):\n",
        "    mg_inv = {v: k for k, v in marker_genes.items()}\n",
        "    for idx in range(len(mg_inv)):\n",
        "        # this maps the marker gene name index to the gene index\n",
        "        # in order of the marker_genes file\n",
        "        sel.append(genes[mg_inv[idx]])\n",
        "\n",
        "\n",
        "def write_list(fname, lst):\n",
        "    with open(fname, 'w') as f:\n",
        "        for el in lst:\n",
        "            f.write(f'{el}\\n')\n",
        "\n",
        "\n",
        "def mx_select(markers_fname, genes_fname, out_select_fn):\n",
        "  # select should be extensible to axis and genes -> md (metadata)\n",
        "    markers_ec = defaultdict(list)\n",
        "    celltypes = defaultdict()\n",
        "    marker_genes = defaultdict()\n",
        "    # this is duplicated from index, not ideal but w/e maybe ok\n",
        "    # ideally would want to give it markers.ec\n",
        "    read_markers(markers_fname, markers_ec, celltypes, marker_genes)\n",
        "\n",
        "    genes = defaultdict()\n",
        "    read_genes(genes_fname, genes)\n",
        "\n",
        "    sel = []\n",
        "    sel_genes(genes, marker_genes, sel)\n",
        "    write_list(out_select_fn, sel)"
      ]
    },
    {
      "cell_type": "code",
      "source": [
        "test_mtx = csr_matrix(np.array(\n",
        "    [\n",
        "     [1, 2, 2, 1, 5], # work on select.py for the case when a column is dropped\n",
        "     [0, 1, 2, 0, 3],\n",
        "     [0, 0, 0, 0, 0],\n",
        "     [2, 5, 1, 0, 3],\n",
        "     [4, 3, 3, 0, 1],\n",
        "     [1, 2, 1, 0, 0],\n",
        "     [3, 3, 0, 0, 0]\n",
        "    ]\n",
        "))\n",
        "\n",
        "test_genes = [\"tag1\", \"tag2\", \"tag3\", \"tag4\", \"tag5\"]\n",
        "test_barcodes = [\"A\", \"B\", \"C\", \"D\", \"E\", \"F\", \"G\"]\n",
        "\n",
        "test_markers = {\n",
        "    \"g1\": [\"tag1\", \"tag3\"],\n",
        "    \"g2\": [\"tag3\", \"tag4\"],\n",
        "    \"g3\" : [\"tag2\", \"tag5\"]\n",
        "}\n",
        "\n",
        "test_matrix_fn = \"test_mtx.mtx\"\n",
        "test_genes_fn = \"test_genes.txt\"\n",
        "test_barcodes_fn = \"test_barcodes.txt\"\n",
        "test_markers_fn = \"test_markers.txt\"\n",
        "\n",
        "mmwrite(test_matrix_fn, test_mtx)\n",
        "write_list(test_genes_fn, test_genes)\n",
        "write_list(test_barcodes_fn, test_barcodes)\n",
        "write_markers(test_markers_fn, test_markers)"
      ],
      "metadata": {
        "id": "rUZvPRqzCUwq"
      },
      "execution_count": 6,
      "outputs": []
    },
    {
      "cell_type": "code",
      "source": [
        "#@title test mx select\n",
        "# get the gene ids -> select.txt (selects in order of markers.ec)\n",
        "mx_select(test_markers_fn, \n",
        "          f\"test_genes.txt\", \n",
        "          \"./select.txt\")\n",
        "!cat select.txt"
      ],
      "metadata": {
        "colab": {
          "base_uri": "https://localhost:8080/"
        },
        "id": "4Vt98GqGCQVm",
        "outputId": "2309eef9-85b7-48bc-bb9a-0ba0d4c9f124"
      },
      "execution_count": 8,
      "outputs": [
        {
          "output_type": "stream",
          "name": "stdout",
          "text": [
            "0\n",
            "2\n",
            "3\n",
            "1\n",
            "4\n"
          ]
        }
      ]
    },
    {
      "cell_type": "code",
      "source": [
        "#@title mx extract\n",
        "\n",
        "def read_int_list(fname, lst=[]):\n",
        "  with open(fname) as f:\n",
        "    for idx, i in enumerate(f.readlines()):\n",
        "      lst.append(int(i.strip()))\n",
        "\n",
        "def read_str_list(fname, lst=list):\n",
        "  with open(fname, 'r') as f:\n",
        "    for idx, line in enumerate(f.readlines()):\n",
        "      lst.append(line.strip())\n",
        "\n",
        "def mx_extract(matrix_fn, \n",
        "               md_fn, \n",
        "               select_fn, \n",
        "               out_matrix_fn, \n",
        "               out_md_fn, \n",
        "               axis=1):\n",
        "  M = mmread(matrix_fn).toarray()\n",
        "\n",
        "  # column indices to select from gene matrix\n",
        "  sel = []\n",
        "  read_int_list(select_fn, sel)\n",
        "\n",
        "  # read in axis metadata (in this case its the gene list)\n",
        "  md = []\n",
        "  read_str_list(md_fn, md)\n",
        "\n",
        "  # # markers.ec, maps groups (indices) to marker genes (indices)\n",
        "  # markers_ec = defaultdict(list)\n",
        "  # read_markers_ec(markers_ec_fn, markers_ec)\n",
        "\n",
        "  # # the gene names\n",
        "  # genes = []\n",
        "  # read_str_list(genes_fn, genes)\n",
        "\n",
        "\n",
        "  # TODO MAKE SURE DROP GENES USED\n",
        "  # drop_genes = np.arange(M.shape[1])[~col_mask]\n",
        "  # drop_markers(markers_ec, set(drop_genes))\n",
        "\n",
        "  # mtx = M[row_mask][:,col_mask].astype(int)\n",
        "  # mtx_ipf = do_ipf(mtx.copy())\n",
        "\n",
        "  # mmwrite(matrix_e_fn, csr_matrix(mtx_ipf[:,sel]))\n",
        "  mmwrite(out_matrix_fn, csr_matrix(np.take(M, sel, axis=axis)))\n",
        "  write_list(out_md_fn, np.take(md, sel))"
      ],
      "metadata": {
        "cellView": "form",
        "id": "D_fylTp0CrCE"
      },
      "execution_count": 10,
      "outputs": []
    },
    {
      "cell_type": "code",
      "source": [
        "#@title test mx extract\n",
        "# extract elements from matrix that are of interest, rows / columns (with associated metadata)\n",
        "mx_extract(test_matrix_fn, \n",
        "           test_genes_fn, \n",
        "           \"select.txt\", \n",
        "           f\"extr.{test_matrix_fn}\", \n",
        "           f\"extr.{test_genes_fn}\", axis=1)\n",
        "\n",
        "!echo \"Before\"\n",
        "!cat $test_genes_fn | tr '\\n' ' ' && echo -e '\\n'\n",
        "mmread(test_matrix_fn).toarray()\n",
        "\n",
        "!echo \"Extracted\"\n",
        "!cat extr.$test_genes_fn | tr '\\n' ' ' && echo -e '\\n'\n",
        "mmread(f\"extr.{test_matrix_fn}\").toarray()"
      ],
      "metadata": {
        "colab": {
          "base_uri": "https://localhost:8080/"
        },
        "id": "C-hghQhYDMCq",
        "outputId": "c05fc17a-2d0e-4f3c-b02f-880639599db7"
      },
      "execution_count": 11,
      "outputs": [
        {
          "output_type": "stream",
          "name": "stdout",
          "text": [
            "Before\n",
            "tag1 tag2 tag3 tag4 tag5 \n",
            "\n",
            "Extracted\n",
            "tag1 tag3 tag4 tag2 tag5 \n",
            "\n"
          ]
        },
        {
          "output_type": "execute_result",
          "data": {
            "text/plain": [
              "array([[1, 2, 1, 2, 5],\n",
              "       [0, 2, 0, 1, 3],\n",
              "       [0, 0, 0, 0, 0],\n",
              "       [2, 1, 0, 5, 3],\n",
              "       [4, 3, 0, 3, 1],\n",
              "       [1, 1, 0, 2, 0],\n",
              "       [3, 0, 0, 3, 0]])"
            ]
          },
          "metadata": {},
          "execution_count": 11
        }
      ]
    },
    {
      "cell_type": "code",
      "source": [
        ""
      ],
      "metadata": {
        "id": "gGEcItiBDdSB"
      },
      "execution_count": null,
      "outputs": []
    }
  ]
}