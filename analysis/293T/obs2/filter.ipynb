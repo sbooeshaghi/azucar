{
  "nbformat": 4,
  "nbformat_minor": 0,
  "metadata": {
    "colab": {
      "name": "filter.ipynb",
      "provenance": [],
      "authorship_tag": "ABX9TyPKFqAooxcMOncXhW4EpK71",
      "include_colab_link": true
    },
    "kernelspec": {
      "name": "python3",
      "display_name": "Python 3"
    },
    "language_info": {
      "name": "python"
    }
  },
  "cells": [
    {
      "cell_type": "markdown",
      "metadata": {
        "id": "view-in-github",
        "colab_type": "text"
      },
      "source": [
        "<a href=\"https://colab.research.google.com/github/sbooeshaghi/azucar/blob/main/analysis/293T/obs2/filter.ipynb\" target=\"_parent\"><img src=\"https://colab.research.google.com/assets/colab-badge.svg\" alt=\"Open In Colab\"/></a>"
      ]
    },
    {
      "cell_type": "code",
      "source": [
        "!git clone https://github.com/sbooeshaghi/azucar.git"
      ],
      "metadata": {
        "colab": {
          "base_uri": "https://localhost:8080/"
        },
        "id": "bINOHuP31dsc",
        "outputId": "276f0187-c30c-44e0-8a42-dd2969472244"
      },
      "execution_count": 1,
      "outputs": [
        {
          "output_type": "stream",
          "name": "stdout",
          "text": [
            "Cloning into 'azucar'...\n",
            "remote: Enumerating objects: 1476, done.\u001b[K\n",
            "remote: Counting objects: 100% (234/234), done.\u001b[K\n",
            "remote: Compressing objects: 100% (231/231), done.\u001b[K\n",
            "remote: Total 1476 (delta 132), reused 21 (delta 3), pack-reused 1242\u001b[K\n",
            "Receiving objects: 100% (1476/1476), 1.70 GiB | 14.06 MiB/s, done.\n",
            "Resolving deltas: 100% (608/608), done.\n",
            "Checking out files: 100% (280/280), done.\n"
          ]
        }
      ]
    },
    {
      "cell_type": "code",
      "source": [
        "#@title import\n",
        "import os\n",
        "import matplotlib.pyplot as plt\n",
        "from sklearn.metrics import rand_score\n",
        "from mpl_toolkits.axes_grid1 import make_axes_locatable\n",
        "import json\n",
        "import pandas as pd\n",
        "import numpy as np\n",
        "from sklearn.decomposition import PCA\n",
        "from collections import defaultdict\n",
        "from scipy.io import mmread, mmwrite\n",
        "from scipy.sparse import csr_matrix\n",
        "from sklearn.neighbors import KDTree\n",
        "from scipy.stats import entropy\n",
        "from itertools import combinations\n",
        "import sys\n",
        "import gzip\n",
        "from scipy.stats import entropy\n",
        "from sklearn.mixture import GaussianMixture\n",
        "\n",
        "\n",
        "def nd(arr):\n",
        "    return np.asarray(arr).reshape(-1)\n",
        "\n",
        "def yex(ax):\n",
        "    lims = [\n",
        "        np.min([ax.get_xlim(), ax.get_ylim()]),  # min of both axes\n",
        "        np.max([ax.get_xlim(), ax.get_ylim()]),  # max of both axes\n",
        "    ]\n",
        "\n",
        "    # now plot both limits against eachother\n",
        "    ax.plot(lims, lims, 'k-', alpha=0.75, zorder=0)\n",
        "    ax.set_aspect('equal')\n",
        "    ax.set_xlim(lims)\n",
        "    ax.set_ylim(lims)\n",
        "    return ax\n",
        "\n",
        "fsize=20\n",
        "\n",
        "plt.rcParams.update({'font.size': fsize})\n",
        "%config InlineBackend.figure_format = 'retina'"
      ],
      "metadata": {
        "cellView": "form",
        "id": "XyBW_r7F1eEX"
      },
      "execution_count": 2,
      "outputs": []
    },
    {
      "cell_type": "code",
      "source": [
        "#@title mx sanitize\n",
        "\n",
        "def sanitize_mtx(mtx):\n",
        "  cell_count_mask = mtx.sum(1) > 0 # count for each cell\n",
        "  gene_count_mask = mtx.sum(0) > 0 # count for each gene\n",
        "\n",
        "  genes_detected_mask = (mtx > 0).sum(1) > 0 # n genes per cell\n",
        "  cells_detected_mask = (mtx > 0).sum(0) > 0 # n cells per gene\n",
        "  row_mask = np.logical_and(cell_count_mask, genes_detected_mask)\n",
        "  col_mask = np.logical_and(gene_count_mask, cells_detected_mask)\n",
        "\n",
        "  return (row_mask, col_mask)\n",
        "\n",
        "def mx_sanitize(matrix_fn, \n",
        "                barcodes_fn, \n",
        "                genes_fn, \n",
        "                out_matrix_fn, \n",
        "                out_barcodes_fn, \n",
        "                out_genes_fn):\n",
        "  # the barcode names\n",
        "  barcodes = []\n",
        "  read_str_list(barcodes_fn, barcodes)\n",
        "\n",
        "  # the gene names\n",
        "  genes = []\n",
        "  read_str_list(genes_fn, genes)\n",
        "  \n",
        "  # read in matrix and select columns and write back to disc\n",
        "  M = mmread(matrix_fn).toarray()\n",
        "  \n",
        "  # sanitize gene count matrix (remove cells / genes) and remove genes from  marker_ec\n",
        "  row_mask, col_mask = sanitize_mtx(M)\n",
        "  barcodes = np.array(barcodes)[row_mask]\n",
        "  genes = np.array(genes)[col_mask]\n",
        "  \n",
        "  mtx = M[row_mask][:,col_mask].astype(int)\n",
        "\n",
        "  # write everything\n",
        "  mmwrite(out_matrix_fn, csr_matrix(mtx))\n",
        "  write_list(out_barcodes_fn, barcodes)\n",
        "  write_list(out_genes_fn, genes)"
      ],
      "metadata": {
        "cellView": "form",
        "id": "2xqVTPPmQmFN"
      },
      "execution_count": 50,
      "outputs": []
    },
    {
      "cell_type": "code",
      "source": [
        "#@title mx filter\n",
        "\n",
        "def read_str_list(fname, lst=list):\n",
        "  with open(fname, 'r') as f:\n",
        "    for idx, line in enumerate(f.readlines()):\n",
        "      lst.append(line.strip())\n",
        "\n",
        "def write_list(fname, lst=list):\n",
        "  with open(fname, 'w') as f:\n",
        "    for idx, ele in enumerate(lst):\n",
        "      f.write(f\"{ele}\\n\")\n",
        "\n",
        "def knee(mtx, sum_axis):\n",
        "    u = nd(mtx.sum(sum_axis)) # counts per barcode\n",
        "    x = np.sort(u)[::-1] # sorted\n",
        "    v = np.log1p(x).reshape(-1, 1) # log1p and reshaped for gmm\n",
        "    return (u, x, v)\n",
        "\n",
        "def knee_select(mtx, select_axis):\n",
        "    u = nd(mtx[:,select_axis]) # counts per barcode\n",
        "    x = np.sort(u)[::-1] # sorted\n",
        "    v = np.log1p(x).reshape(-1, 1) # log1p and reshaped for gmm\n",
        "    return (u, x, v)\n",
        "\n",
        "def gmm(x, v, comps):#, n_comps = 2, n_iter=1):\n",
        "    n_comps = comps.pop(0)\n",
        "\n",
        "    gm = GaussianMixture(n_components=n_comps, random_state=42)\n",
        "    labels = gm.fit_predict(v)\n",
        "    prob = gm.predict_proba(v)\n",
        "    ent = entropy(prob, axis=1)\n",
        "    \n",
        "    # index of v where low count cell is\n",
        "    if n_comps == 2:\n",
        "        ind = np.argmax(ent)\n",
        "        log1p_cutoff = v[ind][0]\n",
        "        cutoff = x[ind]\n",
        "    elif n_comps > 2:\n",
        "        # sort means, and pick the range of the top two\n",
        "        means = np.sort((np.exp(gm.means_)-1).flatten())\n",
        "        r = np.logical_and(x>means[-2], x<means[-1]) # make ranage\n",
        "        df = pd.DataFrame({\"ent\": ent, \"idx\": np.arange(ent.shape[0]).astype(int)})[r]\n",
        "        amax = df[\"ent\"].argmax() # get the index (of x) where the entropy is the max (in range r)\n",
        "        idx = df.iloc[amax][\"idx\"].astype(int)\n",
        "        cutoff = x[idx]\n",
        "    \n",
        "    # n_iter -= 1\n",
        "    n_iter = len(comps)\n",
        "    if n_iter <= 0:\n",
        "        return (cutoff, (x>cutoff).sum())\n",
        "    return gmm(x[x>cutoff], v[x>cutoff], comps)#, n_comps, n_iter)\n",
        "\n",
        "\n",
        "def mx_filter(matrix_fn, md_fn, matrix_fn_out, md_fn_out, sum_axis=1, comps=[2], select_axis=None,):\n",
        "    # read matrix\n",
        "    mtx  = mmread(matrix_fn).tocsr().toarray()\n",
        "\n",
        "    # read barcodes\n",
        "    md = []\n",
        "    read_str_list(md_fn, md)\n",
        "\n",
        "    # find knee\n",
        "    # check this, do it twice?\n",
        "    u, x, v = knee(mtx, sum_axis)\n",
        "    if select_axis:\n",
        "      u, x, v = knee_select(mtx, select_axis)\n",
        "\n",
        "    (cutoff, ncells) = gmm(x, v, comps=comps) #n_iter=n_iter, n_comps=n_comps)\n",
        "    # (cutoff, ncells) = gmm(x[x>cutoff], v[x>cutoff], n_iter=1, n_comps=3)\n",
        "\n",
        "    print(\n",
        "        f\"Filtered to {ncells:,.0f} cells with at least {cutoff:,.0f} UMIs.\"\n",
        "    )\n",
        "\n",
        "    # mask matrix and netadata\n",
        "    mask = u > cutoff\n",
        "    mtx_f = mtx[mask]\n",
        "    md_f = np.array(md)[mask]\n",
        "    \n",
        "    # save filtered matrix\n",
        "    mmwrite(matrix_fn_out, mtx_f)\n",
        "    \n",
        "    # save filtered metadata\n",
        "    write_list(md_fn_out, md_f)"
      ],
      "metadata": {
        "cellView": "form",
        "id": "zS_naOAI1i8l"
      },
      "execution_count": 34,
      "outputs": []
    },
    {
      "cell_type": "code",
      "source": [
        "sample = \"293T\"\n",
        "observation = \"obs4\"\n",
        "\n",
        "base_data = f\"azucar/analysis/{sample}/{observation}/out\"\n",
        "base_mark = f\"azucar/analysis/{sample}/{observation}/assign\"\n",
        "\n",
        "matrix_fn  = os.path.join(base_data, \"matrix.mtx\")\n",
        "genes_fn   = os.path.join(base_data, \"genes.txt\")\n",
        "barcodes_fn   = os.path.join(base_data, \"barcodes.txt\")\n",
        "\n",
        "!gunzip $base_data/*.gz"
      ],
      "metadata": {
        "colab": {
          "base_uri": "https://localhost:8080/"
        },
        "id": "FW3un3-z1zNa",
        "outputId": "314ba453-7303-4a27-fadc-dedeede324b5"
      },
      "execution_count": 31,
      "outputs": [
        {
          "output_type": "stream",
          "name": "stdout",
          "text": [
            "gzip: azucar/analysis/293T/obs4/out/*.gz: No such file or directory\n"
          ]
        }
      ]
    },
    {
      "cell_type": "code",
      "source": [
        "!cat $genes_fn"
      ],
      "metadata": {
        "colab": {
          "base_uri": "https://localhost:8080/"
        },
        "id": "ElTUeQO5MS-y",
        "outputId": "ffb601e8-74a6-43da-9621-28335647b360"
      },
      "execution_count": 32,
      "outputs": [
        {
          "output_type": "stream",
          "name": "stdout",
          "text": [
            "mtag1\n",
            "mtag2\n",
            "mtag3\n",
            "mtag4\n",
            "dbco\n"
          ]
        }
      ]
    },
    {
      "cell_type": "code",
      "source": [
        "# drop barcodes and genes that sum to zero, update barcodes and genes file\n",
        "mx_sanitize(matrix_fn, barcodes_fn, genes_fn, \n",
        "            \"./san.matrix.mtx\", \n",
        "            \"./san.barcodes.txt\", \n",
        "            \"./san.genes.txt\")"
      ],
      "metadata": {
        "id": "jv4hFAgtQz3P"
      },
      "execution_count": 51,
      "outputs": []
    },
    {
      "cell_type": "code",
      "source": [
        "# knee plot gmm filter\n",
        "mx_filter(\"./san.matrix.mtx\",\n",
        "          \"./san.barcodes.txt\",\n",
        "          \"./san.fil.matrix.mtx\", \n",
        "          \"./san.fil.barcodes.txt\",\n",
        "          comps=[2, 3])"
      ],
      "metadata": {
        "colab": {
          "base_uri": "https://localhost:8080/"
        },
        "id": "_dFaX8lD14Me",
        "outputId": "b3256372-0d12-44fa-8741-cc4240de9653"
      },
      "execution_count": 52,
      "outputs": [
        {
          "output_type": "stream",
          "name": "stdout",
          "text": [
            "Filtered to 3,252 cells with at least 601 UMIs.\n"
          ]
        }
      ]
    },
    {
      "cell_type": "code",
      "source": [
        "# knee plot gmm filter\n",
        "mx_filter(\"./san.matrix.mtx\",\n",
        "          \"./san.barcodes.txt\",\n",
        "          \"./san.sel_fil.matrix.mtx\", \n",
        "          \"./san.sel_fil.barcodes.txt\",\n",
        "          comps=[2, 3],\n",
        "          select_axis=2)"
      ],
      "metadata": {
        "colab": {
          "base_uri": "https://localhost:8080/"
        },
        "id": "UrXlwQq62WS7",
        "outputId": "db4fbcbb-4968-4830-e1bd-71e15e479676"
      },
      "execution_count": 53,
      "outputs": [
        {
          "output_type": "stream",
          "name": "stdout",
          "text": [
            "Filtered to 1,114 cells with at least 270 UMIs.\n"
          ]
        }
      ]
    },
    {
      "cell_type": "code",
      "source": [
        "bc = []\n",
        "read_str_list(\"./san.fil.barcodes.txt\", bc)\n",
        "\n",
        "bc_sel = []\n",
        "read_str_list(\"./san.sel_fil.barcodes.txt\", bc_sel)"
      ],
      "metadata": {
        "id": "11BJw3t_ONul"
      },
      "execution_count": 54,
      "outputs": []
    },
    {
      "cell_type": "code",
      "source": [
        "def lir(a, b):\n",
        "    left  = np.setdiff1d(a,b).shape\n",
        "    itx   = np.intersect1d(a,b).shape\n",
        "    right = np.setdiff1d(b,a).shape\n",
        "    return (left, itx, right)"
      ],
      "metadata": {
        "id": "5ICkN78qOHQY"
      },
      "execution_count": 55,
      "outputs": []
    },
    {
      "cell_type": "code",
      "source": [
        "(left, itx, right) = lir(bc, bc_sel)\n",
        "print(left, itx, right)"
      ],
      "metadata": {
        "colab": {
          "base_uri": "https://localhost:8080/"
        },
        "id": "Mt_e_OnrOUSi",
        "outputId": "19ebdeab-f19d-48b3-ccbb-8b5adda5fa17"
      },
      "execution_count": 56,
      "outputs": [
        {
          "output_type": "stream",
          "name": "stdout",
          "text": [
            "(2287,) (965,) (149,)\n"
          ]
        }
      ]
    },
    {
      "cell_type": "code",
      "source": [
        ""
      ],
      "metadata": {
        "id": "z9tPM92qOWIh"
      },
      "execution_count": null,
      "outputs": []
    }
  ]
}