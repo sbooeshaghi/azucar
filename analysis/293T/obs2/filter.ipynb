{
  "nbformat": 4,
  "nbformat_minor": 0,
  "metadata": {
    "colab": {
      "name": "filter.ipynb",
      "provenance": [],
      "authorship_tag": "ABX9TyM6nhYxbBqyOYXnk7dc+yIi",
      "include_colab_link": true
    },
    "kernelspec": {
      "name": "python3",
      "display_name": "Python 3"
    },
    "language_info": {
      "name": "python"
    }
  },
  "cells": [
    {
      "cell_type": "markdown",
      "metadata": {
        "id": "view-in-github",
        "colab_type": "text"
      },
      "source": [
        "<a href=\"https://colab.research.google.com/github/sbooeshaghi/azucar/blob/main/analysis/293T/obs2/filter.ipynb\" target=\"_parent\"><img src=\"https://colab.research.google.com/assets/colab-badge.svg\" alt=\"Open In Colab\"/></a>"
      ]
    },
    {
      "cell_type": "code",
      "source": [
        "!git clone https://github.com/sbooeshaghi/azucar.git"
      ],
      "metadata": {
        "colab": {
          "base_uri": "https://localhost:8080/"
        },
        "id": "bINOHuP31dsc",
        "outputId": "b7b0cb7b-a618-44e3-820d-2aa68149bda6"
      },
      "execution_count": 1,
      "outputs": [
        {
          "output_type": "stream",
          "name": "stdout",
          "text": [
            "Cloning into 'azucar'...\n",
            "remote: Enumerating objects: 1470, done.\u001b[K\n",
            "remote: Counting objects: 100% (228/228), done.\u001b[K\n",
            "remote: Compressing objects: 100% (225/225), done.\u001b[K\n",
            "remote: Total 1470 (delta 129), reused 24 (delta 3), pack-reused 1242\u001b[K\n",
            "Receiving objects: 100% (1470/1470), 1.70 GiB | 30.62 MiB/s, done.\n",
            "Resolving deltas: 100% (605/605), done.\n",
            "Checking out files: 100% (279/279), done.\n"
          ]
        }
      ]
    },
    {
      "cell_type": "code",
      "source": [
        "#@title import\n",
        "import os\n",
        "import matplotlib.pyplot as plt\n",
        "from sklearn.metrics import rand_score\n",
        "from mpl_toolkits.axes_grid1 import make_axes_locatable\n",
        "import json\n",
        "import pandas as pd\n",
        "import numpy as np\n",
        "from sklearn.decomposition import PCA\n",
        "from collections import defaultdict\n",
        "from scipy.io import mmread, mmwrite\n",
        "from scipy.sparse import csr_matrix\n",
        "from sklearn.neighbors import KDTree\n",
        "from scipy.stats import entropy\n",
        "from itertools import combinations\n",
        "import sys\n",
        "import gzip\n",
        "from scipy.stats import entropy\n",
        "from sklearn.mixture import GaussianMixture\n",
        "\n",
        "\n",
        "def nd(arr):\n",
        "    return np.asarray(arr).reshape(-1)\n",
        "\n",
        "def yex(ax):\n",
        "    lims = [\n",
        "        np.min([ax.get_xlim(), ax.get_ylim()]),  # min of both axes\n",
        "        np.max([ax.get_xlim(), ax.get_ylim()]),  # max of both axes\n",
        "    ]\n",
        "\n",
        "    # now plot both limits against eachother\n",
        "    ax.plot(lims, lims, 'k-', alpha=0.75, zorder=0)\n",
        "    ax.set_aspect('equal')\n",
        "    ax.set_xlim(lims)\n",
        "    ax.set_ylim(lims)\n",
        "    return ax\n",
        "\n",
        "fsize=20\n",
        "\n",
        "plt.rcParams.update({'font.size': fsize})\n",
        "%config InlineBackend.figure_format = 'retina'"
      ],
      "metadata": {
        "cellView": "form",
        "id": "XyBW_r7F1eEX"
      },
      "execution_count": 2,
      "outputs": []
    },
    {
      "cell_type": "code",
      "source": [
        "#@title mx filter\n",
        "\n",
        "def read_str_list(fname, lst=list):\n",
        "  with open(fname, 'r') as f:\n",
        "    for idx, line in enumerate(f.readlines()):\n",
        "      lst.append(line.strip())\n",
        "\n",
        "def write_list(fname, lst=list):\n",
        "  with open(fname, 'w') as f:\n",
        "    for idx, ele in enumerate(lst):\n",
        "      f.write(f\"{ele}\\n\")\n",
        "\n",
        "def knee(mtx, axis):\n",
        "    u = nd(mtx.sum(axis)) # counts per barcode\n",
        "    x = np.sort(u)[::-1] # sorted\n",
        "    v = np.log1p(x).reshape(-1, 1) # log1p and reshaped for gmm\n",
        "    return (u, x, v)\n",
        "\n",
        "def gmm(x, v, comps):#, n_comps = 2, n_iter=1):\n",
        "    n_comps = comps.pop(0)\n",
        "\n",
        "    gm = GaussianMixture(n_components=n_comps, random_state=42)\n",
        "    labels = gm.fit_predict(v)\n",
        "    prob = gm.predict_proba(v)\n",
        "    ent = entropy(prob, axis=1)\n",
        "    \n",
        "    # index of v where low count cell is\n",
        "    if n_comps == 2:\n",
        "        ind = np.argmax(ent)\n",
        "        log1p_cutoff = v[ind][0]\n",
        "        cutoff = x[ind]\n",
        "    elif n_comps > 2:\n",
        "        # sort means, and pick the range of the top two\n",
        "        means = np.sort((np.exp(gm.means_)-1).flatten())\n",
        "        r = np.logical_and(x>means[-2], x<means[-1]) # make ranage\n",
        "        df = pd.DataFrame({\"ent\": ent, \"idx\": np.arange(ent.shape[0]).astype(int)})[r]\n",
        "        amax = df[\"ent\"].argmax() # get the index (of x) where the entropy is the max (in range r)\n",
        "        idx = df.iloc[amax][\"idx\"].astype(int)\n",
        "        cutoff = x[idx]\n",
        "    \n",
        "    # n_iter -= 1\n",
        "    n_iter = len(comps)\n",
        "    if n_iter <= 0:\n",
        "        return (cutoff, (x>cutoff).sum())\n",
        "    return gmm(x[x>cutoff], v[x>cutoff], comps)#, n_comps, n_iter)\n",
        "\n",
        "\n",
        "def mx_filter(matrix_fn, md_fn, matrix_fn_out, md_fn_out, axis=1, comps=[2]):\n",
        "    # read matrix\n",
        "    mtx  = mmread(matrix_fn).tocsr()\n",
        "\n",
        "    # read barcodes\n",
        "    md = []\n",
        "    read_str_list(md_fn, md)\n",
        "#     cmask = nd(mtx.sum(1) > 2)\n",
        "#     mtx = mtx[cmask]\n",
        "#     barcodes = np.array(barcodes)[cmask]\n",
        "\n",
        "    # find knee\n",
        "    # check this, do it twice?\n",
        "    u, x, v = knee(mtx, axis)\n",
        "    (cutoff, ncells) = gmm(x, v, comps=comps) #n_iter=n_iter, n_comps=n_comps)\n",
        "    # (cutoff, ncells) = gmm(x[x>cutoff], v[x>cutoff], n_iter=1, n_comps=3)\n",
        "\n",
        "    print(\n",
        "        f\"Filtered to {ncells:,.0f} cells with at least {cutoff:,.0f} UMIs.\"\n",
        "    )\n",
        "\n",
        "    # mask matrix and netadata\n",
        "    mask = u > cutoff\n",
        "    mtx_f = mtx[mask]\n",
        "    md_f = np.array(md)[mask]\n",
        "    \n",
        "    # save filtered matrix\n",
        "    mmwrite(matrix_fn_out, mtx_f)\n",
        "    \n",
        "    # save filtered metadata\n",
        "    write_list(md_fn_out, md_f)"
      ],
      "metadata": {
        "id": "zS_naOAI1i8l"
      },
      "execution_count": 12,
      "outputs": []
    },
    {
      "cell_type": "code",
      "source": [
        "sample = \"293T\"\n",
        "observation = \"obs4\"\n",
        "\n",
        "base_data = f\"azucar/analysis/{sample}/{observation}/out\"\n",
        "base_mark = f\"azucar/analysis/{sample}/{observation}/assign\"\n",
        "\n",
        "matrix_fn  = os.path.join(base_data, \"matrix.mtx\")\n",
        "genes_fn   = os.path.join(base_data, \"genes.txt\")\n",
        "barcodes_fn   = os.path.join(base_data, \"barcodes.txt\")\n",
        "\n",
        "!gunzip $base_data/*.gz"
      ],
      "metadata": {
        "colab": {
          "base_uri": "https://localhost:8080/"
        },
        "id": "FW3un3-z1zNa",
        "outputId": "92e14e39-79a1-45cb-a2a2-e499d93995dc"
      },
      "execution_count": 13,
      "outputs": [
        {
          "output_type": "stream",
          "name": "stdout",
          "text": [
            "gzip: azucar/analysis/293T/obs4/out/*.gz: No such file or directory\n"
          ]
        }
      ]
    },
    {
      "cell_type": "code",
      "source": [
        "# knee plot gmm filter\n",
        "mx_filter(matrix_fn,\n",
        "          barcodes_fn,\n",
        "          \"./san.matrix.mtx\", \n",
        "          \"./san.barcodes.txt\",\n",
        "          comps=[2])"
      ],
      "metadata": {
        "colab": {
          "base_uri": "https://localhost:8080/"
        },
        "id": "_dFaX8lD14Me",
        "outputId": "aca585be-0d97-4ea5-9846-e5564c1f2e54"
      },
      "execution_count": 14,
      "outputs": [
        {
          "output_type": "stream",
          "name": "stdout",
          "text": [
            "Filtered to 79,456 cells with at least 9 UMIs.\n"
          ]
        }
      ]
    },
    {
      "cell_type": "code",
      "source": [
        ""
      ],
      "metadata": {
        "id": "UrXlwQq62WS7"
      },
      "execution_count": null,
      "outputs": []
    }
  ]
}