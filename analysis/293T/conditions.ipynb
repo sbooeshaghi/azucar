{
  "nbformat": 4,
  "nbformat_minor": 0,
  "metadata": {
    "colab": {
      "provenance": [],
      "authorship_tag": "ABX9TyNUMqtC3C8bqOWokx8J6oYq",
      "include_colab_link": true
    },
    "kernelspec": {
      "name": "python3",
      "display_name": "Python 3"
    },
    "language_info": {
      "name": "python"
    }
  },
  "cells": [
    {
      "cell_type": "markdown",
      "metadata": {
        "id": "view-in-github",
        "colab_type": "text"
      },
      "source": [
        "<a href=\"https://colab.research.google.com/github/sbooeshaghi/azucar/blob/main/analysis/293T/conditions.ipynb\" target=\"_parent\"><img src=\"https://colab.research.google.com/assets/colab-badge.svg\" alt=\"Open In Colab\"/></a>"
      ]
    },
    {
      "cell_type": "code",
      "execution_count": 1,
      "metadata": {
        "colab": {
          "base_uri": "https://localhost:8080/"
        },
        "id": "e4yEFiIaUNTV",
        "outputId": "345b67ab-5ae8-47c7-c646-ff9a7a990bde"
      },
      "outputs": [
        {
          "output_type": "stream",
          "name": "stdout",
          "text": [
            "\u001b[K     |████████████████████████████████| 1.3 MB 8.0 MB/s \n",
            "\u001b[K     |████████████████████████████████| 1.1 MB 58.2 MB/s \n",
            "\u001b[K     |████████████████████████████████| 96 kB 2.8 MB/s \n",
            "\u001b[K     |████████████████████████████████| 88 kB 7.1 MB/s \n",
            "\u001b[K     |████████████████████████████████| 1.1 MB 59.6 MB/s \n",
            "\u001b[K     |████████████████████████████████| 3.2 MB 51.7 MB/s \n",
            "\u001b[K     |████████████████████████████████| 63 kB 705 kB/s \n",
            "\u001b[?25h  Building wheel for umap-learn (setup.py) ... \u001b[?25l\u001b[?25hdone\n",
            "  Building wheel for pynndescent (setup.py) ... \u001b[?25l\u001b[?25hdone\n",
            "  Building wheel for session-info (setup.py) ... \u001b[?25l\u001b[?25hdone\n",
            "\u001b[K     |████████████████████████████████| 2.0 MB 8.6 MB/s \n",
            "\u001b[?25h"
          ]
        }
      ],
      "source": [
        "!pip install --quiet leidenalg louvain anndata umap-learn pynndescent session-info\n",
        "!pip install --quiet --no-deps scanpy"
      ]
    },
    {
      "cell_type": "code",
      "source": [
        "!curl -Ls https://github.com/sbooeshaghi/azucar/blob/main/data/brain/obs1/obs.h5ad.gz?raw=true | gunzip > obs1.h5ad\n",
        "!curl -Ls https://github.com/sbooeshaghi/azucar/blob/main/data/brain/obs2/obs.h5ad.gz?raw=true | gunzip > obs2.h5ad\n",
        "!curl -Ls https://github.com/sbooeshaghi/azucar/blob/main/data/brain/obs3/obs.h5ad.gz?raw=true | gunzip > obs3.h5ad\n",
        "!curl -Ls https://github.com/sbooeshaghi/azucar/blob/main/data/brain/obs4/obs.h5ad.gz?raw=true | gunzip > obs4.h5ad\n",
        "!curl -Ls https://github.com/sbooeshaghi/azucar/blob/main/data/brain/obs5/obs.h5ad.gz?raw=true | gunzip > obs5.h5ad\n",
        "!curl -Ls https://github.com/sbooeshaghi/azucar/blob/main/data/brain/obs6/obs.h5ad.gz?raw=true | gunzip > obs6.h5ad\n",
        "!curl -Ls https://github.com/sbooeshaghi/azucar/blob/main/data/brain/obs7/obs.h5ad.gz?raw=true | gunzip > obs7.h5ad"
      ],
      "metadata": {
        "id": "6MJP6rGBUY2x"
      },
      "execution_count": 2,
      "outputs": []
    },
    {
      "cell_type": "code",
      "source": [
        "import anndata\n",
        "import scanpy as sc\n",
        "import pandas as pd\n",
        "import numpy as np\n",
        "from scipy.sparse import csr_matrix\n",
        "import matplotlib.pyplot as plt\n",
        "from sklearn.preprocessing import normalize, scale\n",
        "import glob\n",
        "\n",
        "import numpy.lib.recfunctions as rf\n",
        "\n",
        "def nd(arr):\n",
        "    return np.asarray(arr).reshape(-1)\n",
        "\n",
        "fsize=20\n",
        "\n",
        "plt.rcParams.update({'font.size': fsize})\n",
        "%config InlineBackend.figure_format = 'retina'"
      ],
      "metadata": {
        "id": "A2S006JyUWb_"
      },
      "execution_count": 4,
      "outputs": []
    },
    {
      "cell_type": "code",
      "source": [
        "fns = sorted(glob.glob(\"obs*.h5ad\"))"
      ],
      "metadata": {
        "id": "i0JzPRZ3VKKS"
      },
      "execution_count": 6,
      "outputs": []
    },
    {
      "cell_type": "code",
      "source": [
        "# replicate 1\n",
        "o1 = anndata.read_h5ad(fns[0])\n",
        "o2 = anndata.read_h5ad(fns[1])\n",
        "o3 = anndata.read_h5ad(fns[2])\n",
        "o4 = anndata.read_h5ad(fns[3])\n",
        "\n",
        "r1 = o1.copy()\n",
        "r2 = anndata.concat([o2, o3])\n",
        "r3 = o4.copy()"
      ],
      "metadata": {
        "colab": {
          "base_uri": "https://localhost:8080/"
        },
        "id": "nJWrbSj3Vblq",
        "outputId": "0abf42f4-dcac-4139-957a-26b681ab87e7"
      },
      "execution_count": 7,
      "outputs": [
        {
          "output_type": "stream",
          "name": "stderr",
          "text": [
            "/usr/local/lib/python3.7/dist-packages/anndata/_core/anndata.py:1828: UserWarning: Observation names are not unique. To make them unique, call `.obs_names_make_unique`.\n",
            "  utils.warn_names_duplicates(\"obs\")\n"
          ]
        }
      ]
    },
    {
      "cell_type": "code",
      "source": [
        "print(f\"Replicate 1: {r1.shape}\")\n",
        "print(f\"Replicate 2: {r2.shape}\")\n",
        "print(f\"Replicate 3: {r3.shape}\")"
      ],
      "metadata": {
        "colab": {
          "base_uri": "https://localhost:8080/"
        },
        "id": "PXhZPo57Vf33",
        "outputId": "b3c34f82-642b-4ca5-872f-d931de5cc6b8"
      },
      "execution_count": 8,
      "outputs": [
        {
          "output_type": "stream",
          "name": "stdout",
          "text": [
            "Replicate 1: (265950, 55416)\n",
            "Replicate 2: (490596, 55416)\n",
            "Replicate 3: (472116, 55416)\n"
          ]
        }
      ]
    },
    {
      "cell_type": "code",
      "source": [],
      "metadata": {
        "id": "roVTbV1_VjgC"
      },
      "execution_count": null,
      "outputs": []
    }
  ]
}