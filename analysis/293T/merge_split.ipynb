{
 "cells": [
  {
   "cell_type": "markdown",
   "metadata": {
    "colab_type": "text",
    "id": "view-in-github"
   },
   "source": [
    "<a href=\"https://colab.research.google.com/github/sbooeshaghi/azucar/blob/main/analysis/293T/merge_split.ipynb\" target=\"_parent\"><img src=\"https://colab.research.google.com/assets/colab-badge.svg\" alt=\"Open In Colab\"/></a>"
   ]
  },
  {
   "cell_type": "code",
   "execution_count": 1,
   "metadata": {
    "colab": {
     "base_uri": "https://localhost:8080/"
    },
    "id": "-cxCOWEBoVnl",
    "outputId": "2638d4b1-d787-4a1a-a62e-e58008070a24"
   },
   "outputs": [
    {
     "name": "stdout",
     "output_type": "stream",
     "text": [
      "Cloning into 'azucar'...\n",
      "remote: Enumerating objects: 298, done.\u001b[K\n",
      "remote: Counting objects: 100% (298/298), done.\u001b[K\n",
      "remote: Compressing objects: 100% (198/198), done.\u001b[K\n",
      "remote: Total 298 (delta 102), reused 287 (delta 94), pack-reused 0\u001b[K\n",
      "Receiving objects: 100% (298/298), 671.11 MiB | 2.73 MiB/s, done.\n",
      "Resolving deltas: 100% (102/102), done.\n",
      "Checking out files: 100% (207/207), done.\n"
     ]
    }
   ],
   "source": [
    "# this takes 5 minutes\n",
    "!git clone https://github.com/sbooeshaghi/azucar.git"
   ]
  },
  {
   "cell_type": "code",
   "execution_count": 3,
   "metadata": {
    "id": "ae3AQHM1uuPy"
   },
   "outputs": [],
   "source": [
    "!cat azucar/analysis/293T/obs7/out/x* > azucar/analysis/293T/obs7/out/matrix.mtx.gz"
   ]
  },
  {
   "cell_type": "code",
   "execution_count": 1,
   "metadata": {
    "id": "VgNa679GoYyV"
   },
   "outputs": [],
   "source": [
    "import glob\n",
    "import os\n",
    "from collections import defaultdict\n",
    "from scipy.io import mmread, mmwrite\n",
    "import json\n",
    "import pandas as pd"
   ]
  },
  {
   "cell_type": "code",
   "execution_count": 30,
   "metadata": {
    "id": "9vwuxSdjun3I"
   },
   "outputs": [],
   "source": [
    "base = \"azucar/analysis/293T\"\n",
    "fns = glob.glob(os.path.join(base, \"obs*\"))\n",
    "# pairs = {\n",
    "#     \"obs1\": \"obs2\",\n",
    "#     \"obs2\": \"obs1\",\n",
    "#     \"obs3\": \"obs4\",\n",
    "#     \"obs4\": \"obs3\",\n",
    "#     \"obs5\": \"obs6\",\n",
    "#     \"obs6\": \"obs5\",\n",
    "#     \"obs7\": \"obs8\",\n",
    "#     \"obs8\": \"obs7\"\n",
    "# }"
   ]
  },
  {
   "cell_type": "code",
   "execution_count": 40,
   "metadata": {
    "colab": {
     "base_uri": "https://localhost:8080/"
    },
    "id": "aCTifp9dvXxd",
    "outputId": "8b42e5ba-82e9-4917-89f0-b4a97749e767"
   },
   "outputs": [
    {
     "name": "stdout",
     "output_type": "stream",
     "text": [
      "{\n",
      "    \"obs8\": {\n",
      "        \"cell_origin\": \"293T\",\n",
      "        \"organism\": \"homo_sapiens\",\n",
      "        \"replicate\": 3,\n",
      "        \"lane_10x\": 1,\n",
      "        \"molecule_type\": \"tags\",\n",
      "        \"pair\": \"obs7\"\n",
      "    },\n",
      "    \"obs3\": {\n",
      "        \"cell_origin\": \"293T\",\n",
      "        \"organism\": \"homo_sapiens\",\n",
      "        \"replicate\": 2,\n",
      "        \"lane_10x\": 1,\n",
      "        \"molecule_type\": \"cdna\",\n",
      "        \"pair\": \"obs4\"\n",
      "    },\n",
      "    \"obs4\": {\n",
      "        \"cell_origin\": \"293T\",\n",
      "        \"organism\": \"homo_sapiens\",\n",
      "        \"replicate\": 2,\n",
      "        \"lane_10x\": 1,\n",
      "        \"molecule_type\": \"tags\",\n",
      "        \"pair\": \"obs3\"\n",
      "    },\n",
      "    \"obs5\": {\n",
      "        \"cell_origin\": \"293T\",\n",
      "        \"organism\": \"homo_sapiens\",\n",
      "        \"replicate\": 2,\n",
      "        \"lane_10x\": 2,\n",
      "        \"molecule_type\": \"cdna\",\n",
      "        \"pair\": \"obs6\"\n",
      "    },\n",
      "    \"obs1\": {\n",
      "        \"cell_origin\": \"293T\",\n",
      "        \"organism\": \"homo_sapiens\",\n",
      "        \"replicate\": 1,\n",
      "        \"lane_10x\": 1,\n",
      "        \"molecule_type\": \"cdna\",\n",
      "        \"pair\": \"obs2\"\n",
      "    },\n",
      "    \"obs7\": {\n",
      "        \"cell_origin\": \"293T\",\n",
      "        \"organism\": \"homo_sapiens\",\n",
      "        \"replicate\": 3,\n",
      "        \"lane_10x\": 1,\n",
      "        \"molecule_type\": \"cdna\",\n",
      "        \"pair\": \"obs8\"\n",
      "    },\n",
      "    \"obs6\": {\n",
      "        \"cell_origin\": \"293T\",\n",
      "        \"organism\": \"homo_sapiens\",\n",
      "        \"replicate\": 2,\n",
      "        \"lane_10x\": 2,\n",
      "        \"molecule_type\": \"tags\",\n",
      "        \"pair\": \"obs5\"\n",
      "    },\n",
      "    \"obs2\": {\n",
      "        \"cell_origin\": \"293T\",\n",
      "        \"organism\": \"homo_sapiens\",\n",
      "        \"replicate\": 1,\n",
      "        \"lane_10x\": 1,\n",
      "        \"molecule_type\": \"tags\",\n",
      "        \"pair\": \"obs1\"\n",
      "    }\n",
      "}\n"
     ]
    }
   ],
   "source": [
    "m = defaultdict()\n",
    "for fn in fns:\n",
    "  obs = fn.split('/')[-1]\n",
    "  md = json.load(open(f\"{fn}/metadata.json\", \"r\"))\n",
    "  md.update({\"pair\":pairs.get(obs, \"None\")})\n",
    "  m[obs] = md\n",
    "print(json.dumps(m, indent=4, default=str))"
   ]
  },
  {
   "cell_type": "code",
   "execution_count": 41,
   "metadata": {
    "id": "N7CJtswU5rE2"
   },
   "outputs": [],
   "source": [
    "!gunzip azucar/analysis/293T/obs*/out/*.gz\n",
    "!gunzip azucar/analysis/293T/obs*/assign/*.gz"
   ]
  },
  {
   "cell_type": "code",
   "execution_count": 112,
   "metadata": {
    "colab": {
     "base_uri": "https://localhost:8080/"
    },
    "id": "X10fE65f0G1N",
    "outputId": "f2b4674c-b6d1-4e3e-b166-a8d202a8e06a"
   },
   "outputs": [
    {
     "name": "stderr",
     "output_type": "stream",
     "text": [
      "/usr/local/lib/python3.7/dist-packages/ipykernel_launcher.py:35: SettingWithCopyWarning: \n",
      "A value is trying to be set on a copy of a slice from a DataFrame\n",
      "\n",
      "See the caveats in the documentation: https://pandas.pydata.org/pandas-docs/stable/user_guide/indexing.html#returning-a-view-versus-a-copy\n"
     ]
    },
    {
     "name": "stdout",
     "output_type": "stream",
     "text": [
      "CPU times: user 1min 59s, sys: 2.29 s, total: 2min 2s\n",
      "Wall time: 2min\n"
     ]
    }
   ],
   "source": [
    "%%time\n",
    "\n",
    "for obs, d in m.items():\n",
    "  if d[\"molecule_type\"] == \"cdna\":\n",
    "    out = os.path.join(base, obs, \"out/\")\n",
    "    mtx_fn = os.path.join(out, \"matrix.mtx\")\n",
    "    bcs_fn = os.path.join(out, \"barcodes.txt\")\n",
    "    genes_fn = os.path.join(out, \"genes.txt\")\n",
    "\n",
    "    dbco_fn = os.path.join(base, d[\"pair\"], \"out/dbco.txt\")\n",
    "    dbco_bcs_fn = os.path.join(base, d[\"pair\"], \"out/barcodes.txt\")\n",
    "\n",
    "    assignments_fn = os.path.join(base, d[\"pair\"], \"assign/assignments.txt\")\n",
    "    groups_fn = os.path.join(base, d[\"pair\"], \"assign/groups.txt\")\n",
    "    \n",
    "    # load matrix, barcodes, genes\n",
    "    mtx = mmread(mtx_fn).tocsr()\n",
    "    bcs = pd.read_csv(bcs_fn, header=None, names=[\"bcs\"])\n",
    "    genes = pd.read_csv(genes_fn, header=None, names=[\"genes\"])\n",
    "\n",
    "    # load assignments and map group names to ids\n",
    "    assn = pd.read_csv(assignments_fn, sep=\"\\t\", header=None, names = [\"bcs\", \"group_id\", \"entropy\"], index_col=0)\n",
    "    groups = pd.read_csv(groups_fn, header=None, names = [\"groups\"])\n",
    "    assn[\"group\"] = assn.group_id.map(groups[\"groups\"])\n",
    "    bcs[\"group\"] = bcs[\"bcs\"].map(assn[\"group\"])\n",
    "    bcs[\"entropy\"] = bcs[\"bcs\"].map(assn[\"entropy\"])\n",
    "\n",
    "    # load dbco counts for barcodes \n",
    "    dbco = pd.read_csv(dbco_fn, sep=\"\\t\", header=None, names = [\"dbco\"])\n",
    "    dbco.index = pd.read_csv(dbco_bcs_fn, header = None, names = [\"bcs\"]).bcs.values\n",
    "\n",
    "    # map the dbco barcodes to the actual barcodes to get the counts\n",
    "    bcs[\"dbco\"] = bcs[\"bcs\"].map(dbco[\"dbco\"])\n",
    "\n",
    "    mask = bcs[\"group\"].isna().values\n",
    "    bcs[\"group\"][mask] = \"unassigned\"\n",
    "    bcs[\"lane_10x\"] = d[\"lane_10x\"]\n",
    "    bcs[\"replicate\"] = d[\"replicate\"]\n",
    "    m[obs][\"mtx\"] = mtx\n",
    "    m[obs][\"bcs\"] = bcs\n",
    "    m[obs][\"genes\"] = genes"
   ]
  },
  {
   "cell_type": "code",
   "execution_count": 113,
   "metadata": {
    "colab": {
     "base_uri": "https://localhost:8080/"
    },
    "id": "fGTHD847A4c5",
    "outputId": "3afe8476-d22a-4970-e966-921ce23232db"
   },
   "outputs": [
    {
     "data": {
      "text/plain": [
       "dict_keys(['cell_origin', 'organism', 'replicate', 'lane_10x', 'molecule_type', 'pair', 'mtx', 'bcs', 'genes'])"
      ]
     },
     "execution_count": 113,
     "metadata": {},
     "output_type": "execute_result"
    }
   ],
   "source": [
    "m[\"obs1\"].keys()"
   ]
  },
  {
   "cell_type": "code",
   "execution_count": 155,
   "metadata": {
    "colab": {
     "base_uri": "https://localhost:8080/"
    },
    "id": "kdUXkWbpPG9U",
    "outputId": "93a3f154-2f65-4909-db81-b5ec19fef7be"
   },
   "outputs": [
    {
     "data": {
      "text/plain": [
       "Index(['bcs', 'group', 'entropy', 'dbco', 'lane_10x', 'replicate'], dtype='object')"
      ]
     },
     "execution_count": 155,
     "metadata": {},
     "output_type": "execute_result"
    }
   ],
   "source": [
    "m[\"obs1\"][\"bcs\"].columns"
   ]
  },
  {
   "cell_type": "code",
   "execution_count": 115,
   "metadata": {
    "id": "aLMvj8Mh_Vte"
   },
   "outputs": [],
   "source": [
    "b = []\n",
    "mx = []\n",
    "g = []\n",
    "for obs, d in m.items():\n",
    "  if d[\"molecule_type\"] == \"cdna\":\n",
    "    b.append(d[\"bcs\"])\n",
    "    mx.append(d[\"mtx\"])\n",
    "    g.append(d[\"genes\"])"
   ]
  },
  {
   "cell_type": "code",
   "execution_count": 117,
   "metadata": {
    "id": "K0FU2xmqBNDS"
   },
   "outputs": [],
   "source": [
    "from scipy.sparse import vstack"
   ]
  },
  {
   "cell_type": "code",
   "execution_count": 121,
   "metadata": {
    "id": "WbPHv3dvCenk"
   },
   "outputs": [],
   "source": [
    "mtx = vstack([*mx])\n",
    "bcs = pd.concat(b)"
   ]
  },
  {
   "cell_type": "code",
   "execution_count": 122,
   "metadata": {
    "colab": {
     "base_uri": "https://localhost:8080/"
    },
    "id": "QCPFcrHuC1WB",
    "outputId": "fc1a5d6d-8eaa-4c18-d115-63f4975a4cb9"
   },
   "outputs": [
    {
     "data": {
      "text/plain": [
       "<35454x60664 sparse matrix of type '<class 'numpy.longlong'>'\n",
       "\twith 63399173 stored elements in Compressed Sparse Row format>"
      ]
     },
     "execution_count": 122,
     "metadata": {},
     "output_type": "execute_result"
    }
   ],
   "source": [
    "mtx"
   ]
  },
  {
   "cell_type": "code",
   "execution_count": 126,
   "metadata": {
    "id": "SP7JIS6uDAT6"
   },
   "outputs": [],
   "source": [
    "groups = sorted(bcs.group.unique())"
   ]
  },
  {
   "cell_type": "code",
   "execution_count": 137,
   "metadata": {
    "id": "-rhIve6RDBLR"
   },
   "outputs": [],
   "source": [
    "d = {g: {\"mtx\": None, \"bcs\": None, \"genes\": None} for g in groups}\n",
    "for g in groups:\n",
    "  mask = bcs.eval(f\"group == '{g}'\").values\n",
    "  d[g][\"mtx\"] = mtx[mask]\n",
    "  d[g][\"bcs\"] = bcs[mask]\n",
    "  d[g][\"genes\"] = m[\"obs1\"][\"genes\"]"
   ]
  },
  {
   "cell_type": "code",
   "execution_count": 144,
   "metadata": {
    "id": "bFXpX-EWD5dg"
   },
   "outputs": [],
   "source": [
    "for k, v in d.items():\n",
    "  mmwrite(f\"{k}.matrix.mtx\", v[\"mtx\"])\n",
    "  v[\"bcs\"].to_csv(f\"{k}.barcodes.txt\", sep=\"\\t\", index=False, header=False)\n",
    "  v[\"genes\"].to_csv(f\"{k}.genes.txt\", sep=\"\\t\", index=False, header=False)\n"
   ]
  },
  {
   "cell_type": "code",
   "execution_count": 145,
   "metadata": {
    "id": "Fu1QQcGZG3jK"
   },
   "outputs": [],
   "source": [
    "!mkdir no_sugar control tmg unassigned"
   ]
  },
  {
   "cell_type": "code",
   "execution_count": 146,
   "metadata": {
    "id": "A-2T7UOqHpOd"
   },
   "outputs": [],
   "source": [
    "!mv no_sugar.* no_sugar\n",
    "!mv control.* control\n",
    "!mv tmg.* tmg\n",
    "!mv unassigned.* unassigned"
   ]
  },
  {
   "cell_type": "code",
   "execution_count": 147,
   "metadata": {
    "colab": {
     "base_uri": "https://localhost:8080/"
    },
    "id": "PsTOks9IHxGx",
    "outputId": "6c1c97d4-38df-4494-a2d8-2e860bc71de8"
   },
   "outputs": [
    {
     "name": "stdout",
     "output_type": "stream",
     "text": [
      "no_sugar/\n",
      "no_sugar/no_sugar.matrix.mtx\n",
      "no_sugar/no_sugar.barcodes.txt\n",
      "no_sugar/no_sugar.genes.txt\n",
      "control/\n",
      "control/control.mtx\n",
      "control/control.genes.txt\n",
      "control/control.barcodes.txt\n",
      "control/control.matrix.mtx\n",
      "tmg/\n",
      "tmg/tmg.barcodes.txt\n",
      "tmg/tmg.matrix.mtx\n",
      "tmg/tmg.genes.txt\n",
      "unassigned/\n",
      "unassigned/unassigned.genes.txt\n",
      "unassigned/unassigned.matrix.mtx\n",
      "unassigned/unassigned.barcodes.txt\n"
     ]
    }
   ],
   "source": [
    "!tar -cvf no_sugar.tar.gz no_sugar\n",
    "!tar -cvf control.tar.gz control\n",
    "!tar -cvf tmg.tar.gz tmg\n",
    "!tar -cvf unassigned.tar.gz unassigned"
   ]
  },
  {
   "cell_type": "code",
   "execution_count": 153,
   "metadata": {
    "colab": {
     "base_uri": "https://localhost:8080/"
    },
    "id": "-30MrrKiIBDP",
    "outputId": "e086cd7d-4188-419a-861e-65f3f8f31a84"
   },
   "outputs": [
    {
     "name": "stdout",
     "output_type": "stream",
     "text": [
      "total 780M\n",
      "-rw-r--r-- 1 root root 205M Nov  3 23:27 control.tar.gz\n",
      "drwxr-xr-x 2 root root 4.0K Nov  3 23:26 control\n",
      "-rw-r--r-- 1 root root  86M Nov  3 23:26 unassigned.tar.gz\n",
      "-rw-r--r-- 1 root root 188M Nov  3 23:26 tmg.tar.gz\n",
      "-rw-r--r-- 1 root root 303M Nov  3 23:25 no_sugar.tar.gz\n",
      "drwxr-xr-x 2 root root 4.0K Nov  3 23:25 unassigned\n",
      "drwxr-xr-x 2 root root 4.0K Nov  3 23:25 tmg\n",
      "drwxr-xr-x 2 root root 4.0K Nov  3 23:25 no_sugar\n",
      "drwxr-xr-x 4 root root 4.0K Nov  3 21:38 azucar\n",
      "drwxr-xr-x 1 root root 4.0K Nov  1 13:35 sample_data\n"
     ]
    }
   ],
   "source": [
    "!ls -lht"
   ]
  },
  {
   "cell_type": "code",
   "execution_count": null,
   "metadata": {
    "id": "EX54ZURSILxA"
   },
   "outputs": [],
   "source": []
  }
 ],
 "metadata": {
  "colab": {
   "authorship_tag": "ABX9TyNKrMDF+tcvJ+Uo2cc8Xvg+",
   "include_colab_link": true,
   "name": "merge_split.ipynb",
   "provenance": []
  },
  "kernelspec": {
   "display_name": "Python 3",
   "language": "python",
   "name": "python3"
  },
  "language_info": {
   "codemirror_mode": {
    "name": "ipython",
    "version": 3
   },
   "file_extension": ".py",
   "mimetype": "text/x-python",
   "name": "python",
   "nbconvert_exporter": "python",
   "pygments_lexer": "ipython3",
   "version": "3.7.4"
  }
 },
 "nbformat": 4,
 "nbformat_minor": 4
}
