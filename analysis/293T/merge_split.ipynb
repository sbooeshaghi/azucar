{
  "nbformat": 4,
  "nbformat_minor": 0,
  "metadata": {
    "colab": {
      "name": "merge_split.ipynb",
      "provenance": [],
      "include_colab_link": true
    },
    "kernelspec": {
      "display_name": "Python 3",
      "language": "python",
      "name": "python3"
    },
    "language_info": {
      "codemirror_mode": {
        "name": "ipython",
        "version": 3
      },
      "file_extension": ".py",
      "mimetype": "text/x-python",
      "name": "python",
      "nbconvert_exporter": "python",
      "pygments_lexer": "ipython3",
      "version": "3.7.4"
    }
  },
  "cells": [
    {
      "cell_type": "markdown",
      "metadata": {
        "id": "view-in-github",
        "colab_type": "text"
      },
      "source": [
        "<a href=\"https://colab.research.google.com/github/sbooeshaghi/azucar/blob/main/analysis/293T/merge_split.ipynb\" target=\"_parent\"><img src=\"https://colab.research.google.com/assets/colab-badge.svg\" alt=\"Open In Colab\"/></a>"
      ]
    },
    {
      "cell_type": "code",
      "metadata": {
        "colab": {
          "base_uri": "https://localhost:8080/"
        },
        "id": "-cxCOWEBoVnl",
        "outputId": "d5b075ab-c048-4a93-b348-84ad09a3347d"
      },
      "source": [
        "# this takes 5 minutes\n",
        "!git clone https://github.com/sbooeshaghi/azucar.git"
      ],
      "execution_count": 6,
      "outputs": [
        {
          "output_type": "stream",
          "name": "stdout",
          "text": [
            "fatal: destination path 'azucar' already exists and is not an empty directory.\n"
          ]
        }
      ]
    },
    {
      "cell_type": "code",
      "metadata": {
        "id": "ae3AQHM1uuPy"
      },
      "source": [
        "!cat azucar/analysis/293T/obs7/out/x* > azucar/analysis/293T/obs7/out/matrix.mtx.gz"
      ],
      "execution_count": 7,
      "outputs": []
    },
    {
      "cell_type": "code",
      "metadata": {
        "id": "VgNa679GoYyV"
      },
      "source": [
        "import glob\n",
        "import os\n",
        "from collections import defaultdict\n",
        "from scipy.io import mmread, mmwrite\n",
        "import json\n",
        "import pandas as pd"
      ],
      "execution_count": 8,
      "outputs": []
    },
    {
      "cell_type": "code",
      "metadata": {
        "id": "9vwuxSdjun3I"
      },
      "source": [
        "base = \"azucar/analysis/293T\"\n",
        "fns = glob.glob(os.path.join(base, \"obs*\"))\n"
      ],
      "execution_count": 9,
      "outputs": []
    },
    {
      "cell_type": "code",
      "metadata": {
        "colab": {
          "base_uri": "https://localhost:8080/"
        },
        "id": "aCTifp9dvXxd",
        "outputId": "f04beae0-269c-4fdb-c40d-1d682eb4ff9d"
      },
      "source": [
        "md = defaultdict()\n",
        "for fn in fns:\n",
        "  obs = fn.split('/')[-1]\n",
        "  m = json.load(open(f\"{fn}/metadata.json\", \"r\"))\n",
        "  md[obs] = m\n",
        "print(json.dumps(md, indent=4, default=str))"
      ],
      "execution_count": 10,
      "outputs": [
        {
          "output_type": "stream",
          "name": "stdout",
          "text": [
            "{\n",
            "    \"obs2\": {\n",
            "        \"cell_origin\": \"293T\",\n",
            "        \"organism\": \"homo_sapiens\",\n",
            "        \"replicate\": 1,\n",
            "        \"lane_10x\": 1,\n",
            "        \"molecule_type\": \"tags\",\n",
            "        \"observarion\": 2\n",
            "    },\n",
            "    \"obs1\": {\n",
            "        \"cell_origin\": \"293T\",\n",
            "        \"organism\": \"homo_sapiens\",\n",
            "        \"replicate\": 1,\n",
            "        \"lane_10x\": 1,\n",
            "        \"molecule_type\": \"cdna\",\n",
            "        \"observarion\": 1\n",
            "    },\n",
            "    \"obs5\": {\n",
            "        \"cell_origin\": \"293T\",\n",
            "        \"organism\": \"homo_sapiens\",\n",
            "        \"replicate\": 2,\n",
            "        \"lane_10x\": 2,\n",
            "        \"molecule_type\": \"cdna\",\n",
            "        \"observarion\": 5\n",
            "    },\n",
            "    \"obs6\": {\n",
            "        \"cell_origin\": \"293T\",\n",
            "        \"organism\": \"homo_sapiens\",\n",
            "        \"replicate\": 2,\n",
            "        \"lane_10x\": 2,\n",
            "        \"molecule_type\": \"tags\",\n",
            "        \"observarion\": 6\n",
            "    },\n",
            "    \"obs3\": {\n",
            "        \"cell_origin\": \"293T\",\n",
            "        \"organism\": \"homo_sapiens\",\n",
            "        \"replicate\": 2,\n",
            "        \"lane_10x\": 1,\n",
            "        \"molecule_type\": \"cdna\",\n",
            "        \"observarion\": 3\n",
            "    },\n",
            "    \"obs4\": {\n",
            "        \"cell_origin\": \"293T\",\n",
            "        \"organism\": \"homo_sapiens\",\n",
            "        \"replicate\": 2,\n",
            "        \"lane_10x\": 1,\n",
            "        \"molecule_type\": \"tags\",\n",
            "        \"observarion\": 4\n",
            "    },\n",
            "    \"obs8\": {\n",
            "        \"cell_origin\": \"293T\",\n",
            "        \"organism\": \"homo_sapiens\",\n",
            "        \"replicate\": 3,\n",
            "        \"lane_10x\": 1,\n",
            "        \"molecule_type\": \"tags\",\n",
            "        \"observarion\": 8\n",
            "    },\n",
            "    \"obs7\": {\n",
            "        \"cell_origin\": \"293T\",\n",
            "        \"organism\": \"homo_sapiens\",\n",
            "        \"replicate\": 3,\n",
            "        \"lane_10x\": 1,\n",
            "        \"molecule_type\": \"cdna\",\n",
            "        \"observarion\": 7\n",
            "    }\n",
            "}\n"
          ]
        }
      ]
    },
    {
      "cell_type": "code",
      "metadata": {
        "colab": {
          "base_uri": "https://localhost:8080/"
        },
        "id": "X10fE65f0G1N",
        "outputId": "c775a52a-36e8-479b-b3d4-666d3a064ede"
      },
      "source": [
        "%%time\n",
        "b = []\n",
        "mx = []\n",
        "g = []\n",
        "\n",
        "for obs, d in md.items():\n",
        "  if d[\"molecule_type\"] == \"cdna\":\n",
        "    out = os.path.join(base, obs, \"out/\")\n",
        "    mtx_fn = os.path.join(out, \"matrix.mtx.gz\")\n",
        "    bcs_fn = os.path.join(out, \"map.txt.gz\")\n",
        "    genes_fn = os.path.join(out, \"genes.txt.gz\")\n",
        "    \n",
        "    # load matrix, barcodes, genes\n",
        "    mtx = mmread(mtx_fn).tocsr()\n",
        "    bcs = pd.read_csv(bcs_fn, compression=\"gzip\", sep=\"\\t\")\n",
        "    genes = pd.read_csv(genes_fn, header=None, names=[\"genes\"], compression = \"gzip\")\n",
        "\n",
        "    mask = bcs[\"assignments\"].isna().values\n",
        "    bcs[\"assignments\"][mask] = \"unassigned\"\n",
        "    bcs[\"lane_10x\"] = d[\"lane_10x\"]\n",
        "    bcs[\"replicate\"] = d[\"replicate\"]\n",
        "    bcs[\"observation\"] = d[\"observarion\"]\n",
        "\n",
        "    b.append(bcs)\n",
        "    mx.append(mtx)\n",
        "    g.append(genes)"
      ],
      "execution_count": 13,
      "outputs": [
        {
          "output_type": "stream",
          "name": "stderr",
          "text": [
            "/usr/local/lib/python3.7/dist-packages/ipykernel_launcher.py:18: SettingWithCopyWarning: \n",
            "A value is trying to be set on a copy of a slice from a DataFrame\n",
            "\n",
            "See the caveats in the documentation: https://pandas.pydata.org/pandas-docs/stable/user_guide/indexing.html#returning-a-view-versus-a-copy\n"
          ]
        },
        {
          "output_type": "stream",
          "name": "stdout",
          "text": [
            "CPU times: user 3min 25s, sys: 1.58 s, total: 3min 26s\n",
            "Wall time: 3min 26s\n"
          ]
        }
      ]
    },
    {
      "cell_type": "code",
      "metadata": {
        "id": "K0FU2xmqBNDS"
      },
      "source": [
        "from scipy.sparse import vstack"
      ],
      "execution_count": 14,
      "outputs": []
    },
    {
      "cell_type": "code",
      "metadata": {
        "id": "WbPHv3dvCenk"
      },
      "source": [
        "mtx = vstack([*mx])\n",
        "bcs = pd.concat(b)"
      ],
      "execution_count": 15,
      "outputs": []
    },
    {
      "cell_type": "code",
      "metadata": {
        "colab": {
          "base_uri": "https://localhost:8080/"
        },
        "id": "QCPFcrHuC1WB",
        "outputId": "4f083a97-5eb0-46be-b26d-6c8e3ad38c25"
      },
      "source": [
        "mtx"
      ],
      "execution_count": 16,
      "outputs": [
        {
          "output_type": "execute_result",
          "data": {
            "text/plain": [
              "<25372x60664 sparse matrix of type '<class 'numpy.float64'>'\n",
              "\twith 61573342 stored elements in Compressed Sparse Row format>"
            ]
          },
          "metadata": {},
          "execution_count": 16
        }
      ]
    },
    {
      "cell_type": "code",
      "metadata": {
        "id": "SP7JIS6uDAT6"
      },
      "source": [
        "groups = sorted(bcs.assignments.unique())"
      ],
      "execution_count": 17,
      "outputs": []
    },
    {
      "cell_type": "code",
      "metadata": {
        "id": "-rhIve6RDBLR"
      },
      "source": [
        "d = {g: {\"mtx\": None, \"bcs\": None, \"genes\": None} for g in groups}\n",
        "for g in groups:\n",
        "  mask = bcs.eval(f\"assignments == '{g}'\").values\n",
        "  d[g][\"mtx\"] = mtx[mask]\n",
        "  d[g][\"bcs\"] = bcs[mask]\n",
        "  d[g][\"genes\"] = genes"
      ],
      "execution_count": 19,
      "outputs": []
    },
    {
      "cell_type": "code",
      "metadata": {
        "id": "bFXpX-EWD5dg"
      },
      "source": [
        "for k, v in d.items():\n",
        "  mmwrite(f\"{k}.matrix.mtx\", v[\"mtx\"])\n",
        "  v[\"bcs\"].to_csv(f\"{k}.barcodes.txt\", sep=\"\\t\", index=False, header=False)\n",
        "  v[\"genes\"].to_csv(f\"{k}.genes.txt\", sep=\"\\t\", index=False, header=False)\n"
      ],
      "execution_count": 20,
      "outputs": []
    },
    {
      "cell_type": "code",
      "metadata": {
        "id": "Fu1QQcGZG3jK"
      },
      "source": [
        "!mkdir no_sugar control tmg unassigned"
      ],
      "execution_count": 21,
      "outputs": []
    },
    {
      "cell_type": "code",
      "metadata": {
        "id": "A-2T7UOqHpOd"
      },
      "source": [
        "!mv no_sugar.* no_sugar\n",
        "!mv control.* control\n",
        "!mv tmg.* tmg\n",
        "!mv unassigned.* unassigned"
      ],
      "execution_count": 22,
      "outputs": []
    },
    {
      "cell_type": "code",
      "metadata": {
        "colab": {
          "base_uri": "https://localhost:8080/"
        },
        "id": "PsTOks9IHxGx",
        "outputId": "63438087-a1c3-4852-b088-21dff70b1459"
      },
      "source": [
        "!tar -cvf no_sugar.tar.gz no_sugar\n",
        "!tar -cvf control.tar.gz control\n",
        "!tar -cvf tmg.tar.gz tmg\n",
        "!tar -cvf unassigned.tar.gz unassigned"
      ],
      "execution_count": 23,
      "outputs": [
        {
          "output_type": "stream",
          "name": "stdout",
          "text": [
            "no_sugar/\n",
            "no_sugar/no_sugar.matrix.mtx\n",
            "no_sugar/no_sugar.genes.txt\n",
            "no_sugar/no_sugar.barcodes.txt\n",
            "control/\n",
            "control/control.matrix.mtx\n",
            "control/control.barcodes.txt\n",
            "control/control.genes.txt\n",
            "tmg/\n",
            "tmg/tmg.barcodes.txt\n",
            "tmg/tmg.genes.txt\n",
            "tmg/tmg.matrix.mtx\n",
            "unassigned/\n",
            "unassigned/unassigned.barcodes.txt\n",
            "unassigned/unassigned.matrix.mtx\n",
            "unassigned/unassigned.genes.txt\n"
          ]
        }
      ]
    },
    {
      "cell_type": "code",
      "metadata": {
        "colab": {
          "base_uri": "https://localhost:8080/"
        },
        "id": "-30MrrKiIBDP",
        "outputId": "0b52fa00-a04d-45ae-9c93-51bd476d1a33"
      },
      "source": [
        "!ls -lht"
      ],
      "execution_count": 24,
      "outputs": [
        {
          "output_type": "stream",
          "name": "stdout",
          "text": [
            "total 1.9G\n",
            "-rw-r--r-- 1 root root 365M Nov 11 05:38 unassigned.tar.gz\n",
            "-rw-r--r-- 1 root root 425M Nov 11 05:38 tmg.tar.gz\n",
            "-rw-r--r-- 1 root root 540M Nov 11 05:38 control.tar.gz\n",
            "-rw-r--r-- 1 root root 597M Nov 11 05:38 no_sugar.tar.gz\n",
            "drwxr-xr-x 2 root root 4.0K Nov 11 05:38 unassigned\n",
            "drwxr-xr-x 2 root root 4.0K Nov 11 05:38 tmg\n",
            "drwxr-xr-x 2 root root 4.0K Nov 11 05:38 control\n",
            "drwxr-xr-x 2 root root 4.0K Nov 11 05:38 no_sugar\n",
            "drwxr-xr-x 4 root root 4.0K Nov 11 04:57 azucar\n",
            "drwxr-xr-x 1 root root 4.0K Nov  1 13:35 sample_data\n"
          ]
        }
      ]
    },
    {
      "cell_type": "code",
      "metadata": {
        "id": "EX54ZURSILxA"
      },
      "source": [
        ""
      ],
      "execution_count": 24,
      "outputs": []
    }
  ]
}